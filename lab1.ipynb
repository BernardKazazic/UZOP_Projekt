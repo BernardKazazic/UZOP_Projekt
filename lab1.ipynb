{
 "cells": [
  {
   "cell_type": "markdown",
   "source": [
    "# UZOP Projekt\n",
    "\n",
    "\n",
    "## Collection and Validation of Psychophysiological\n",
    "## Data from Professional and Amateur Players:\n",
    "## a Multimodal eSports Dataset\n",
    "\n",
    "U radu je mjereno psihofiziološko stanje 10 igrača tijekom 22 meča MOBA igrice League of legends.\n",
    "Od 10 igrača, 5 ih je amatera, a 5 profesionalnih.\n",
    "\n",
    "Svaki tim je odigrao 11 mečeva od kojih su:\n",
    "3 bez komunikacije u timu protiv pravih igrača iste vještine\n",
    "3 sa komunikacijom protiv pravih igrača iste vještine\n",
    "2 bez komunikacije protiv botova\n",
    "3 sa komunikacijom protiv botova\n",
    "\n",
    "Skupljeni podaci senzora:\n",
    "Pokreti ruku - imu_left_hand.csv, imu_right_hand.csv\n",
    "Pokreti stolice - imu_chair_back.csv, imu_chair_seat.csv\n",
    "Pokreti glave - imu_head.csv\n",
    "Pogled - eye_tracker.csv\n",
    "Elektrodermalna aktivnost - gsr.csv\n",
    "Otkucaji srca - heart_rate.csv\n",
    "Aktivnost mišića - emg.csv\n",
    "Aktivnost mozga - eeg_band_power.csv, eeg_metrics.csv\n",
    "Temperatura lica - facial_skin_temperature.csv\n",
    "Aktivnost tipkovnice - keyboard.csv\n",
    "Aktivnost miša - mouse.csv\n",
    "Zasićenost kisikom - spo2.csv\n",
    "Podaci o okolini - environment.csv\n",
    "\n",
    "Ostali podaci:\n",
    "Meta podaci o meču - meta_info.json\n",
    "Zapis događaja tijekom meča - replay.json\n",
    "Povratne informacije igrača nakon meča - player_report.json"
   ],
   "metadata": {
    "collapsed": false
   }
  },
  {
   "cell_type": "markdown",
   "source": [
    "## Dodavanje potrebnih biblioteka"
   ],
   "metadata": {
    "collapsed": false
   }
  },
  {
   "cell_type": "code",
   "execution_count": 238,
   "outputs": [],
   "source": [
    "import pandas as pd\n",
    "import numpy as np"
   ],
   "metadata": {
    "collapsed": false
   }
  },
  {
   "cell_type": "markdown",
   "source": [
    "## Podaci o trećem meču učitani iz meta_info.json"
   ],
   "metadata": {
    "collapsed": false
   }
  },
  {
   "cell_type": "code",
   "execution_count": 300,
   "outputs": [
    {
     "name": "stdout",
     "output_type": "stream",
     "text": [
      "                            0\n",
      "match_duration           1592\n",
      "season_id                  13\n",
      "game_version    9.22.296.5720\n",
      "real_opponents              1\n",
      "communication               0\n",
      "team                 amateurs\n",
      "day_num                     0\n",
      "day_match_num               3\n"
     ]
    }
   ],
   "source": [
    "metaData = pd.read_json(\"eSports_Sensors_Dataset/matches/match_3/meta_info.json\", orient=\"index\")\n",
    "print(metaData)"
   ],
   "metadata": {
    "collapsed": false
   }
  },
  {
   "cell_type": "markdown",
   "source": [
    "## Učitavanje podataka senzora igrača iz meča bez komunikacije protiv pravih igrača"
   ],
   "metadata": {
    "collapsed": false
   }
  },
  {
   "cell_type": "code",
   "execution_count": 239,
   "outputs": [],
   "source": [
    "eegMetrics_ama = pd.read_csv(\"eSports_Sensors_Dataset/matches/match_3/player_1/eeg_metrics.csv\")\n",
    "emg_ama = pd.read_csv(\"eSports_Sensors_Dataset/matches/match_3/player_1/emg.csv\")\n",
    "eyeTracker_ama = pd.read_csv(\"eSports_Sensors_Dataset/matches/match_3/player_1/eye_tracker.csv\")\n",
    "facialSkin_ama = pd.read_csv(\"eSports_Sensors_Dataset/matches/match_3/player_1/facial_skin_temperature.csv\")\n",
    "gsr_ama = pd.read_csv(\"eSports_Sensors_Dataset/matches/match_3/player_1/gsr.csv\")\n",
    "heartRate_ama = pd.read_csv(\"eSports_Sensors_Dataset/matches/match_3/player_1/heart_rate.csv\")\n",
    "imuChairBack_ama = pd.read_csv(\"eSports_Sensors_Dataset/matches/match_3/player_1/imu_chair_back.csv\")\n",
    "imuChairSeat_ama = pd.read_csv(\"eSports_Sensors_Dataset/matches/match_3/player_1/imu_chair_seat.csv\")\n",
    "imuLeftHand_ama = pd.read_csv(\"eSports_Sensors_Dataset/matches/match_3/player_1/imu_left_hand.csv\")\n",
    "imuRightHand_ama = pd.read_csv(\"eSports_Sensors_Dataset/matches/match_3/player_1/imu_right_hand.csv\")\n",
    "imuHead_ama = pd.read_csv(\"eSports_Sensors_Dataset/matches/match_3/player_1/imu_head.csv\")\n",
    "keyboard_ama = pd.read_csv(\"eSports_Sensors_Dataset/matches/match_3/player_1/keyboard.csv\")\n",
    "mouse_ama = pd.read_csv(\"eSports_Sensors_Dataset/matches/match_3/player_1/mouse.csv\")\n",
    "o2Saturation_ama = pd.read_csv(\"eSports_Sensors_Dataset/matches/match_3/player_1/spo2.csv\")"
   ],
   "metadata": {
    "collapsed": false
   }
  },
  {
   "cell_type": "markdown",
   "source": [
    "## Početni pregled podataka"
   ],
   "metadata": {
    "collapsed": false
   }
  },
  {
   "cell_type": "markdown",
   "source": [
    "### Aktivnost mozga"
   ],
   "metadata": {
    "collapsed": false
   }
  },
  {
   "cell_type": "code",
   "execution_count": 243,
   "outputs": [
    {
     "data": {
      "text/plain": "(1588, 7)"
     },
     "execution_count": 243,
     "metadata": {},
     "output_type": "execute_result"
    }
   ],
   "source": [
    "eegMetrics_ama.shape"
   ],
   "metadata": {
    "collapsed": false
   }
  },
  {
   "cell_type": "code",
   "execution_count": 244,
   "outputs": [
    {
     "data": {
      "text/plain": "   time  Engagement  Excitement    Stress  Relaxation  Interest     Focus\n0   0.0    0.556424    0.343362  0.372889    0.374140  0.526667  0.471662\n1   1.0    0.563887    0.340924  0.370238    0.369393  0.524623  0.478231\n2   2.0    0.572415    0.338138  0.367209    0.363969  0.522288  0.485738\n3   3.0    0.581797    0.335074  0.363876    0.358002  0.519718  0.493996\n4   4.0    0.591811    0.331802  0.360319    0.351632  0.516976  0.502811",
      "text/html": "<div>\n<style scoped>\n    .dataframe tbody tr th:only-of-type {\n        vertical-align: middle;\n    }\n\n    .dataframe tbody tr th {\n        vertical-align: top;\n    }\n\n    .dataframe thead th {\n        text-align: right;\n    }\n</style>\n<table border=\"1\" class=\"dataframe\">\n  <thead>\n    <tr style=\"text-align: right;\">\n      <th></th>\n      <th>time</th>\n      <th>Engagement</th>\n      <th>Excitement</th>\n      <th>Stress</th>\n      <th>Relaxation</th>\n      <th>Interest</th>\n      <th>Focus</th>\n    </tr>\n  </thead>\n  <tbody>\n    <tr>\n      <th>0</th>\n      <td>0.0</td>\n      <td>0.556424</td>\n      <td>0.343362</td>\n      <td>0.372889</td>\n      <td>0.374140</td>\n      <td>0.526667</td>\n      <td>0.471662</td>\n    </tr>\n    <tr>\n      <th>1</th>\n      <td>1.0</td>\n      <td>0.563887</td>\n      <td>0.340924</td>\n      <td>0.370238</td>\n      <td>0.369393</td>\n      <td>0.524623</td>\n      <td>0.478231</td>\n    </tr>\n    <tr>\n      <th>2</th>\n      <td>2.0</td>\n      <td>0.572415</td>\n      <td>0.338138</td>\n      <td>0.367209</td>\n      <td>0.363969</td>\n      <td>0.522288</td>\n      <td>0.485738</td>\n    </tr>\n    <tr>\n      <th>3</th>\n      <td>3.0</td>\n      <td>0.581797</td>\n      <td>0.335074</td>\n      <td>0.363876</td>\n      <td>0.358002</td>\n      <td>0.519718</td>\n      <td>0.493996</td>\n    </tr>\n    <tr>\n      <th>4</th>\n      <td>4.0</td>\n      <td>0.591811</td>\n      <td>0.331802</td>\n      <td>0.360319</td>\n      <td>0.351632</td>\n      <td>0.516976</td>\n      <td>0.502811</td>\n    </tr>\n  </tbody>\n</table>\n</div>"
     },
     "execution_count": 244,
     "metadata": {},
     "output_type": "execute_result"
    }
   ],
   "source": [
    "eegMetrics_ama.head()"
   ],
   "metadata": {
    "collapsed": false
   }
  },
  {
   "cell_type": "code",
   "execution_count": 245,
   "outputs": [
    {
     "data": {
      "text/plain": "array(['time', 'Engagement', 'Excitement', 'Stress', 'Relaxation',\n       'Interest', 'Focus'], dtype=object)"
     },
     "execution_count": 245,
     "metadata": {},
     "output_type": "execute_result"
    }
   ],
   "source": [
    "eegMetrics_ama.columns.values"
   ],
   "metadata": {
    "collapsed": false
   }
  },
  {
   "cell_type": "markdown",
   "source": [
    "Značajke eegMetrics_ama:\n",
    "time - vrijeme u minutama\n",
    "engagement - aktivnost mozga\n",
    "excitement - uzbuđenje\n",
    "stress - stres\n",
    "relaxation - opuštenost\n",
    "interest - interes\n",
    "focus - fokus"
   ],
   "metadata": {
    "collapsed": false
   }
  },
  {
   "cell_type": "markdown",
   "source": [
    "### Aktivnost mišića"
   ],
   "metadata": {
    "collapsed": false
   }
  },
  {
   "cell_type": "code",
   "execution_count": 246,
   "outputs": [
    {
     "data": {
      "text/plain": "(1593, 3)"
     },
     "execution_count": 246,
     "metadata": {},
     "output_type": "execute_result"
    }
   ],
   "source": [
    "emg_ama.shape"
   ],
   "metadata": {
    "collapsed": false
   }
  },
  {
   "cell_type": "code",
   "execution_count": 247,
   "outputs": [
    {
     "data": {
      "text/plain": "   time  emg_right_hand  emg_left_hand\n0   0.0        5.928571       7.071429\n1   1.0        7.150794       6.801587\n2   2.0        5.949643       6.845280\n3   3.0        5.378126       5.991212\n4   4.0        6.137803       6.666715",
      "text/html": "<div>\n<style scoped>\n    .dataframe tbody tr th:only-of-type {\n        vertical-align: middle;\n    }\n\n    .dataframe tbody tr th {\n        vertical-align: top;\n    }\n\n    .dataframe thead th {\n        text-align: right;\n    }\n</style>\n<table border=\"1\" class=\"dataframe\">\n  <thead>\n    <tr style=\"text-align: right;\">\n      <th></th>\n      <th>time</th>\n      <th>emg_right_hand</th>\n      <th>emg_left_hand</th>\n    </tr>\n  </thead>\n  <tbody>\n    <tr>\n      <th>0</th>\n      <td>0.0</td>\n      <td>5.928571</td>\n      <td>7.071429</td>\n    </tr>\n    <tr>\n      <th>1</th>\n      <td>1.0</td>\n      <td>7.150794</td>\n      <td>6.801587</td>\n    </tr>\n    <tr>\n      <th>2</th>\n      <td>2.0</td>\n      <td>5.949643</td>\n      <td>6.845280</td>\n    </tr>\n    <tr>\n      <th>3</th>\n      <td>3.0</td>\n      <td>5.378126</td>\n      <td>5.991212</td>\n    </tr>\n    <tr>\n      <th>4</th>\n      <td>4.0</td>\n      <td>6.137803</td>\n      <td>6.666715</td>\n    </tr>\n  </tbody>\n</table>\n</div>"
     },
     "execution_count": 247,
     "metadata": {},
     "output_type": "execute_result"
    }
   ],
   "source": [
    "emg_ama.head()"
   ],
   "metadata": {
    "collapsed": false
   }
  },
  {
   "cell_type": "code",
   "execution_count": 248,
   "outputs": [
    {
     "data": {
      "text/plain": "array(['time', 'emg_right_hand', 'emg_left_hand'], dtype=object)"
     },
     "execution_count": 248,
     "metadata": {},
     "output_type": "execute_result"
    }
   ],
   "source": [
    "emg_ama.columns.values"
   ],
   "metadata": {
    "collapsed": false
   }
  },
  {
   "cell_type": "markdown",
   "source": [
    "Značajke emg_ama:\n",
    "time - vrijeme u minutama\n",
    "emg_right_hand - kontrakcija mišića desne ruke\n",
    "emg_left_hand - kontrakcija mišića lijeve ruke\n",
    "\n"
   ],
   "metadata": {
    "collapsed": false
   }
  },
  {
   "cell_type": "markdown",
   "source": [
    "### Praćenje pogleda"
   ],
   "metadata": {
    "collapsed": false
   }
  },
  {
   "cell_type": "code",
   "execution_count": 249,
   "outputs": [
    {
     "data": {
      "text/plain": "(1592, 3)"
     },
     "execution_count": 249,
     "metadata": {},
     "output_type": "execute_result"
    }
   ],
   "source": [
    "eyeTracker_ama.shape"
   ],
   "metadata": {
    "collapsed": false
   }
  },
  {
   "cell_type": "code",
   "execution_count": 250,
   "outputs": [
    {
     "data": {
      "text/plain": "   time  gaze_movement  pupil_diameter\n0   0.0    2747.526039        4.621058\n1   1.0    2475.337210        4.522496\n2   2.0    2856.365637        4.512538\n3   3.0    1601.237059        4.487380\n4   4.0    2672.972754        4.553411",
      "text/html": "<div>\n<style scoped>\n    .dataframe tbody tr th:only-of-type {\n        vertical-align: middle;\n    }\n\n    .dataframe tbody tr th {\n        vertical-align: top;\n    }\n\n    .dataframe thead th {\n        text-align: right;\n    }\n</style>\n<table border=\"1\" class=\"dataframe\">\n  <thead>\n    <tr style=\"text-align: right;\">\n      <th></th>\n      <th>time</th>\n      <th>gaze_movement</th>\n      <th>pupil_diameter</th>\n    </tr>\n  </thead>\n  <tbody>\n    <tr>\n      <th>0</th>\n      <td>0.0</td>\n      <td>2747.526039</td>\n      <td>4.621058</td>\n    </tr>\n    <tr>\n      <th>1</th>\n      <td>1.0</td>\n      <td>2475.337210</td>\n      <td>4.522496</td>\n    </tr>\n    <tr>\n      <th>2</th>\n      <td>2.0</td>\n      <td>2856.365637</td>\n      <td>4.512538</td>\n    </tr>\n    <tr>\n      <th>3</th>\n      <td>3.0</td>\n      <td>1601.237059</td>\n      <td>4.487380</td>\n    </tr>\n    <tr>\n      <th>4</th>\n      <td>4.0</td>\n      <td>2672.972754</td>\n      <td>4.553411</td>\n    </tr>\n  </tbody>\n</table>\n</div>"
     },
     "execution_count": 250,
     "metadata": {},
     "output_type": "execute_result"
    }
   ],
   "source": [
    "eyeTracker_ama.head()"
   ],
   "metadata": {
    "collapsed": false
   }
  },
  {
   "cell_type": "code",
   "execution_count": 251,
   "outputs": [
    {
     "data": {
      "text/plain": "array(['time', 'gaze_movement', 'pupil_diameter'], dtype=object)"
     },
     "execution_count": 251,
     "metadata": {},
     "output_type": "execute_result"
    }
   ],
   "source": [
    "eyeTracker_ama.columns.values"
   ],
   "metadata": {
    "collapsed": false
   }
  },
  {
   "cell_type": "markdown",
   "source": [
    "Značajke eyeTracker_ama:\n",
    "time - vrijeme u minutama\n",
    "gaze_movement - kretanje pogleda\n",
    "pupil_diameter - promjer zjenice"
   ],
   "metadata": {
    "collapsed": false
   }
  },
  {
   "cell_type": "markdown",
   "source": [
    "### Temperatura lica"
   ],
   "metadata": {
    "collapsed": false
   }
  },
  {
   "cell_type": "code",
   "execution_count": 252,
   "outputs": [
    {
     "data": {
      "text/plain": "(73, 2)"
     },
     "execution_count": 252,
     "metadata": {},
     "output_type": "execute_result"
    }
   ],
   "source": [
    "facialSkin_ama.shape"
   ],
   "metadata": {
    "collapsed": false
   }
  },
  {
   "cell_type": "code",
   "execution_count": 253,
   "outputs": [
    {
     "data": {
      "text/plain": "   time  facial_skin_temperature\n0   1.0                35.224500\n1   2.0                35.218567\n2   3.0                35.211786\n3   4.0                35.204327\n4   5.0                35.196365",
      "text/html": "<div>\n<style scoped>\n    .dataframe tbody tr th:only-of-type {\n        vertical-align: middle;\n    }\n\n    .dataframe tbody tr th {\n        vertical-align: top;\n    }\n\n    .dataframe thead th {\n        text-align: right;\n    }\n</style>\n<table border=\"1\" class=\"dataframe\">\n  <thead>\n    <tr style=\"text-align: right;\">\n      <th></th>\n      <th>time</th>\n      <th>facial_skin_temperature</th>\n    </tr>\n  </thead>\n  <tbody>\n    <tr>\n      <th>0</th>\n      <td>1.0</td>\n      <td>35.224500</td>\n    </tr>\n    <tr>\n      <th>1</th>\n      <td>2.0</td>\n      <td>35.218567</td>\n    </tr>\n    <tr>\n      <th>2</th>\n      <td>3.0</td>\n      <td>35.211786</td>\n    </tr>\n    <tr>\n      <th>3</th>\n      <td>4.0</td>\n      <td>35.204327</td>\n    </tr>\n    <tr>\n      <th>4</th>\n      <td>5.0</td>\n      <td>35.196365</td>\n    </tr>\n  </tbody>\n</table>\n</div>"
     },
     "execution_count": 253,
     "metadata": {},
     "output_type": "execute_result"
    }
   ],
   "source": [
    "facialSkin_ama.head()"
   ],
   "metadata": {
    "collapsed": false
   }
  },
  {
   "cell_type": "code",
   "execution_count": 254,
   "outputs": [
    {
     "data": {
      "text/plain": "array(['time', 'facial_skin_temperature'], dtype=object)"
     },
     "execution_count": 254,
     "metadata": {},
     "output_type": "execute_result"
    }
   ],
   "source": [
    "facialSkin_ama.columns.values"
   ],
   "metadata": {
    "collapsed": false
   }
  },
  {
   "cell_type": "markdown",
   "source": [
    "Značajke facialSkin_ama:\n",
    "time - vrijeme u minutama\n",
    "facial_skin_temperature - temperatura kože lica u stupnjevima celzijusa\n",
    "\n"
   ],
   "metadata": {
    "collapsed": false
   }
  },
  {
   "cell_type": "markdown",
   "source": [
    "### Elektrodermalna aktivnost"
   ],
   "metadata": {
    "collapsed": false
   }
  },
  {
   "cell_type": "code",
   "execution_count": 255,
   "outputs": [
    {
     "data": {
      "text/plain": "(1593, 2)"
     },
     "execution_count": 255,
     "metadata": {},
     "output_type": "execute_result"
    }
   ],
   "source": [
    "gsr_ama.shape"
   ],
   "metadata": {
    "collapsed": false
   }
  },
  {
   "cell_type": "code",
   "execution_count": 256,
   "outputs": [
    {
     "data": {
      "text/plain": "   time           gsr\n0   0.0  27458.488272\n1   1.0  27547.022201\n2   2.0  27654.406824\n3   3.0  27836.016424\n4   4.0  27882.153697",
      "text/html": "<div>\n<style scoped>\n    .dataframe tbody tr th:only-of-type {\n        vertical-align: middle;\n    }\n\n    .dataframe tbody tr th {\n        vertical-align: top;\n    }\n\n    .dataframe thead th {\n        text-align: right;\n    }\n</style>\n<table border=\"1\" class=\"dataframe\">\n  <thead>\n    <tr style=\"text-align: right;\">\n      <th></th>\n      <th>time</th>\n      <th>gsr</th>\n    </tr>\n  </thead>\n  <tbody>\n    <tr>\n      <th>0</th>\n      <td>0.0</td>\n      <td>27458.488272</td>\n    </tr>\n    <tr>\n      <th>1</th>\n      <td>1.0</td>\n      <td>27547.022201</td>\n    </tr>\n    <tr>\n      <th>2</th>\n      <td>2.0</td>\n      <td>27654.406824</td>\n    </tr>\n    <tr>\n      <th>3</th>\n      <td>3.0</td>\n      <td>27836.016424</td>\n    </tr>\n    <tr>\n      <th>4</th>\n      <td>4.0</td>\n      <td>27882.153697</td>\n    </tr>\n  </tbody>\n</table>\n</div>"
     },
     "execution_count": 256,
     "metadata": {},
     "output_type": "execute_result"
    }
   ],
   "source": [
    "gsr_ama.head()"
   ],
   "metadata": {
    "collapsed": false
   }
  },
  {
   "cell_type": "code",
   "execution_count": 257,
   "outputs": [
    {
     "data": {
      "text/plain": "array(['time', 'gsr'], dtype=object)"
     },
     "execution_count": 257,
     "metadata": {},
     "output_type": "execute_result"
    }
   ],
   "source": [
    "gsr_ama.columns.values"
   ],
   "metadata": {
    "collapsed": false
   }
  },
  {
   "cell_type": "markdown",
   "source": [
    "Značajke gsr_ama:\n",
    "time - vrijeme u minutama\n",
    "gsr - provodljivost kože\n",
    "\n"
   ],
   "metadata": {
    "collapsed": false
   }
  },
  {
   "cell_type": "markdown",
   "source": [
    "### Otkucaji srca"
   ],
   "metadata": {
    "collapsed": false
   }
  },
  {
   "cell_type": "code",
   "execution_count": 258,
   "outputs": [
    {
     "data": {
      "text/plain": "(24, 2)"
     },
     "execution_count": 258,
     "metadata": {},
     "output_type": "execute_result"
    }
   ],
   "source": [
    "heartRate_ama.shape"
   ],
   "metadata": {
    "collapsed": false
   }
  },
  {
   "cell_type": "code",
   "execution_count": 259,
   "outputs": [
    {
     "data": {
      "text/plain": "   time  heart_rate\n0   0.0   66.000000\n1   1.0   65.333333\n2   2.0   65.142857\n3   3.0   65.066667\n4   4.0   65.032258",
      "text/html": "<div>\n<style scoped>\n    .dataframe tbody tr th:only-of-type {\n        vertical-align: middle;\n    }\n\n    .dataframe tbody tr th {\n        vertical-align: top;\n    }\n\n    .dataframe thead th {\n        text-align: right;\n    }\n</style>\n<table border=\"1\" class=\"dataframe\">\n  <thead>\n    <tr style=\"text-align: right;\">\n      <th></th>\n      <th>time</th>\n      <th>heart_rate</th>\n    </tr>\n  </thead>\n  <tbody>\n    <tr>\n      <th>0</th>\n      <td>0.0</td>\n      <td>66.000000</td>\n    </tr>\n    <tr>\n      <th>1</th>\n      <td>1.0</td>\n      <td>65.333333</td>\n    </tr>\n    <tr>\n      <th>2</th>\n      <td>2.0</td>\n      <td>65.142857</td>\n    </tr>\n    <tr>\n      <th>3</th>\n      <td>3.0</td>\n      <td>65.066667</td>\n    </tr>\n    <tr>\n      <th>4</th>\n      <td>4.0</td>\n      <td>65.032258</td>\n    </tr>\n  </tbody>\n</table>\n</div>"
     },
     "execution_count": 259,
     "metadata": {},
     "output_type": "execute_result"
    }
   ],
   "source": [
    "heartRate_ama.head()"
   ],
   "metadata": {
    "collapsed": false
   }
  },
  {
   "cell_type": "code",
   "execution_count": 260,
   "outputs": [
    {
     "data": {
      "text/plain": "array(['time', 'heart_rate'], dtype=object)"
     },
     "execution_count": 260,
     "metadata": {},
     "output_type": "execute_result"
    }
   ],
   "source": [
    "heartRate_ama.columns.values"
   ],
   "metadata": {
    "collapsed": false
   }
  },
  {
   "cell_type": "markdown",
   "source": [
    "Značajke heartRate_ama:\n",
    "time - vrijeme u minutama\n",
    "heart_rate - broj otkucaja srca po minuti\n",
    "\n"
   ],
   "metadata": {
    "collapsed": false
   }
  },
  {
   "cell_type": "markdown",
   "source": [
    "### Pokreti stolice, ruku i glave"
   ],
   "metadata": {
    "collapsed": false
   }
  },
  {
   "cell_type": "code",
   "execution_count": 261,
   "outputs": [
    {
     "data": {
      "text/plain": "(1593, 17)"
     },
     "execution_count": 261,
     "metadata": {},
     "output_type": "execute_result"
    }
   ],
   "source": [
    "imuChairBack_ama.shape"
   ],
   "metadata": {
    "collapsed": false
   }
  },
  {
   "cell_type": "code",
   "execution_count": 262,
   "outputs": [
    {
     "data": {
      "text/plain": "   time  linaccel_x  linaccel_y  linaccel_z  gravity_x  gravity_y  gravity_z  \\\n0   0.0    0.006000   -0.280462    0.074000       0.03      -9.74      -1.12   \n1   1.0    0.003111   -0.278639    0.074061       0.03      -9.74      -1.12   \n2   2.0    0.002405   -0.279595    0.074597       0.03      -9.74      -1.12   \n3   3.0    0.002517   -0.279893    0.076740       0.03      -9.74      -1.12   \n4   4.0    0.002409   -0.280901    0.077946       0.03      -9.74      -1.12   \n\n     gyro_x    gyro_y    gyro_z  euler_x  euler_y  euler_z  quaternion_w  \\\n0 -0.050000 -0.009615  0.004808  345.125    0.125     96.5      0.659912   \n1  0.002904  0.003108  0.007916  345.125    0.125     96.5      0.659912   \n2  0.017986  0.003006  0.019017  345.125    0.125     96.5      0.659912   \n3 -0.000325  0.004993 -0.000356  345.125    0.125     96.5      0.659912   \n4  0.028627 -0.007510 -0.020520  345.125    0.125     96.5      0.659912   \n\n   quaternion_y  quaternion_x  quaternion_z  \n0     -0.098877     -0.739807      0.086121  \n1     -0.098877     -0.739807      0.086121  \n2     -0.098877     -0.739807      0.086121  \n3     -0.098877     -0.739807      0.086121  \n4     -0.098877     -0.739807      0.086121  ",
      "text/html": "<div>\n<style scoped>\n    .dataframe tbody tr th:only-of-type {\n        vertical-align: middle;\n    }\n\n    .dataframe tbody tr th {\n        vertical-align: top;\n    }\n\n    .dataframe thead th {\n        text-align: right;\n    }\n</style>\n<table border=\"1\" class=\"dataframe\">\n  <thead>\n    <tr style=\"text-align: right;\">\n      <th></th>\n      <th>time</th>\n      <th>linaccel_x</th>\n      <th>linaccel_y</th>\n      <th>linaccel_z</th>\n      <th>gravity_x</th>\n      <th>gravity_y</th>\n      <th>gravity_z</th>\n      <th>gyro_x</th>\n      <th>gyro_y</th>\n      <th>gyro_z</th>\n      <th>euler_x</th>\n      <th>euler_y</th>\n      <th>euler_z</th>\n      <th>quaternion_w</th>\n      <th>quaternion_y</th>\n      <th>quaternion_x</th>\n      <th>quaternion_z</th>\n    </tr>\n  </thead>\n  <tbody>\n    <tr>\n      <th>0</th>\n      <td>0.0</td>\n      <td>0.006000</td>\n      <td>-0.280462</td>\n      <td>0.074000</td>\n      <td>0.03</td>\n      <td>-9.74</td>\n      <td>-1.12</td>\n      <td>-0.050000</td>\n      <td>-0.009615</td>\n      <td>0.004808</td>\n      <td>345.125</td>\n      <td>0.125</td>\n      <td>96.5</td>\n      <td>0.659912</td>\n      <td>-0.098877</td>\n      <td>-0.739807</td>\n      <td>0.086121</td>\n    </tr>\n    <tr>\n      <th>1</th>\n      <td>1.0</td>\n      <td>0.003111</td>\n      <td>-0.278639</td>\n      <td>0.074061</td>\n      <td>0.03</td>\n      <td>-9.74</td>\n      <td>-1.12</td>\n      <td>0.002904</td>\n      <td>0.003108</td>\n      <td>0.007916</td>\n      <td>345.125</td>\n      <td>0.125</td>\n      <td>96.5</td>\n      <td>0.659912</td>\n      <td>-0.098877</td>\n      <td>-0.739807</td>\n      <td>0.086121</td>\n    </tr>\n    <tr>\n      <th>2</th>\n      <td>2.0</td>\n      <td>0.002405</td>\n      <td>-0.279595</td>\n      <td>0.074597</td>\n      <td>0.03</td>\n      <td>-9.74</td>\n      <td>-1.12</td>\n      <td>0.017986</td>\n      <td>0.003006</td>\n      <td>0.019017</td>\n      <td>345.125</td>\n      <td>0.125</td>\n      <td>96.5</td>\n      <td>0.659912</td>\n      <td>-0.098877</td>\n      <td>-0.739807</td>\n      <td>0.086121</td>\n    </tr>\n    <tr>\n      <th>3</th>\n      <td>3.0</td>\n      <td>0.002517</td>\n      <td>-0.279893</td>\n      <td>0.076740</td>\n      <td>0.03</td>\n      <td>-9.74</td>\n      <td>-1.12</td>\n      <td>-0.000325</td>\n      <td>0.004993</td>\n      <td>-0.000356</td>\n      <td>345.125</td>\n      <td>0.125</td>\n      <td>96.5</td>\n      <td>0.659912</td>\n      <td>-0.098877</td>\n      <td>-0.739807</td>\n      <td>0.086121</td>\n    </tr>\n    <tr>\n      <th>4</th>\n      <td>4.0</td>\n      <td>0.002409</td>\n      <td>-0.280901</td>\n      <td>0.077946</td>\n      <td>0.03</td>\n      <td>-9.74</td>\n      <td>-1.12</td>\n      <td>0.028627</td>\n      <td>-0.007510</td>\n      <td>-0.020520</td>\n      <td>345.125</td>\n      <td>0.125</td>\n      <td>96.5</td>\n      <td>0.659912</td>\n      <td>-0.098877</td>\n      <td>-0.739807</td>\n      <td>0.086121</td>\n    </tr>\n  </tbody>\n</table>\n</div>"
     },
     "execution_count": 262,
     "metadata": {},
     "output_type": "execute_result"
    }
   ],
   "source": [
    "imuChairBack_ama.head()"
   ],
   "metadata": {
    "collapsed": false
   }
  },
  {
   "cell_type": "code",
   "execution_count": 263,
   "outputs": [
    {
     "data": {
      "text/plain": "array(['time', 'linaccel_x', 'linaccel_y', 'linaccel_z', 'gravity_x',\n       'gravity_y', 'gravity_z', 'gyro_x', 'gyro_y', 'gyro_z', 'euler_x',\n       'euler_y', 'euler_z', 'quaternion_w', 'quaternion_y',\n       'quaternion_x', 'quaternion_z'], dtype=object)"
     },
     "execution_count": 263,
     "metadata": {},
     "output_type": "execute_result"
    }
   ],
   "source": [
    "imuChairBack_ama.columns.values"
   ],
   "metadata": {
    "collapsed": false
   }
  },
  {
   "cell_type": "code",
   "execution_count": 264,
   "outputs": [
    {
     "data": {
      "text/plain": "(1593, 17)"
     },
     "execution_count": 264,
     "metadata": {},
     "output_type": "execute_result"
    }
   ],
   "source": [
    "imuChairSeat_ama.shape"
   ],
   "metadata": {
    "collapsed": false
   }
  },
  {
   "cell_type": "code",
   "execution_count": 265,
   "outputs": [
    {
     "data": {
      "text/plain": "   time  linaccel_x  linaccel_y  linaccel_z  gravity_x  gravity_y  gravity_z  \\\n0   0.0    0.127077   -0.051538    0.068769      -0.07      -1.26      -9.72   \n1   1.0    0.129026   -0.052533    0.069489      -0.07      -1.26      -9.72   \n2   2.0    0.129493   -0.052425    0.067370      -0.07      -1.26      -9.72   \n3   3.0    0.130748   -0.051624    0.067296      -0.07      -1.26      -9.72   \n4   4.0    0.131553   -0.051739    0.067103      -0.07      -1.26      -9.72   \n\n     gyro_x    gyro_y    gyro_z   euler_x  euler_y   euler_z  quaternion_w  \\\n0  0.009615  0.040385 -0.016346  160.9375  -0.4375  172.5625      0.063293   \n1 -0.023310  0.031138 -0.004186  160.9375  -0.4375  172.5625      0.063293   \n2 -0.020593  0.016135  0.001554  160.9375  -0.4375  172.5625      0.063293   \n3 -0.010636  0.012658 -0.010557  160.9375  -0.4375  172.5625      0.063293   \n4 -0.005146  0.000666 -0.001138  160.9375  -0.4375  172.5625      0.063293   \n\n   quaternion_y  quaternion_x  quaternion_z  \n0     -0.165039     -0.984131      0.014709  \n1     -0.165039     -0.984131      0.014709  \n2     -0.165039     -0.984131      0.014709  \n3     -0.165039     -0.984131      0.014709  \n4     -0.165039     -0.984131      0.014709  ",
      "text/html": "<div>\n<style scoped>\n    .dataframe tbody tr th:only-of-type {\n        vertical-align: middle;\n    }\n\n    .dataframe tbody tr th {\n        vertical-align: top;\n    }\n\n    .dataframe thead th {\n        text-align: right;\n    }\n</style>\n<table border=\"1\" class=\"dataframe\">\n  <thead>\n    <tr style=\"text-align: right;\">\n      <th></th>\n      <th>time</th>\n      <th>linaccel_x</th>\n      <th>linaccel_y</th>\n      <th>linaccel_z</th>\n      <th>gravity_x</th>\n      <th>gravity_y</th>\n      <th>gravity_z</th>\n      <th>gyro_x</th>\n      <th>gyro_y</th>\n      <th>gyro_z</th>\n      <th>euler_x</th>\n      <th>euler_y</th>\n      <th>euler_z</th>\n      <th>quaternion_w</th>\n      <th>quaternion_y</th>\n      <th>quaternion_x</th>\n      <th>quaternion_z</th>\n    </tr>\n  </thead>\n  <tbody>\n    <tr>\n      <th>0</th>\n      <td>0.0</td>\n      <td>0.127077</td>\n      <td>-0.051538</td>\n      <td>0.068769</td>\n      <td>-0.07</td>\n      <td>-1.26</td>\n      <td>-9.72</td>\n      <td>0.009615</td>\n      <td>0.040385</td>\n      <td>-0.016346</td>\n      <td>160.9375</td>\n      <td>-0.4375</td>\n      <td>172.5625</td>\n      <td>0.063293</td>\n      <td>-0.165039</td>\n      <td>-0.984131</td>\n      <td>0.014709</td>\n    </tr>\n    <tr>\n      <th>1</th>\n      <td>1.0</td>\n      <td>0.129026</td>\n      <td>-0.052533</td>\n      <td>0.069489</td>\n      <td>-0.07</td>\n      <td>-1.26</td>\n      <td>-9.72</td>\n      <td>-0.023310</td>\n      <td>0.031138</td>\n      <td>-0.004186</td>\n      <td>160.9375</td>\n      <td>-0.4375</td>\n      <td>172.5625</td>\n      <td>0.063293</td>\n      <td>-0.165039</td>\n      <td>-0.984131</td>\n      <td>0.014709</td>\n    </tr>\n    <tr>\n      <th>2</th>\n      <td>2.0</td>\n      <td>0.129493</td>\n      <td>-0.052425</td>\n      <td>0.067370</td>\n      <td>-0.07</td>\n      <td>-1.26</td>\n      <td>-9.72</td>\n      <td>-0.020593</td>\n      <td>0.016135</td>\n      <td>0.001554</td>\n      <td>160.9375</td>\n      <td>-0.4375</td>\n      <td>172.5625</td>\n      <td>0.063293</td>\n      <td>-0.165039</td>\n      <td>-0.984131</td>\n      <td>0.014709</td>\n    </tr>\n    <tr>\n      <th>3</th>\n      <td>3.0</td>\n      <td>0.130748</td>\n      <td>-0.051624</td>\n      <td>0.067296</td>\n      <td>-0.07</td>\n      <td>-1.26</td>\n      <td>-9.72</td>\n      <td>-0.010636</td>\n      <td>0.012658</td>\n      <td>-0.010557</td>\n      <td>160.9375</td>\n      <td>-0.4375</td>\n      <td>172.5625</td>\n      <td>0.063293</td>\n      <td>-0.165039</td>\n      <td>-0.984131</td>\n      <td>0.014709</td>\n    </tr>\n    <tr>\n      <th>4</th>\n      <td>4.0</td>\n      <td>0.131553</td>\n      <td>-0.051739</td>\n      <td>0.067103</td>\n      <td>-0.07</td>\n      <td>-1.26</td>\n      <td>-9.72</td>\n      <td>-0.005146</td>\n      <td>0.000666</td>\n      <td>-0.001138</td>\n      <td>160.9375</td>\n      <td>-0.4375</td>\n      <td>172.5625</td>\n      <td>0.063293</td>\n      <td>-0.165039</td>\n      <td>-0.984131</td>\n      <td>0.014709</td>\n    </tr>\n  </tbody>\n</table>\n</div>"
     },
     "execution_count": 265,
     "metadata": {},
     "output_type": "execute_result"
    }
   ],
   "source": [
    "imuChairSeat_ama.head()"
   ],
   "metadata": {
    "collapsed": false
   }
  },
  {
   "cell_type": "code",
   "execution_count": 266,
   "outputs": [
    {
     "data": {
      "text/plain": "array(['time', 'linaccel_x', 'linaccel_y', 'linaccel_z', 'gravity_x',\n       'gravity_y', 'gravity_z', 'gyro_x', 'gyro_y', 'gyro_z', 'euler_x',\n       'euler_y', 'euler_z', 'quaternion_w', 'quaternion_y',\n       'quaternion_x', 'quaternion_z'], dtype=object)"
     },
     "execution_count": 266,
     "metadata": {},
     "output_type": "execute_result"
    }
   ],
   "source": [
    "imuChairSeat_ama.columns.values"
   ],
   "metadata": {
    "collapsed": false
   }
  },
  {
   "cell_type": "code",
   "execution_count": 267,
   "outputs": [
    {
     "data": {
      "text/plain": "(1593, 17)"
     },
     "execution_count": 267,
     "metadata": {},
     "output_type": "execute_result"
    }
   ],
   "source": [
    "imuLeftHand_ama.shape"
   ],
   "metadata": {
    "collapsed": false
   }
  },
  {
   "cell_type": "code",
   "execution_count": 268,
   "outputs": [
    {
     "data": {
      "text/plain": "   time  linaccel_x  linaccel_y  linaccel_z  gravity_x  gravity_y  gravity_z  \\\n0   0.0   -0.135714    0.012143   -0.014762  -1.258095   1.688810   9.570000   \n1   1.0   -0.127619    0.010873   -0.011111  -1.296825   1.677222   9.568413   \n2   2.0   -0.131070    0.011907   -0.010476  -1.300033   1.670447   9.569320   \n3   3.0   -0.136353    0.006727   -0.008791  -1.278162   1.662144   9.572674   \n4   4.0   -0.132945    0.000675   -0.005931  -1.272401   1.654457   9.576455   \n\n     gyro_x    gyro_y    gyro_z    euler_x   euler_y   euler_z  quaternion_w  \\\n0 -0.346726  0.038690 -0.090774  86.937500 -7.364583 -9.992560      0.721341   \n1 -0.175099  0.029762 -0.222718  86.937500 -7.598710 -9.955853      0.721247   \n2 -0.217029 -0.200660 -0.152071  86.947082 -7.618959 -9.922718      0.721158   \n3 -0.263069 -0.223722 -0.160397  86.975305 -7.485596 -9.874504      0.721145   \n4 -0.172453 -0.285672 -0.209870  86.996922 -7.452708 -9.810244      0.721017   \n\n   quaternion_y  quaternion_x  quaternion_z  \n0     -0.012710      0.107522     -0.684072  \n1     -0.010981      0.108592     -0.684030  \n2     -0.010683      0.108484     -0.684138  \n3     -0.011245      0.107408     -0.684307  \n4     -0.011122      0.106833     -0.684537  ",
      "text/html": "<div>\n<style scoped>\n    .dataframe tbody tr th:only-of-type {\n        vertical-align: middle;\n    }\n\n    .dataframe tbody tr th {\n        vertical-align: top;\n    }\n\n    .dataframe thead th {\n        text-align: right;\n    }\n</style>\n<table border=\"1\" class=\"dataframe\">\n  <thead>\n    <tr style=\"text-align: right;\">\n      <th></th>\n      <th>time</th>\n      <th>linaccel_x</th>\n      <th>linaccel_y</th>\n      <th>linaccel_z</th>\n      <th>gravity_x</th>\n      <th>gravity_y</th>\n      <th>gravity_z</th>\n      <th>gyro_x</th>\n      <th>gyro_y</th>\n      <th>gyro_z</th>\n      <th>euler_x</th>\n      <th>euler_y</th>\n      <th>euler_z</th>\n      <th>quaternion_w</th>\n      <th>quaternion_y</th>\n      <th>quaternion_x</th>\n      <th>quaternion_z</th>\n    </tr>\n  </thead>\n  <tbody>\n    <tr>\n      <th>0</th>\n      <td>0.0</td>\n      <td>-0.135714</td>\n      <td>0.012143</td>\n      <td>-0.014762</td>\n      <td>-1.258095</td>\n      <td>1.688810</td>\n      <td>9.570000</td>\n      <td>-0.346726</td>\n      <td>0.038690</td>\n      <td>-0.090774</td>\n      <td>86.937500</td>\n      <td>-7.364583</td>\n      <td>-9.992560</td>\n      <td>0.721341</td>\n      <td>-0.012710</td>\n      <td>0.107522</td>\n      <td>-0.684072</td>\n    </tr>\n    <tr>\n      <th>1</th>\n      <td>1.0</td>\n      <td>-0.127619</td>\n      <td>0.010873</td>\n      <td>-0.011111</td>\n      <td>-1.296825</td>\n      <td>1.677222</td>\n      <td>9.568413</td>\n      <td>-0.175099</td>\n      <td>0.029762</td>\n      <td>-0.222718</td>\n      <td>86.937500</td>\n      <td>-7.598710</td>\n      <td>-9.955853</td>\n      <td>0.721247</td>\n      <td>-0.010981</td>\n      <td>0.108592</td>\n      <td>-0.684030</td>\n    </tr>\n    <tr>\n      <th>2</th>\n      <td>2.0</td>\n      <td>-0.131070</td>\n      <td>0.011907</td>\n      <td>-0.010476</td>\n      <td>-1.300033</td>\n      <td>1.670447</td>\n      <td>9.569320</td>\n      <td>-0.217029</td>\n      <td>-0.200660</td>\n      <td>-0.152071</td>\n      <td>86.947082</td>\n      <td>-7.618959</td>\n      <td>-9.922718</td>\n      <td>0.721158</td>\n      <td>-0.010683</td>\n      <td>0.108484</td>\n      <td>-0.684138</td>\n    </tr>\n    <tr>\n      <th>3</th>\n      <td>3.0</td>\n      <td>-0.136353</td>\n      <td>0.006727</td>\n      <td>-0.008791</td>\n      <td>-1.278162</td>\n      <td>1.662144</td>\n      <td>9.572674</td>\n      <td>-0.263069</td>\n      <td>-0.223722</td>\n      <td>-0.160397</td>\n      <td>86.975305</td>\n      <td>-7.485596</td>\n      <td>-9.874504</td>\n      <td>0.721145</td>\n      <td>-0.011245</td>\n      <td>0.107408</td>\n      <td>-0.684307</td>\n    </tr>\n    <tr>\n      <th>4</th>\n      <td>4.0</td>\n      <td>-0.132945</td>\n      <td>0.000675</td>\n      <td>-0.005931</td>\n      <td>-1.272401</td>\n      <td>1.654457</td>\n      <td>9.576455</td>\n      <td>-0.172453</td>\n      <td>-0.285672</td>\n      <td>-0.209870</td>\n      <td>86.996922</td>\n      <td>-7.452708</td>\n      <td>-9.810244</td>\n      <td>0.721017</td>\n      <td>-0.011122</td>\n      <td>0.106833</td>\n      <td>-0.684537</td>\n    </tr>\n  </tbody>\n</table>\n</div>"
     },
     "execution_count": 268,
     "metadata": {},
     "output_type": "execute_result"
    }
   ],
   "source": [
    "imuLeftHand_ama.head()"
   ],
   "metadata": {
    "collapsed": false
   }
  },
  {
   "cell_type": "code",
   "execution_count": 269,
   "outputs": [
    {
     "data": {
      "text/plain": "array(['time', 'linaccel_x', 'linaccel_y', 'linaccel_z', 'gravity_x',\n       'gravity_y', 'gravity_z', 'gyro_x', 'gyro_y', 'gyro_z', 'euler_x',\n       'euler_y', 'euler_z', 'quaternion_w', 'quaternion_y',\n       'quaternion_x', 'quaternion_z'], dtype=object)"
     },
     "execution_count": 269,
     "metadata": {},
     "output_type": "execute_result"
    }
   ],
   "source": [
    "imuLeftHand_ama.columns.values"
   ],
   "metadata": {
    "collapsed": false
   }
  },
  {
   "cell_type": "code",
   "execution_count": 270,
   "outputs": [
    {
     "data": {
      "text/plain": "(1593, 17)"
     },
     "execution_count": 270,
     "metadata": {},
     "output_type": "execute_result"
    }
   ],
   "source": [
    "imuRightHand_ama.shape"
   ],
   "metadata": {
    "collapsed": false
   }
  },
  {
   "cell_type": "code",
   "execution_count": 271,
   "outputs": [
    {
     "data": {
      "text/plain": "   time  linaccel_x  linaccel_y  linaccel_z  gravity_x  gravity_y  gravity_z  \\\n0   0.0   -0.063095   -0.022619    0.022857   2.389048   1.730238   9.346429   \n1   1.0   -0.048810   -0.021984    0.021429   2.442698   1.717381   9.333889   \n2   2.0   -0.027190   -0.022244    0.016292   2.528264   1.691700   9.314942   \n3   3.0   -0.039225   -0.016234    0.016969   2.652897   1.670110   9.283168   \n4   4.0   -0.014722   -0.009662    0.014146   2.715918   1.638440   9.267468   \n\n     gyro_x    gyro_y    gyro_z     euler_x    euler_y    euler_z  \\\n0 -0.319940 -0.552083  0.095238  122.248512  14.105655 -10.471726   \n1  0.050099 -0.098710  0.021825  122.284226  14.426091 -10.414187   \n2 -0.370515 -1.571050 -0.150925  122.360487  14.940450 -10.284651   \n3 -0.102988  0.246518 -0.070432  122.524325  15.694161 -10.179992   \n4 -0.391769 -3.071846 -0.276015  122.580319  16.088304 -10.015319   \n\n   quaternion_w  quaternion_y  quaternion_x  quaternion_z  \n0     -0.477023      0.137977      0.065047      0.865548  \n1     -0.476597      0.138766      0.067797      0.865428  \n2     -0.475785      0.139776      0.072438      0.865316  \n3     -0.474190      0.141821      0.078857      0.865284  \n4     -0.473561      0.142033      0.082692      0.865157  ",
      "text/html": "<div>\n<style scoped>\n    .dataframe tbody tr th:only-of-type {\n        vertical-align: middle;\n    }\n\n    .dataframe tbody tr th {\n        vertical-align: top;\n    }\n\n    .dataframe thead th {\n        text-align: right;\n    }\n</style>\n<table border=\"1\" class=\"dataframe\">\n  <thead>\n    <tr style=\"text-align: right;\">\n      <th></th>\n      <th>time</th>\n      <th>linaccel_x</th>\n      <th>linaccel_y</th>\n      <th>linaccel_z</th>\n      <th>gravity_x</th>\n      <th>gravity_y</th>\n      <th>gravity_z</th>\n      <th>gyro_x</th>\n      <th>gyro_y</th>\n      <th>gyro_z</th>\n      <th>euler_x</th>\n      <th>euler_y</th>\n      <th>euler_z</th>\n      <th>quaternion_w</th>\n      <th>quaternion_y</th>\n      <th>quaternion_x</th>\n      <th>quaternion_z</th>\n    </tr>\n  </thead>\n  <tbody>\n    <tr>\n      <th>0</th>\n      <td>0.0</td>\n      <td>-0.063095</td>\n      <td>-0.022619</td>\n      <td>0.022857</td>\n      <td>2.389048</td>\n      <td>1.730238</td>\n      <td>9.346429</td>\n      <td>-0.319940</td>\n      <td>-0.552083</td>\n      <td>0.095238</td>\n      <td>122.248512</td>\n      <td>14.105655</td>\n      <td>-10.471726</td>\n      <td>-0.477023</td>\n      <td>0.137977</td>\n      <td>0.065047</td>\n      <td>0.865548</td>\n    </tr>\n    <tr>\n      <th>1</th>\n      <td>1.0</td>\n      <td>-0.048810</td>\n      <td>-0.021984</td>\n      <td>0.021429</td>\n      <td>2.442698</td>\n      <td>1.717381</td>\n      <td>9.333889</td>\n      <td>0.050099</td>\n      <td>-0.098710</td>\n      <td>0.021825</td>\n      <td>122.284226</td>\n      <td>14.426091</td>\n      <td>-10.414187</td>\n      <td>-0.476597</td>\n      <td>0.138766</td>\n      <td>0.067797</td>\n      <td>0.865428</td>\n    </tr>\n    <tr>\n      <th>2</th>\n      <td>2.0</td>\n      <td>-0.027190</td>\n      <td>-0.022244</td>\n      <td>0.016292</td>\n      <td>2.528264</td>\n      <td>1.691700</td>\n      <td>9.314942</td>\n      <td>-0.370515</td>\n      <td>-1.571050</td>\n      <td>-0.150925</td>\n      <td>122.360487</td>\n      <td>14.940450</td>\n      <td>-10.284651</td>\n      <td>-0.475785</td>\n      <td>0.139776</td>\n      <td>0.072438</td>\n      <td>0.865316</td>\n    </tr>\n    <tr>\n      <th>3</th>\n      <td>3.0</td>\n      <td>-0.039225</td>\n      <td>-0.016234</td>\n      <td>0.016969</td>\n      <td>2.652897</td>\n      <td>1.670110</td>\n      <td>9.283168</td>\n      <td>-0.102988</td>\n      <td>0.246518</td>\n      <td>-0.070432</td>\n      <td>122.524325</td>\n      <td>15.694161</td>\n      <td>-10.179992</td>\n      <td>-0.474190</td>\n      <td>0.141821</td>\n      <td>0.078857</td>\n      <td>0.865284</td>\n    </tr>\n    <tr>\n      <th>4</th>\n      <td>4.0</td>\n      <td>-0.014722</td>\n      <td>-0.009662</td>\n      <td>0.014146</td>\n      <td>2.715918</td>\n      <td>1.638440</td>\n      <td>9.267468</td>\n      <td>-0.391769</td>\n      <td>-3.071846</td>\n      <td>-0.276015</td>\n      <td>122.580319</td>\n      <td>16.088304</td>\n      <td>-10.015319</td>\n      <td>-0.473561</td>\n      <td>0.142033</td>\n      <td>0.082692</td>\n      <td>0.865157</td>\n    </tr>\n  </tbody>\n</table>\n</div>"
     },
     "execution_count": 271,
     "metadata": {},
     "output_type": "execute_result"
    }
   ],
   "source": [
    "imuRightHand_ama.head()"
   ],
   "metadata": {
    "collapsed": false
   }
  },
  {
   "cell_type": "code",
   "execution_count": 272,
   "outputs": [
    {
     "data": {
      "text/plain": "array(['time', 'linaccel_x', 'linaccel_y', 'linaccel_z', 'gravity_x',\n       'gravity_y', 'gravity_z', 'gyro_x', 'gyro_y', 'gyro_z', 'euler_x',\n       'euler_y', 'euler_z', 'quaternion_w', 'quaternion_y',\n       'quaternion_x', 'quaternion_z'], dtype=object)"
     },
     "execution_count": 272,
     "metadata": {},
     "output_type": "execute_result"
    }
   ],
   "source": [
    "imuRightHand_ama.columns.values"
   ],
   "metadata": {
    "collapsed": false
   }
  },
  {
   "cell_type": "markdown",
   "source": [
    "Značajke imuChairBack_0, imuChairSeat_0, imuLeftHand_0, imuRightHand_0:\n",
    "time - vrijeme u minutama\n",
    "linaccel_x - linearno ubrzanje na x osi\n",
    "linaccel_y - linearno ubrzanje na y osi\n",
    "linaccel_z - linearno ubrzanje na z osi\n",
    "gravity_x - ubrzanje gravitacije na x osi\n",
    "gravity_y - ubrzanje gravitacije na y osi\n",
    "gravity_z - ubrzanje gravitacije na z osi\n",
    "gyro_x - rotacijska brzina oko x osi\n",
    "gyro_y - rotacijska brzina oko y osi\n",
    "gyro_z - rotacijska brzina oko z osi\n",
    "euler_x - eulerov kut x osi\n",
    "euler_y - eulerov kut y osi\n",
    "euler_z - eulerov kut z osi\n",
    "quaternion_w - vrijednost w kvaterniona\n",
    "quaternion_y - vrijednost y kvaterniona\n",
    "quaternion_x - vrijednost x kvaterniona\n",
    "quaternion_z - vrijednost z kvaterniona"
   ],
   "metadata": {
    "collapsed": false
   }
  },
  {
   "cell_type": "code",
   "execution_count": 273,
   "outputs": [
    {
     "data": {
      "text/plain": "(1592, 4)"
     },
     "execution_count": 273,
     "metadata": {},
     "output_type": "execute_result"
    }
   ],
   "source": [
    "imuHead_ama.shape"
   ],
   "metadata": {
    "collapsed": false
   }
  },
  {
   "cell_type": "code",
   "execution_count": 274,
   "outputs": [
    {
     "data": {
      "text/plain": "   time  rot_x  rot_y  rot_z\n0   0.0    0.0    0.0    0.0\n1   1.0    0.0    0.0    0.0\n2   2.0    0.0    0.0    0.0\n3   3.0    0.0    0.0    0.0\n4   4.0    0.0    0.0    0.0",
      "text/html": "<div>\n<style scoped>\n    .dataframe tbody tr th:only-of-type {\n        vertical-align: middle;\n    }\n\n    .dataframe tbody tr th {\n        vertical-align: top;\n    }\n\n    .dataframe thead th {\n        text-align: right;\n    }\n</style>\n<table border=\"1\" class=\"dataframe\">\n  <thead>\n    <tr style=\"text-align: right;\">\n      <th></th>\n      <th>time</th>\n      <th>rot_x</th>\n      <th>rot_y</th>\n      <th>rot_z</th>\n    </tr>\n  </thead>\n  <tbody>\n    <tr>\n      <th>0</th>\n      <td>0.0</td>\n      <td>0.0</td>\n      <td>0.0</td>\n      <td>0.0</td>\n    </tr>\n    <tr>\n      <th>1</th>\n      <td>1.0</td>\n      <td>0.0</td>\n      <td>0.0</td>\n      <td>0.0</td>\n    </tr>\n    <tr>\n      <th>2</th>\n      <td>2.0</td>\n      <td>0.0</td>\n      <td>0.0</td>\n      <td>0.0</td>\n    </tr>\n    <tr>\n      <th>3</th>\n      <td>3.0</td>\n      <td>0.0</td>\n      <td>0.0</td>\n      <td>0.0</td>\n    </tr>\n    <tr>\n      <th>4</th>\n      <td>4.0</td>\n      <td>0.0</td>\n      <td>0.0</td>\n      <td>0.0</td>\n    </tr>\n  </tbody>\n</table>\n</div>"
     },
     "execution_count": 274,
     "metadata": {},
     "output_type": "execute_result"
    }
   ],
   "source": [
    "imuHead_ama.head()"
   ],
   "metadata": {
    "collapsed": false
   }
  },
  {
   "cell_type": "code",
   "execution_count": 275,
   "outputs": [
    {
     "data": {
      "text/plain": "array(['time', 'rot_x', 'rot_y', 'rot_z'], dtype=object)"
     },
     "execution_count": 275,
     "metadata": {},
     "output_type": "execute_result"
    }
   ],
   "source": [
    "imuHead_ama.columns.values"
   ],
   "metadata": {
    "collapsed": false
   }
  },
  {
   "cell_type": "markdown",
   "source": [
    "Značajke imuHead_ama:\n",
    "time - vrijeme u minutama\n",
    "rot_x - rotacija glave oko x osi\n",
    "rot_y - rotacija glave oko y osi\n",
    "rot_z - rotacija glave oko z osi"
   ],
   "metadata": {
    "collapsed": false
   }
  },
  {
   "cell_type": "markdown",
   "source": [
    "### Tipkovnica"
   ],
   "metadata": {
    "collapsed": false
   }
  },
  {
   "cell_type": "code",
   "execution_count": 276,
   "outputs": [
    {
     "data": {
      "text/plain": "(1593, 2)"
     },
     "execution_count": 276,
     "metadata": {},
     "output_type": "execute_result"
    }
   ],
   "source": [
    "keyboard_ama.shape"
   ],
   "metadata": {
    "collapsed": false
   }
  },
  {
   "cell_type": "code",
   "execution_count": 277,
   "outputs": [
    {
     "data": {
      "text/plain": "   time  buttons_pressed\n0   0.0              0.0\n1   1.0              0.0\n2   2.0              0.0\n3   3.0              0.0\n4   4.0              0.0",
      "text/html": "<div>\n<style scoped>\n    .dataframe tbody tr th:only-of-type {\n        vertical-align: middle;\n    }\n\n    .dataframe tbody tr th {\n        vertical-align: top;\n    }\n\n    .dataframe thead th {\n        text-align: right;\n    }\n</style>\n<table border=\"1\" class=\"dataframe\">\n  <thead>\n    <tr style=\"text-align: right;\">\n      <th></th>\n      <th>time</th>\n      <th>buttons_pressed</th>\n    </tr>\n  </thead>\n  <tbody>\n    <tr>\n      <th>0</th>\n      <td>0.0</td>\n      <td>0.0</td>\n    </tr>\n    <tr>\n      <th>1</th>\n      <td>1.0</td>\n      <td>0.0</td>\n    </tr>\n    <tr>\n      <th>2</th>\n      <td>2.0</td>\n      <td>0.0</td>\n    </tr>\n    <tr>\n      <th>3</th>\n      <td>3.0</td>\n      <td>0.0</td>\n    </tr>\n    <tr>\n      <th>4</th>\n      <td>4.0</td>\n      <td>0.0</td>\n    </tr>\n  </tbody>\n</table>\n</div>"
     },
     "execution_count": 277,
     "metadata": {},
     "output_type": "execute_result"
    }
   ],
   "source": [
    "keyboard_ama.head()"
   ],
   "metadata": {
    "collapsed": false
   }
  },
  {
   "cell_type": "code",
   "execution_count": 278,
   "outputs": [
    {
     "data": {
      "text/plain": "array(['time', 'buttons_pressed'], dtype=object)"
     },
     "execution_count": 278,
     "metadata": {},
     "output_type": "execute_result"
    }
   ],
   "source": [
    "keyboard_ama.columns.values"
   ],
   "metadata": {
    "collapsed": false
   }
  },
  {
   "cell_type": "markdown",
   "source": [
    "Značajke keyboard_ama:\n",
    "time - vrijeme u minutama\n",
    "buttons_pressed - broj pritisnutih tipki"
   ],
   "metadata": {
    "collapsed": false
   }
  },
  {
   "cell_type": "markdown",
   "source": [
    "### Miš"
   ],
   "metadata": {
    "collapsed": false
   }
  },
  {
   "cell_type": "code",
   "execution_count": 279,
   "outputs": [
    {
     "data": {
      "text/plain": "(1592, 3)"
     },
     "execution_count": 279,
     "metadata": {},
     "output_type": "execute_result"
    }
   ],
   "source": [
    "mouse_ama.shape"
   ],
   "metadata": {
    "collapsed": false
   }
  },
  {
   "cell_type": "code",
   "execution_count": 280,
   "outputs": [
    {
     "data": {
      "text/plain": "   time  mouse_movement  mouse_clicks\n0   0.0     1512.203046        1.0000\n1   1.0     2625.344249        1.5000\n2   2.0     2505.449371        3.7500\n3   3.0     1986.794607        1.8750\n4   4.0     4464.766116        0.9375",
      "text/html": "<div>\n<style scoped>\n    .dataframe tbody tr th:only-of-type {\n        vertical-align: middle;\n    }\n\n    .dataframe tbody tr th {\n        vertical-align: top;\n    }\n\n    .dataframe thead th {\n        text-align: right;\n    }\n</style>\n<table border=\"1\" class=\"dataframe\">\n  <thead>\n    <tr style=\"text-align: right;\">\n      <th></th>\n      <th>time</th>\n      <th>mouse_movement</th>\n      <th>mouse_clicks</th>\n    </tr>\n  </thead>\n  <tbody>\n    <tr>\n      <th>0</th>\n      <td>0.0</td>\n      <td>1512.203046</td>\n      <td>1.0000</td>\n    </tr>\n    <tr>\n      <th>1</th>\n      <td>1.0</td>\n      <td>2625.344249</td>\n      <td>1.5000</td>\n    </tr>\n    <tr>\n      <th>2</th>\n      <td>2.0</td>\n      <td>2505.449371</td>\n      <td>3.7500</td>\n    </tr>\n    <tr>\n      <th>3</th>\n      <td>3.0</td>\n      <td>1986.794607</td>\n      <td>1.8750</td>\n    </tr>\n    <tr>\n      <th>4</th>\n      <td>4.0</td>\n      <td>4464.766116</td>\n      <td>0.9375</td>\n    </tr>\n  </tbody>\n</table>\n</div>"
     },
     "execution_count": 280,
     "metadata": {},
     "output_type": "execute_result"
    }
   ],
   "source": [
    "mouse_ama.head()"
   ],
   "metadata": {
    "collapsed": false
   }
  },
  {
   "cell_type": "code",
   "execution_count": 281,
   "outputs": [
    {
     "data": {
      "text/plain": "array(['time', 'mouse_movement', 'mouse_clicks'], dtype=object)"
     },
     "execution_count": 281,
     "metadata": {},
     "output_type": "execute_result"
    }
   ],
   "source": [
    "mouse_ama.columns.values"
   ],
   "metadata": {
    "collapsed": false
   }
  },
  {
   "cell_type": "markdown",
   "source": [
    "Značajke mouse_ama:\n",
    "time - vrijeme u minutama\n",
    "mouse_movement - kretanje miša\n",
    "mouse_clicks - klikovi mišem"
   ],
   "metadata": {
    "collapsed": false
   }
  },
  {
   "cell_type": "markdown",
   "source": [
    "### Zasićenost kisikom"
   ],
   "metadata": {
    "collapsed": false
   }
  },
  {
   "cell_type": "code",
   "execution_count": 282,
   "outputs": [
    {
     "data": {
      "text/plain": "(1585, 2)"
     },
     "execution_count": 282,
     "metadata": {},
     "output_type": "execute_result"
    }
   ],
   "source": [
    "o2Saturation_ama.shape"
   ],
   "metadata": {
    "collapsed": false
   }
  },
  {
   "cell_type": "code",
   "execution_count": 283,
   "outputs": [
    {
     "data": {
      "text/plain": "   time       spo2\n0   5.0  99.854424\n1   6.0  99.736685\n2   7.0  99.602127\n3   8.0  99.454113\n4   9.0  99.296115",
      "text/html": "<div>\n<style scoped>\n    .dataframe tbody tr th:only-of-type {\n        vertical-align: middle;\n    }\n\n    .dataframe tbody tr th {\n        vertical-align: top;\n    }\n\n    .dataframe thead th {\n        text-align: right;\n    }\n</style>\n<table border=\"1\" class=\"dataframe\">\n  <thead>\n    <tr style=\"text-align: right;\">\n      <th></th>\n      <th>time</th>\n      <th>spo2</th>\n    </tr>\n  </thead>\n  <tbody>\n    <tr>\n      <th>0</th>\n      <td>5.0</td>\n      <td>99.854424</td>\n    </tr>\n    <tr>\n      <th>1</th>\n      <td>6.0</td>\n      <td>99.736685</td>\n    </tr>\n    <tr>\n      <th>2</th>\n      <td>7.0</td>\n      <td>99.602127</td>\n    </tr>\n    <tr>\n      <th>3</th>\n      <td>8.0</td>\n      <td>99.454113</td>\n    </tr>\n    <tr>\n      <th>4</th>\n      <td>9.0</td>\n      <td>99.296115</td>\n    </tr>\n  </tbody>\n</table>\n</div>"
     },
     "execution_count": 283,
     "metadata": {},
     "output_type": "execute_result"
    }
   ],
   "source": [
    "o2Saturation_ama.head()"
   ],
   "metadata": {
    "collapsed": false
   }
  },
  {
   "cell_type": "code",
   "execution_count": 284,
   "outputs": [
    {
     "data": {
      "text/plain": "array(['time', 'spo2'], dtype=object)"
     },
     "execution_count": 284,
     "metadata": {},
     "output_type": "execute_result"
    }
   ],
   "source": [
    "o2Saturation_ama.columns.values"
   ],
   "metadata": {
    "collapsed": false
   }
  },
  {
   "cell_type": "markdown",
   "source": [
    "Značajke o2Saturation_0:\n",
    "time - vrijeme u minutama\n",
    "spo2 - postotak zasićenosti kisikom"
   ],
   "metadata": {
    "collapsed": false
   }
  },
  {
   "cell_type": "markdown",
   "source": [
    "## Deskriptivna analiza"
   ],
   "metadata": {
    "collapsed": false
   }
  },
  {
   "cell_type": "markdown",
   "source": [
    "### Aktivnost mozga"
   ],
   "metadata": {
    "collapsed": false
   }
  },
  {
   "cell_type": "code",
   "execution_count": 286,
   "outputs": [
    {
     "data": {
      "text/plain": "              time   Engagement   Excitement       Stress   Relaxation  \\\ncount  1588.000000  1588.000000  1588.000000  1588.000000  1588.000000   \nmean    793.500000     0.557478     0.394072     0.355242     0.352916   \nstd     458.560429     0.090772     0.181272     0.043825     0.080306   \nmin       0.000000     0.195258     0.188626     0.263240     0.245416   \n25%     396.750000     0.505800     0.230695     0.323839     0.293903   \n50%     793.500000     0.564340     0.339967     0.341835     0.330432   \n75%    1190.250000     0.621471     0.529323     0.373425     0.391684   \nmax    1587.000000     0.759162     0.827265     0.516677     0.640684   \n\n          Interest        Focus  \ncount  1588.000000  1588.000000  \nmean      0.504966     0.409063  \nstd       0.030718     0.112209  \nmin       0.483878     0.112941  \n25%       0.490834     0.330115  \n50%       0.494924     0.418875  \n75%       0.504715     0.492250  \nmax       0.708061     0.646209  ",
      "text/html": "<div>\n<style scoped>\n    .dataframe tbody tr th:only-of-type {\n        vertical-align: middle;\n    }\n\n    .dataframe tbody tr th {\n        vertical-align: top;\n    }\n\n    .dataframe thead th {\n        text-align: right;\n    }\n</style>\n<table border=\"1\" class=\"dataframe\">\n  <thead>\n    <tr style=\"text-align: right;\">\n      <th></th>\n      <th>time</th>\n      <th>Engagement</th>\n      <th>Excitement</th>\n      <th>Stress</th>\n      <th>Relaxation</th>\n      <th>Interest</th>\n      <th>Focus</th>\n    </tr>\n  </thead>\n  <tbody>\n    <tr>\n      <th>count</th>\n      <td>1588.000000</td>\n      <td>1588.000000</td>\n      <td>1588.000000</td>\n      <td>1588.000000</td>\n      <td>1588.000000</td>\n      <td>1588.000000</td>\n      <td>1588.000000</td>\n    </tr>\n    <tr>\n      <th>mean</th>\n      <td>793.500000</td>\n      <td>0.557478</td>\n      <td>0.394072</td>\n      <td>0.355242</td>\n      <td>0.352916</td>\n      <td>0.504966</td>\n      <td>0.409063</td>\n    </tr>\n    <tr>\n      <th>std</th>\n      <td>458.560429</td>\n      <td>0.090772</td>\n      <td>0.181272</td>\n      <td>0.043825</td>\n      <td>0.080306</td>\n      <td>0.030718</td>\n      <td>0.112209</td>\n    </tr>\n    <tr>\n      <th>min</th>\n      <td>0.000000</td>\n      <td>0.195258</td>\n      <td>0.188626</td>\n      <td>0.263240</td>\n      <td>0.245416</td>\n      <td>0.483878</td>\n      <td>0.112941</td>\n    </tr>\n    <tr>\n      <th>25%</th>\n      <td>396.750000</td>\n      <td>0.505800</td>\n      <td>0.230695</td>\n      <td>0.323839</td>\n      <td>0.293903</td>\n      <td>0.490834</td>\n      <td>0.330115</td>\n    </tr>\n    <tr>\n      <th>50%</th>\n      <td>793.500000</td>\n      <td>0.564340</td>\n      <td>0.339967</td>\n      <td>0.341835</td>\n      <td>0.330432</td>\n      <td>0.494924</td>\n      <td>0.418875</td>\n    </tr>\n    <tr>\n      <th>75%</th>\n      <td>1190.250000</td>\n      <td>0.621471</td>\n      <td>0.529323</td>\n      <td>0.373425</td>\n      <td>0.391684</td>\n      <td>0.504715</td>\n      <td>0.492250</td>\n    </tr>\n    <tr>\n      <th>max</th>\n      <td>1587.000000</td>\n      <td>0.759162</td>\n      <td>0.827265</td>\n      <td>0.516677</td>\n      <td>0.640684</td>\n      <td>0.708061</td>\n      <td>0.646209</td>\n    </tr>\n  </tbody>\n</table>\n</div>"
     },
     "execution_count": 286,
     "metadata": {},
     "output_type": "execute_result"
    }
   ],
   "source": [
    "eegMetrics_ama.describe()"
   ],
   "metadata": {
    "collapsed": false
   }
  },
  {
   "cell_type": "markdown",
   "source": [
    "Možemo vidjeti da nema nedostajućih vrijednosti u podacima koje imamo, ali igra traje 1593 sekundi, a ovdje imamo 1588 sekundi podataka.\n"
   ],
   "metadata": {
    "collapsed": false
   }
  },
  {
   "cell_type": "code",
   "execution_count": null,
   "outputs": [],
   "source": [],
   "metadata": {
    "collapsed": false
   }
  },
  {
   "cell_type": "markdown",
   "source": [
    "### Aktivnost mišića"
   ],
   "metadata": {
    "collapsed": false
   }
  },
  {
   "cell_type": "code",
   "execution_count": 287,
   "outputs": [
    {
     "data": {
      "text/plain": "              time  emg_right_hand  emg_left_hand\ncount  1593.000000     1593.000000    1593.000000\nmean    796.000000       11.718149       8.784216\nstd     460.003804       10.230218       3.427746\nmin       0.000000        4.341739       1.956530\n25%     398.000000        7.413596       6.845280\n50%     796.000000        8.555730       9.030345\n75%    1194.000000       10.982263      10.538571\nmax    1592.000000      118.361838      49.902548",
      "text/html": "<div>\n<style scoped>\n    .dataframe tbody tr th:only-of-type {\n        vertical-align: middle;\n    }\n\n    .dataframe tbody tr th {\n        vertical-align: top;\n    }\n\n    .dataframe thead th {\n        text-align: right;\n    }\n</style>\n<table border=\"1\" class=\"dataframe\">\n  <thead>\n    <tr style=\"text-align: right;\">\n      <th></th>\n      <th>time</th>\n      <th>emg_right_hand</th>\n      <th>emg_left_hand</th>\n    </tr>\n  </thead>\n  <tbody>\n    <tr>\n      <th>count</th>\n      <td>1593.000000</td>\n      <td>1593.000000</td>\n      <td>1593.000000</td>\n    </tr>\n    <tr>\n      <th>mean</th>\n      <td>796.000000</td>\n      <td>11.718149</td>\n      <td>8.784216</td>\n    </tr>\n    <tr>\n      <th>std</th>\n      <td>460.003804</td>\n      <td>10.230218</td>\n      <td>3.427746</td>\n    </tr>\n    <tr>\n      <th>min</th>\n      <td>0.000000</td>\n      <td>4.341739</td>\n      <td>1.956530</td>\n    </tr>\n    <tr>\n      <th>25%</th>\n      <td>398.000000</td>\n      <td>7.413596</td>\n      <td>6.845280</td>\n    </tr>\n    <tr>\n      <th>50%</th>\n      <td>796.000000</td>\n      <td>8.555730</td>\n      <td>9.030345</td>\n    </tr>\n    <tr>\n      <th>75%</th>\n      <td>1194.000000</td>\n      <td>10.982263</td>\n      <td>10.538571</td>\n    </tr>\n    <tr>\n      <th>max</th>\n      <td>1592.000000</td>\n      <td>118.361838</td>\n      <td>49.902548</td>\n    </tr>\n  </tbody>\n</table>\n</div>"
     },
     "execution_count": 287,
     "metadata": {},
     "output_type": "execute_result"
    }
   ],
   "source": [
    "emg_ama.describe()"
   ],
   "metadata": {
    "collapsed": false
   }
  },
  {
   "cell_type": "markdown",
   "source": [
    "### Praćenje pogleda"
   ],
   "metadata": {
    "collapsed": false
   }
  },
  {
   "cell_type": "code",
   "execution_count": 288,
   "outputs": [
    {
     "data": {
      "text/plain": "              time  gaze_movement  pupil_diameter\ncount  1592.000000    1592.000000     1592.000000\nmean    795.500000    1642.998473        4.563371\nstd     459.715129     736.402289        0.329757\nmin       0.000000       0.000000        3.620024\n25%     397.750000    1085.787439        4.356494\n50%     795.500000    1557.365235        4.563037\n75%    1193.250000    2115.380799        4.769361\nmax    1591.000000    5425.627305        5.801210",
      "text/html": "<div>\n<style scoped>\n    .dataframe tbody tr th:only-of-type {\n        vertical-align: middle;\n    }\n\n    .dataframe tbody tr th {\n        vertical-align: top;\n    }\n\n    .dataframe thead th {\n        text-align: right;\n    }\n</style>\n<table border=\"1\" class=\"dataframe\">\n  <thead>\n    <tr style=\"text-align: right;\">\n      <th></th>\n      <th>time</th>\n      <th>gaze_movement</th>\n      <th>pupil_diameter</th>\n    </tr>\n  </thead>\n  <tbody>\n    <tr>\n      <th>count</th>\n      <td>1592.000000</td>\n      <td>1592.000000</td>\n      <td>1592.000000</td>\n    </tr>\n    <tr>\n      <th>mean</th>\n      <td>795.500000</td>\n      <td>1642.998473</td>\n      <td>4.563371</td>\n    </tr>\n    <tr>\n      <th>std</th>\n      <td>459.715129</td>\n      <td>736.402289</td>\n      <td>0.329757</td>\n    </tr>\n    <tr>\n      <th>min</th>\n      <td>0.000000</td>\n      <td>0.000000</td>\n      <td>3.620024</td>\n    </tr>\n    <tr>\n      <th>25%</th>\n      <td>397.750000</td>\n      <td>1085.787439</td>\n      <td>4.356494</td>\n    </tr>\n    <tr>\n      <th>50%</th>\n      <td>795.500000</td>\n      <td>1557.365235</td>\n      <td>4.563037</td>\n    </tr>\n    <tr>\n      <th>75%</th>\n      <td>1193.250000</td>\n      <td>2115.380799</td>\n      <td>4.769361</td>\n    </tr>\n    <tr>\n      <th>max</th>\n      <td>1591.000000</td>\n      <td>5425.627305</td>\n      <td>5.801210</td>\n    </tr>\n  </tbody>\n</table>\n</div>"
     },
     "execution_count": 288,
     "metadata": {},
     "output_type": "execute_result"
    }
   ],
   "source": [
    "eyeTracker_ama.describe()"
   ],
   "metadata": {
    "collapsed": false
   }
  },
  {
   "cell_type": "markdown",
   "source": [
    "### Temperatura lica"
   ],
   "metadata": {
    "collapsed": false
   }
  },
  {
   "cell_type": "code",
   "execution_count": 289,
   "outputs": [
    {
     "data": {
      "text/plain": "            time  facial_skin_temperature\ncount  73.000000                73.000000\nmean   37.000000                35.234216\nstd    21.217131                 0.156822\nmin     1.000000                34.706132\n25%    19.000000                35.175987\n50%    37.000000                35.263320\n75%    55.000000                35.341610\nmax    73.000000                35.476516",
      "text/html": "<div>\n<style scoped>\n    .dataframe tbody tr th:only-of-type {\n        vertical-align: middle;\n    }\n\n    .dataframe tbody tr th {\n        vertical-align: top;\n    }\n\n    .dataframe thead th {\n        text-align: right;\n    }\n</style>\n<table border=\"1\" class=\"dataframe\">\n  <thead>\n    <tr style=\"text-align: right;\">\n      <th></th>\n      <th>time</th>\n      <th>facial_skin_temperature</th>\n    </tr>\n  </thead>\n  <tbody>\n    <tr>\n      <th>count</th>\n      <td>73.000000</td>\n      <td>73.000000</td>\n    </tr>\n    <tr>\n      <th>mean</th>\n      <td>37.000000</td>\n      <td>35.234216</td>\n    </tr>\n    <tr>\n      <th>std</th>\n      <td>21.217131</td>\n      <td>0.156822</td>\n    </tr>\n    <tr>\n      <th>min</th>\n      <td>1.000000</td>\n      <td>34.706132</td>\n    </tr>\n    <tr>\n      <th>25%</th>\n      <td>19.000000</td>\n      <td>35.175987</td>\n    </tr>\n    <tr>\n      <th>50%</th>\n      <td>37.000000</td>\n      <td>35.263320</td>\n    </tr>\n    <tr>\n      <th>75%</th>\n      <td>55.000000</td>\n      <td>35.341610</td>\n    </tr>\n    <tr>\n      <th>max</th>\n      <td>73.000000</td>\n      <td>35.476516</td>\n    </tr>\n  </tbody>\n</table>\n</div>"
     },
     "execution_count": 289,
     "metadata": {},
     "output_type": "execute_result"
    }
   ],
   "source": [
    "facialSkin_ama.describe()"
   ],
   "metadata": {
    "collapsed": false
   }
  },
  {
   "cell_type": "markdown",
   "source": [
    "### Elektrodermalna aktivnost"
   ],
   "metadata": {
    "collapsed": false
   }
  },
  {
   "cell_type": "code",
   "execution_count": 290,
   "outputs": [
    {
     "data": {
      "text/plain": "              time           gsr\ncount  1593.000000   1593.000000\nmean    796.000000  30561.080184\nstd     460.003804   2271.414500\nmin       0.000000  20921.901262\n25%     398.000000  29046.515550\n50%     796.000000  30757.228962\n75%    1194.000000  32307.969641\nmax    1592.000000  37201.961025",
      "text/html": "<div>\n<style scoped>\n    .dataframe tbody tr th:only-of-type {\n        vertical-align: middle;\n    }\n\n    .dataframe tbody tr th {\n        vertical-align: top;\n    }\n\n    .dataframe thead th {\n        text-align: right;\n    }\n</style>\n<table border=\"1\" class=\"dataframe\">\n  <thead>\n    <tr style=\"text-align: right;\">\n      <th></th>\n      <th>time</th>\n      <th>gsr</th>\n    </tr>\n  </thead>\n  <tbody>\n    <tr>\n      <th>count</th>\n      <td>1593.000000</td>\n      <td>1593.000000</td>\n    </tr>\n    <tr>\n      <th>mean</th>\n      <td>796.000000</td>\n      <td>30561.080184</td>\n    </tr>\n    <tr>\n      <th>std</th>\n      <td>460.003804</td>\n      <td>2271.414500</td>\n    </tr>\n    <tr>\n      <th>min</th>\n      <td>0.000000</td>\n      <td>20921.901262</td>\n    </tr>\n    <tr>\n      <th>25%</th>\n      <td>398.000000</td>\n      <td>29046.515550</td>\n    </tr>\n    <tr>\n      <th>50%</th>\n      <td>796.000000</td>\n      <td>30757.228962</td>\n    </tr>\n    <tr>\n      <th>75%</th>\n      <td>1194.000000</td>\n      <td>32307.969641</td>\n    </tr>\n    <tr>\n      <th>max</th>\n      <td>1592.000000</td>\n      <td>37201.961025</td>\n    </tr>\n  </tbody>\n</table>\n</div>"
     },
     "execution_count": 290,
     "metadata": {},
     "output_type": "execute_result"
    }
   ],
   "source": [
    "gsr_ama.describe()"
   ],
   "metadata": {
    "collapsed": false
   }
  },
  {
   "cell_type": "markdown",
   "source": [
    "### Otkucaji srca"
   ],
   "metadata": {
    "collapsed": false
   }
  },
  {
   "cell_type": "code",
   "execution_count": 291,
   "outputs": [
    {
     "data": {
      "text/plain": "            time  heart_rate\ncount  24.000000   24.000000\nmean   11.500000   67.398963\nstd     7.071068    1.777630\nmin     0.000000   65.000000\n25%     5.750000   65.879032\n50%    11.500000   67.532258\n75%    17.250000   68.395161\nmax    23.000000   70.870968",
      "text/html": "<div>\n<style scoped>\n    .dataframe tbody tr th:only-of-type {\n        vertical-align: middle;\n    }\n\n    .dataframe tbody tr th {\n        vertical-align: top;\n    }\n\n    .dataframe thead th {\n        text-align: right;\n    }\n</style>\n<table border=\"1\" class=\"dataframe\">\n  <thead>\n    <tr style=\"text-align: right;\">\n      <th></th>\n      <th>time</th>\n      <th>heart_rate</th>\n    </tr>\n  </thead>\n  <tbody>\n    <tr>\n      <th>count</th>\n      <td>24.000000</td>\n      <td>24.000000</td>\n    </tr>\n    <tr>\n      <th>mean</th>\n      <td>11.500000</td>\n      <td>67.398963</td>\n    </tr>\n    <tr>\n      <th>std</th>\n      <td>7.071068</td>\n      <td>1.777630</td>\n    </tr>\n    <tr>\n      <th>min</th>\n      <td>0.000000</td>\n      <td>65.000000</td>\n    </tr>\n    <tr>\n      <th>25%</th>\n      <td>5.750000</td>\n      <td>65.879032</td>\n    </tr>\n    <tr>\n      <th>50%</th>\n      <td>11.500000</td>\n      <td>67.532258</td>\n    </tr>\n    <tr>\n      <th>75%</th>\n      <td>17.250000</td>\n      <td>68.395161</td>\n    </tr>\n    <tr>\n      <th>max</th>\n      <td>23.000000</td>\n      <td>70.870968</td>\n    </tr>\n  </tbody>\n</table>\n</div>"
     },
     "execution_count": 291,
     "metadata": {},
     "output_type": "execute_result"
    }
   ],
   "source": [
    "heartRate_ama.describe()"
   ],
   "metadata": {
    "collapsed": false
   }
  },
  {
   "cell_type": "markdown",
   "source": [
    "### Pokreti stolice"
   ],
   "metadata": {
    "collapsed": false
   }
  },
  {
   "cell_type": "code",
   "execution_count": 292,
   "outputs": [
    {
     "data": {
      "text/plain": "              time   linaccel_x   linaccel_y   linaccel_z    gravity_x  \\\ncount  1593.000000  1593.000000  1593.000000  1593.000000  1593.000000   \nmean    796.000000     0.051630    -0.007726     0.063171    -0.005811   \nstd     460.003804     0.052107     0.058292     0.009065     0.057600   \nmin       0.000000    -0.104636    -0.104614     0.042733    -0.120136   \n25%     398.000000     0.022234    -0.054989     0.056948    -0.040000   \n50%     796.000000     0.045575    -0.013266     0.063523     0.000000   \n75%    1194.000000     0.078915     0.023602     0.069362     0.020000   \nmax    1592.000000     0.147508     0.126961     0.081880     0.161680   \n\n         gravity_y    gravity_z       gyro_x       gyro_y       gyro_z  \\\ncount  1593.000000  1593.000000  1593.000000  1593.000000  1593.000000   \nmean     -1.284724    -9.717201     0.002104     0.000686     0.014395   \nstd       0.061040     0.008940     0.040293     0.047587     0.467208   \nmin      -1.400000    -9.730000    -0.379351    -0.518567    -6.129756   \n25%      -1.340000    -9.720000    -0.004782    -0.010312    -0.005924   \n50%      -1.290000    -9.720000     0.002730     0.000712     0.004119   \n75%      -1.220000    -9.710000     0.009269     0.012298     0.011099   \nmax      -1.170096    -9.700000     0.257327     0.434356     5.485318   \n\n           euler_x      euler_y      euler_z  quaternion_w  quaternion_y  \\\ncount  1593.000000  1593.000000  1593.000000   1593.000000   1593.000000   \nmean    167.074958    -0.028801   172.410191      0.065413     -0.111924   \nstd       5.334292     0.329929     0.360235      0.003145      0.046154   \nmin     157.875000    -0.690339   171.748597      0.059839     -0.191223   \n25%     161.000000    -0.187500   172.099566      0.062683     -0.164612   \n50%     168.062500     0.000000   172.375000      0.065125     -0.103577   \n75%     171.375000     0.125000   172.750000      0.068237     -0.074951   \nmax     177.865555     0.946969   173.096066      0.071342     -0.018453   \n\n       quaternion_x  quaternion_z  \ncount   1593.000000   1593.000000  \nmean      -0.990413      0.007676  \nstd        0.005373      0.004690  \nmin       -0.997963      0.001160  \n25%       -0.994812      0.004089  \n50%       -0.992065      0.006287  \n75%       -0.984131      0.012756  \nmax       -0.979431      0.015808  ",
      "text/html": "<div>\n<style scoped>\n    .dataframe tbody tr th:only-of-type {\n        vertical-align: middle;\n    }\n\n    .dataframe tbody tr th {\n        vertical-align: top;\n    }\n\n    .dataframe thead th {\n        text-align: right;\n    }\n</style>\n<table border=\"1\" class=\"dataframe\">\n  <thead>\n    <tr style=\"text-align: right;\">\n      <th></th>\n      <th>time</th>\n      <th>linaccel_x</th>\n      <th>linaccel_y</th>\n      <th>linaccel_z</th>\n      <th>gravity_x</th>\n      <th>gravity_y</th>\n      <th>gravity_z</th>\n      <th>gyro_x</th>\n      <th>gyro_y</th>\n      <th>gyro_z</th>\n      <th>euler_x</th>\n      <th>euler_y</th>\n      <th>euler_z</th>\n      <th>quaternion_w</th>\n      <th>quaternion_y</th>\n      <th>quaternion_x</th>\n      <th>quaternion_z</th>\n    </tr>\n  </thead>\n  <tbody>\n    <tr>\n      <th>count</th>\n      <td>1593.000000</td>\n      <td>1593.000000</td>\n      <td>1593.000000</td>\n      <td>1593.000000</td>\n      <td>1593.000000</td>\n      <td>1593.000000</td>\n      <td>1593.000000</td>\n      <td>1593.000000</td>\n      <td>1593.000000</td>\n      <td>1593.000000</td>\n      <td>1593.000000</td>\n      <td>1593.000000</td>\n      <td>1593.000000</td>\n      <td>1593.000000</td>\n      <td>1593.000000</td>\n      <td>1593.000000</td>\n      <td>1593.000000</td>\n    </tr>\n    <tr>\n      <th>mean</th>\n      <td>796.000000</td>\n      <td>0.051630</td>\n      <td>-0.007726</td>\n      <td>0.063171</td>\n      <td>-0.005811</td>\n      <td>-1.284724</td>\n      <td>-9.717201</td>\n      <td>0.002104</td>\n      <td>0.000686</td>\n      <td>0.014395</td>\n      <td>167.074958</td>\n      <td>-0.028801</td>\n      <td>172.410191</td>\n      <td>0.065413</td>\n      <td>-0.111924</td>\n      <td>-0.990413</td>\n      <td>0.007676</td>\n    </tr>\n    <tr>\n      <th>std</th>\n      <td>460.003804</td>\n      <td>0.052107</td>\n      <td>0.058292</td>\n      <td>0.009065</td>\n      <td>0.057600</td>\n      <td>0.061040</td>\n      <td>0.008940</td>\n      <td>0.040293</td>\n      <td>0.047587</td>\n      <td>0.467208</td>\n      <td>5.334292</td>\n      <td>0.329929</td>\n      <td>0.360235</td>\n      <td>0.003145</td>\n      <td>0.046154</td>\n      <td>0.005373</td>\n      <td>0.004690</td>\n    </tr>\n    <tr>\n      <th>min</th>\n      <td>0.000000</td>\n      <td>-0.104636</td>\n      <td>-0.104614</td>\n      <td>0.042733</td>\n      <td>-0.120136</td>\n      <td>-1.400000</td>\n      <td>-9.730000</td>\n      <td>-0.379351</td>\n      <td>-0.518567</td>\n      <td>-6.129756</td>\n      <td>157.875000</td>\n      <td>-0.690339</td>\n      <td>171.748597</td>\n      <td>0.059839</td>\n      <td>-0.191223</td>\n      <td>-0.997963</td>\n      <td>0.001160</td>\n    </tr>\n    <tr>\n      <th>25%</th>\n      <td>398.000000</td>\n      <td>0.022234</td>\n      <td>-0.054989</td>\n      <td>0.056948</td>\n      <td>-0.040000</td>\n      <td>-1.340000</td>\n      <td>-9.720000</td>\n      <td>-0.004782</td>\n      <td>-0.010312</td>\n      <td>-0.005924</td>\n      <td>161.000000</td>\n      <td>-0.187500</td>\n      <td>172.099566</td>\n      <td>0.062683</td>\n      <td>-0.164612</td>\n      <td>-0.994812</td>\n      <td>0.004089</td>\n    </tr>\n    <tr>\n      <th>50%</th>\n      <td>796.000000</td>\n      <td>0.045575</td>\n      <td>-0.013266</td>\n      <td>0.063523</td>\n      <td>0.000000</td>\n      <td>-1.290000</td>\n      <td>-9.720000</td>\n      <td>0.002730</td>\n      <td>0.000712</td>\n      <td>0.004119</td>\n      <td>168.062500</td>\n      <td>0.000000</td>\n      <td>172.375000</td>\n      <td>0.065125</td>\n      <td>-0.103577</td>\n      <td>-0.992065</td>\n      <td>0.006287</td>\n    </tr>\n    <tr>\n      <th>75%</th>\n      <td>1194.000000</td>\n      <td>0.078915</td>\n      <td>0.023602</td>\n      <td>0.069362</td>\n      <td>0.020000</td>\n      <td>-1.220000</td>\n      <td>-9.710000</td>\n      <td>0.009269</td>\n      <td>0.012298</td>\n      <td>0.011099</td>\n      <td>171.375000</td>\n      <td>0.125000</td>\n      <td>172.750000</td>\n      <td>0.068237</td>\n      <td>-0.074951</td>\n      <td>-0.984131</td>\n      <td>0.012756</td>\n    </tr>\n    <tr>\n      <th>max</th>\n      <td>1592.000000</td>\n      <td>0.147508</td>\n      <td>0.126961</td>\n      <td>0.081880</td>\n      <td>0.161680</td>\n      <td>-1.170096</td>\n      <td>-9.700000</td>\n      <td>0.257327</td>\n      <td>0.434356</td>\n      <td>5.485318</td>\n      <td>177.865555</td>\n      <td>0.946969</td>\n      <td>173.096066</td>\n      <td>0.071342</td>\n      <td>-0.018453</td>\n      <td>-0.979431</td>\n      <td>0.015808</td>\n    </tr>\n  </tbody>\n</table>\n</div>"
     },
     "execution_count": 292,
     "metadata": {},
     "output_type": "execute_result"
    }
   ],
   "source": [
    "imuChairSeat_ama.describe()"
   ],
   "metadata": {
    "collapsed": false
   }
  },
  {
   "cell_type": "code",
   "execution_count": 293,
   "outputs": [
    {
     "data": {
      "text/plain": "              time   linaccel_x   linaccel_y   linaccel_z    gravity_x  \\\ncount  1593.000000  1593.000000  1593.000000  1593.000000  1593.000000   \nmean    796.000000    -0.003492    -0.274619     0.035723     0.034083   \nstd     460.003804     0.020448     0.007416     0.055761     0.024537   \nmin       0.000000    -0.118325    -0.319634    -0.117310    -0.055753   \n25%     398.000000    -0.009182    -0.280224     0.000478     0.020000   \n50%     796.000000     0.000821    -0.275249     0.034258     0.030000   \n75%    1194.000000     0.005782    -0.269094     0.081989     0.050000   \nmax    1592.000000     0.102831    -0.249408     0.139624     0.117403   \n\n         gravity_y    gravity_z       gyro_x       gyro_y       gyro_z  \\\ncount  1593.000000  1593.000000  1593.000000  1593.000000  1593.000000   \nmean     -9.750292    -0.991889    -0.007903     0.010780    -0.000300   \nstd       0.015433     0.163902     0.197302     0.471239     0.047154   \nmin      -9.798876    -1.250098    -1.184945    -6.007106    -0.378130   \n25%      -9.760000    -1.080000    -0.024365    -0.013811    -0.011226   \n50%      -9.750000    -1.030000    -0.003360     0.000151     0.000537   \n75%      -9.740000    -0.940000     0.015930     0.013722     0.012098   \nmax      -9.720000    -0.306477     1.759192     5.447073     0.588423   \n\n           euler_x      euler_y      euler_z  quaternion_w  quaternion_y  \\\ncount  1593.000000  1593.000000  1593.000000   1593.000000   1593.000000   \nmean    344.678824     0.198630    95.803264      0.667654     -0.057567   \nstd      46.288244     0.148842     0.957861      0.007400      0.034184   \nmin       1.285697    -0.334360    91.781040      0.656494     -0.119629   \n25%     345.312500     0.125000    95.500000      0.661743     -0.096008   \n50%     351.120782     0.187500    96.062500      0.666992     -0.052490   \n75%     356.250000     0.304741    96.357909      0.670044     -0.026660   \nmax     358.025938     0.687500    97.313294      0.695577      0.015130   \n\n       quaternion_x  quaternion_z  \ncount   1593.000000   1593.000000  \nmean      -0.739123      0.049118  \nstd        0.005284      0.030520  \nmin       -0.749012     -0.012390  \n25%       -0.742493      0.021689  \n50%       -0.740405      0.045593  \n75%       -0.735727      0.084116  \nmax       -0.718116      0.108257  ",
      "text/html": "<div>\n<style scoped>\n    .dataframe tbody tr th:only-of-type {\n        vertical-align: middle;\n    }\n\n    .dataframe tbody tr th {\n        vertical-align: top;\n    }\n\n    .dataframe thead th {\n        text-align: right;\n    }\n</style>\n<table border=\"1\" class=\"dataframe\">\n  <thead>\n    <tr style=\"text-align: right;\">\n      <th></th>\n      <th>time</th>\n      <th>linaccel_x</th>\n      <th>linaccel_y</th>\n      <th>linaccel_z</th>\n      <th>gravity_x</th>\n      <th>gravity_y</th>\n      <th>gravity_z</th>\n      <th>gyro_x</th>\n      <th>gyro_y</th>\n      <th>gyro_z</th>\n      <th>euler_x</th>\n      <th>euler_y</th>\n      <th>euler_z</th>\n      <th>quaternion_w</th>\n      <th>quaternion_y</th>\n      <th>quaternion_x</th>\n      <th>quaternion_z</th>\n    </tr>\n  </thead>\n  <tbody>\n    <tr>\n      <th>count</th>\n      <td>1593.000000</td>\n      <td>1593.000000</td>\n      <td>1593.000000</td>\n      <td>1593.000000</td>\n      <td>1593.000000</td>\n      <td>1593.000000</td>\n      <td>1593.000000</td>\n      <td>1593.000000</td>\n      <td>1593.000000</td>\n      <td>1593.000000</td>\n      <td>1593.000000</td>\n      <td>1593.000000</td>\n      <td>1593.000000</td>\n      <td>1593.000000</td>\n      <td>1593.000000</td>\n      <td>1593.000000</td>\n      <td>1593.000000</td>\n    </tr>\n    <tr>\n      <th>mean</th>\n      <td>796.000000</td>\n      <td>-0.003492</td>\n      <td>-0.274619</td>\n      <td>0.035723</td>\n      <td>0.034083</td>\n      <td>-9.750292</td>\n      <td>-0.991889</td>\n      <td>-0.007903</td>\n      <td>0.010780</td>\n      <td>-0.000300</td>\n      <td>344.678824</td>\n      <td>0.198630</td>\n      <td>95.803264</td>\n      <td>0.667654</td>\n      <td>-0.057567</td>\n      <td>-0.739123</td>\n      <td>0.049118</td>\n    </tr>\n    <tr>\n      <th>std</th>\n      <td>460.003804</td>\n      <td>0.020448</td>\n      <td>0.007416</td>\n      <td>0.055761</td>\n      <td>0.024537</td>\n      <td>0.015433</td>\n      <td>0.163902</td>\n      <td>0.197302</td>\n      <td>0.471239</td>\n      <td>0.047154</td>\n      <td>46.288244</td>\n      <td>0.148842</td>\n      <td>0.957861</td>\n      <td>0.007400</td>\n      <td>0.034184</td>\n      <td>0.005284</td>\n      <td>0.030520</td>\n    </tr>\n    <tr>\n      <th>min</th>\n      <td>0.000000</td>\n      <td>-0.118325</td>\n      <td>-0.319634</td>\n      <td>-0.117310</td>\n      <td>-0.055753</td>\n      <td>-9.798876</td>\n      <td>-1.250098</td>\n      <td>-1.184945</td>\n      <td>-6.007106</td>\n      <td>-0.378130</td>\n      <td>1.285697</td>\n      <td>-0.334360</td>\n      <td>91.781040</td>\n      <td>0.656494</td>\n      <td>-0.119629</td>\n      <td>-0.749012</td>\n      <td>-0.012390</td>\n    </tr>\n    <tr>\n      <th>25%</th>\n      <td>398.000000</td>\n      <td>-0.009182</td>\n      <td>-0.280224</td>\n      <td>0.000478</td>\n      <td>0.020000</td>\n      <td>-9.760000</td>\n      <td>-1.080000</td>\n      <td>-0.024365</td>\n      <td>-0.013811</td>\n      <td>-0.011226</td>\n      <td>345.312500</td>\n      <td>0.125000</td>\n      <td>95.500000</td>\n      <td>0.661743</td>\n      <td>-0.096008</td>\n      <td>-0.742493</td>\n      <td>0.021689</td>\n    </tr>\n    <tr>\n      <th>50%</th>\n      <td>796.000000</td>\n      <td>0.000821</td>\n      <td>-0.275249</td>\n      <td>0.034258</td>\n      <td>0.030000</td>\n      <td>-9.750000</td>\n      <td>-1.030000</td>\n      <td>-0.003360</td>\n      <td>0.000151</td>\n      <td>0.000537</td>\n      <td>351.120782</td>\n      <td>0.187500</td>\n      <td>96.062500</td>\n      <td>0.666992</td>\n      <td>-0.052490</td>\n      <td>-0.740405</td>\n      <td>0.045593</td>\n    </tr>\n    <tr>\n      <th>75%</th>\n      <td>1194.000000</td>\n      <td>0.005782</td>\n      <td>-0.269094</td>\n      <td>0.081989</td>\n      <td>0.050000</td>\n      <td>-9.740000</td>\n      <td>-0.940000</td>\n      <td>0.015930</td>\n      <td>0.013722</td>\n      <td>0.012098</td>\n      <td>356.250000</td>\n      <td>0.304741</td>\n      <td>96.357909</td>\n      <td>0.670044</td>\n      <td>-0.026660</td>\n      <td>-0.735727</td>\n      <td>0.084116</td>\n    </tr>\n    <tr>\n      <th>max</th>\n      <td>1592.000000</td>\n      <td>0.102831</td>\n      <td>-0.249408</td>\n      <td>0.139624</td>\n      <td>0.117403</td>\n      <td>-9.720000</td>\n      <td>-0.306477</td>\n      <td>1.759192</td>\n      <td>5.447073</td>\n      <td>0.588423</td>\n      <td>358.025938</td>\n      <td>0.687500</td>\n      <td>97.313294</td>\n      <td>0.695577</td>\n      <td>0.015130</td>\n      <td>-0.718116</td>\n      <td>0.108257</td>\n    </tr>\n  </tbody>\n</table>\n</div>"
     },
     "execution_count": 293,
     "metadata": {},
     "output_type": "execute_result"
    }
   ],
   "source": [
    "imuChairBack_ama.describe()"
   ],
   "metadata": {
    "collapsed": false
   }
  },
  {
   "cell_type": "markdown",
   "source": [
    "### Pokreti ruku"
   ],
   "metadata": {
    "collapsed": false
   }
  },
  {
   "cell_type": "code",
   "execution_count": 294,
   "outputs": [
    {
     "data": {
      "text/plain": "              time   linaccel_x   linaccel_y   linaccel_z    gravity_x  \\\ncount  1593.000000  1593.000000  1593.000000  1593.000000  1593.000000   \nmean    796.000000    -0.032263    -0.011230    -0.018743    -1.527228   \nstd     460.003804     0.097749     0.053243     0.051408     1.987154   \nmin       0.000000    -0.386490    -0.183536    -0.359755    -8.884936   \n25%     398.000000    -0.109120    -0.043195    -0.041920    -1.502183   \n50%     796.000000    -0.079282    -0.015560    -0.007407    -0.880284   \n75%    1194.000000     0.076232     0.016481     0.010971    -0.454200   \nmax    1592.000000     0.172947     0.493497     0.134892     0.570094   \n\n         gravity_y    gravity_z       gyro_x       gyro_y       gyro_z  \\\ncount  1593.000000  1593.000000  1593.000000  1593.000000  1593.000000   \nmean      1.638933     9.106566     0.014068    -0.058388    -0.115507   \nstd       0.712222     1.674832     1.672018     4.092935     2.038102   \nmin      -6.110684    -0.073696   -18.808308   -31.457695   -31.417406   \n25%       1.473909     9.517873    -0.130584    -0.319356    -0.198968   \n50%       1.531790     9.628987    -0.017812    -0.073752    -0.118172   \n75%       1.669125     9.669419     0.081718     0.173977     0.005970   \nmax       4.323182     9.711401    22.906474    52.666271    25.477499   \n\n           euler_x      euler_y      euler_z  quaternion_w  quaternion_y  \\\ncount  1593.000000  1593.000000  1593.000000   1593.000000   1593.000000   \nmean     97.868425    -9.654722   -11.455568      0.626544     -0.004199   \nstd      25.652325    13.829640    12.967509      0.165764      0.101955   \nmin      43.778132   -65.356585   -90.996197      0.214645     -0.152440   \n25%      83.647886    -8.810730    -9.923159      0.495766     -0.047345   \n50%      88.016999    -5.163831    -9.036117      0.711047     -0.034022   \n75%     120.026731    -2.652279    -8.693601      0.735562     -0.012023   \nmax     153.856296     3.337870    66.089366      0.851004      0.545543   \n\n       quaternion_x  quaternion_z  \ncount   1593.000000   1593.000000  \nmean       0.115110     -0.722856  \nstd        0.098393      0.145350  \nmin       -0.039995     -0.957261  \n25%        0.070100     -0.853761  \n50%        0.084421     -0.691819  \n75%        0.105322     -0.651798  \nmax        0.589507     -0.263425  ",
      "text/html": "<div>\n<style scoped>\n    .dataframe tbody tr th:only-of-type {\n        vertical-align: middle;\n    }\n\n    .dataframe tbody tr th {\n        vertical-align: top;\n    }\n\n    .dataframe thead th {\n        text-align: right;\n    }\n</style>\n<table border=\"1\" class=\"dataframe\">\n  <thead>\n    <tr style=\"text-align: right;\">\n      <th></th>\n      <th>time</th>\n      <th>linaccel_x</th>\n      <th>linaccel_y</th>\n      <th>linaccel_z</th>\n      <th>gravity_x</th>\n      <th>gravity_y</th>\n      <th>gravity_z</th>\n      <th>gyro_x</th>\n      <th>gyro_y</th>\n      <th>gyro_z</th>\n      <th>euler_x</th>\n      <th>euler_y</th>\n      <th>euler_z</th>\n      <th>quaternion_w</th>\n      <th>quaternion_y</th>\n      <th>quaternion_x</th>\n      <th>quaternion_z</th>\n    </tr>\n  </thead>\n  <tbody>\n    <tr>\n      <th>count</th>\n      <td>1593.000000</td>\n      <td>1593.000000</td>\n      <td>1593.000000</td>\n      <td>1593.000000</td>\n      <td>1593.000000</td>\n      <td>1593.000000</td>\n      <td>1593.000000</td>\n      <td>1593.000000</td>\n      <td>1593.000000</td>\n      <td>1593.000000</td>\n      <td>1593.000000</td>\n      <td>1593.000000</td>\n      <td>1593.000000</td>\n      <td>1593.000000</td>\n      <td>1593.000000</td>\n      <td>1593.000000</td>\n      <td>1593.000000</td>\n    </tr>\n    <tr>\n      <th>mean</th>\n      <td>796.000000</td>\n      <td>-0.032263</td>\n      <td>-0.011230</td>\n      <td>-0.018743</td>\n      <td>-1.527228</td>\n      <td>1.638933</td>\n      <td>9.106566</td>\n      <td>0.014068</td>\n      <td>-0.058388</td>\n      <td>-0.115507</td>\n      <td>97.868425</td>\n      <td>-9.654722</td>\n      <td>-11.455568</td>\n      <td>0.626544</td>\n      <td>-0.004199</td>\n      <td>0.115110</td>\n      <td>-0.722856</td>\n    </tr>\n    <tr>\n      <th>std</th>\n      <td>460.003804</td>\n      <td>0.097749</td>\n      <td>0.053243</td>\n      <td>0.051408</td>\n      <td>1.987154</td>\n      <td>0.712222</td>\n      <td>1.674832</td>\n      <td>1.672018</td>\n      <td>4.092935</td>\n      <td>2.038102</td>\n      <td>25.652325</td>\n      <td>13.829640</td>\n      <td>12.967509</td>\n      <td>0.165764</td>\n      <td>0.101955</td>\n      <td>0.098393</td>\n      <td>0.145350</td>\n    </tr>\n    <tr>\n      <th>min</th>\n      <td>0.000000</td>\n      <td>-0.386490</td>\n      <td>-0.183536</td>\n      <td>-0.359755</td>\n      <td>-8.884936</td>\n      <td>-6.110684</td>\n      <td>-0.073696</td>\n      <td>-18.808308</td>\n      <td>-31.457695</td>\n      <td>-31.417406</td>\n      <td>43.778132</td>\n      <td>-65.356585</td>\n      <td>-90.996197</td>\n      <td>0.214645</td>\n      <td>-0.152440</td>\n      <td>-0.039995</td>\n      <td>-0.957261</td>\n    </tr>\n    <tr>\n      <th>25%</th>\n      <td>398.000000</td>\n      <td>-0.109120</td>\n      <td>-0.043195</td>\n      <td>-0.041920</td>\n      <td>-1.502183</td>\n      <td>1.473909</td>\n      <td>9.517873</td>\n      <td>-0.130584</td>\n      <td>-0.319356</td>\n      <td>-0.198968</td>\n      <td>83.647886</td>\n      <td>-8.810730</td>\n      <td>-9.923159</td>\n      <td>0.495766</td>\n      <td>-0.047345</td>\n      <td>0.070100</td>\n      <td>-0.853761</td>\n    </tr>\n    <tr>\n      <th>50%</th>\n      <td>796.000000</td>\n      <td>-0.079282</td>\n      <td>-0.015560</td>\n      <td>-0.007407</td>\n      <td>-0.880284</td>\n      <td>1.531790</td>\n      <td>9.628987</td>\n      <td>-0.017812</td>\n      <td>-0.073752</td>\n      <td>-0.118172</td>\n      <td>88.016999</td>\n      <td>-5.163831</td>\n      <td>-9.036117</td>\n      <td>0.711047</td>\n      <td>-0.034022</td>\n      <td>0.084421</td>\n      <td>-0.691819</td>\n    </tr>\n    <tr>\n      <th>75%</th>\n      <td>1194.000000</td>\n      <td>0.076232</td>\n      <td>0.016481</td>\n      <td>0.010971</td>\n      <td>-0.454200</td>\n      <td>1.669125</td>\n      <td>9.669419</td>\n      <td>0.081718</td>\n      <td>0.173977</td>\n      <td>0.005970</td>\n      <td>120.026731</td>\n      <td>-2.652279</td>\n      <td>-8.693601</td>\n      <td>0.735562</td>\n      <td>-0.012023</td>\n      <td>0.105322</td>\n      <td>-0.651798</td>\n    </tr>\n    <tr>\n      <th>max</th>\n      <td>1592.000000</td>\n      <td>0.172947</td>\n      <td>0.493497</td>\n      <td>0.134892</td>\n      <td>0.570094</td>\n      <td>4.323182</td>\n      <td>9.711401</td>\n      <td>22.906474</td>\n      <td>52.666271</td>\n      <td>25.477499</td>\n      <td>153.856296</td>\n      <td>3.337870</td>\n      <td>66.089366</td>\n      <td>0.851004</td>\n      <td>0.545543</td>\n      <td>0.589507</td>\n      <td>-0.263425</td>\n    </tr>\n  </tbody>\n</table>\n</div>"
     },
     "execution_count": 294,
     "metadata": {},
     "output_type": "execute_result"
    }
   ],
   "source": [
    "imuLeftHand_ama.describe()"
   ],
   "metadata": {
    "collapsed": false
   }
  },
  {
   "cell_type": "code",
   "execution_count": 295,
   "outputs": [
    {
     "data": {
      "text/plain": "              time   linaccel_x   linaccel_y   linaccel_z    gravity_x  \\\ncount  1593.000000  1593.000000  1593.000000  1593.000000  1593.000000   \nmean    796.000000    -0.029012    -0.018794     0.014770     3.179452   \nstd     460.003804     0.117294     0.056509     0.022354     0.938289   \nmin       0.000000    -0.223783    -0.209660    -0.195717     1.566005   \n25%     398.000000    -0.048810    -0.051428     0.011071     2.681867   \n50%     796.000000    -0.034185    -0.011605     0.016130     2.990396   \n75%    1194.000000    -0.021175     0.002660     0.021932     3.226472   \nmax    1592.000000     3.879141     0.565521     0.277115     9.506312   \n\n         gravity_y    gravity_z       gyro_x       gyro_y       gyro_z  \\\ncount  1593.000000  1593.000000  1593.000000  1593.000000  1593.000000   \nmean      1.615689     8.991038     0.022903    -0.061513    -0.021390   \nstd       0.594545     0.871095     1.248700     3.055654     2.220615   \nmin      -5.123683    -0.681593   -18.196929   -40.835031   -23.588547   \n25%       1.507418     9.102215    -0.099115    -0.365829    -0.110269   \n50%       1.619989     9.192211    -0.017173    -0.083495    -0.024464   \n75%       1.735620     9.268553     0.080312     0.222423     0.055834   \nmax       5.062699     9.483361    17.807244    28.961503    30.545030   \n\n           euler_x      euler_y      euler_z  quaternion_w  quaternion_y  \\\ncount  1593.000000  1593.000000  1593.000000   1593.000000   1593.000000   \nmean    128.702855    19.202698    -9.717451     -0.416240      0.148385   \nstd      20.241218     7.028267     7.267710      0.138898      0.044436   \nmin      20.557864     9.502913   -34.297827     -0.893589      0.090429   \n25%     123.396898    15.873843   -10.705518     -0.467726      0.131752   \n50%     133.548409    17.756545    -9.970299     -0.388346      0.137160   \n75%     143.037050    19.217235    -9.377292     -0.311555      0.145952   \nmax     190.241887    76.475927   105.135835     -0.145078      0.649047   \n\n       quaternion_x  quaternion_z  \ncount   1593.000000   1593.000000  \nmean       0.112836      0.868138  \nstd        0.059436      0.105208  \nmin       -0.015492      0.014460  \n25%        0.083147      0.867892  \n50%        0.105771      0.904967  \n75%        0.129134      0.929331  \nmax        0.611659      0.954477  ",
      "text/html": "<div>\n<style scoped>\n    .dataframe tbody tr th:only-of-type {\n        vertical-align: middle;\n    }\n\n    .dataframe tbody tr th {\n        vertical-align: top;\n    }\n\n    .dataframe thead th {\n        text-align: right;\n    }\n</style>\n<table border=\"1\" class=\"dataframe\">\n  <thead>\n    <tr style=\"text-align: right;\">\n      <th></th>\n      <th>time</th>\n      <th>linaccel_x</th>\n      <th>linaccel_y</th>\n      <th>linaccel_z</th>\n      <th>gravity_x</th>\n      <th>gravity_y</th>\n      <th>gravity_z</th>\n      <th>gyro_x</th>\n      <th>gyro_y</th>\n      <th>gyro_z</th>\n      <th>euler_x</th>\n      <th>euler_y</th>\n      <th>euler_z</th>\n      <th>quaternion_w</th>\n      <th>quaternion_y</th>\n      <th>quaternion_x</th>\n      <th>quaternion_z</th>\n    </tr>\n  </thead>\n  <tbody>\n    <tr>\n      <th>count</th>\n      <td>1593.000000</td>\n      <td>1593.000000</td>\n      <td>1593.000000</td>\n      <td>1593.000000</td>\n      <td>1593.000000</td>\n      <td>1593.000000</td>\n      <td>1593.000000</td>\n      <td>1593.000000</td>\n      <td>1593.000000</td>\n      <td>1593.000000</td>\n      <td>1593.000000</td>\n      <td>1593.000000</td>\n      <td>1593.000000</td>\n      <td>1593.000000</td>\n      <td>1593.000000</td>\n      <td>1593.000000</td>\n      <td>1593.000000</td>\n    </tr>\n    <tr>\n      <th>mean</th>\n      <td>796.000000</td>\n      <td>-0.029012</td>\n      <td>-0.018794</td>\n      <td>0.014770</td>\n      <td>3.179452</td>\n      <td>1.615689</td>\n      <td>8.991038</td>\n      <td>0.022903</td>\n      <td>-0.061513</td>\n      <td>-0.021390</td>\n      <td>128.702855</td>\n      <td>19.202698</td>\n      <td>-9.717451</td>\n      <td>-0.416240</td>\n      <td>0.148385</td>\n      <td>0.112836</td>\n      <td>0.868138</td>\n    </tr>\n    <tr>\n      <th>std</th>\n      <td>460.003804</td>\n      <td>0.117294</td>\n      <td>0.056509</td>\n      <td>0.022354</td>\n      <td>0.938289</td>\n      <td>0.594545</td>\n      <td>0.871095</td>\n      <td>1.248700</td>\n      <td>3.055654</td>\n      <td>2.220615</td>\n      <td>20.241218</td>\n      <td>7.028267</td>\n      <td>7.267710</td>\n      <td>0.138898</td>\n      <td>0.044436</td>\n      <td>0.059436</td>\n      <td>0.105208</td>\n    </tr>\n    <tr>\n      <th>min</th>\n      <td>0.000000</td>\n      <td>-0.223783</td>\n      <td>-0.209660</td>\n      <td>-0.195717</td>\n      <td>1.566005</td>\n      <td>-5.123683</td>\n      <td>-0.681593</td>\n      <td>-18.196929</td>\n      <td>-40.835031</td>\n      <td>-23.588547</td>\n      <td>20.557864</td>\n      <td>9.502913</td>\n      <td>-34.297827</td>\n      <td>-0.893589</td>\n      <td>0.090429</td>\n      <td>-0.015492</td>\n      <td>0.014460</td>\n    </tr>\n    <tr>\n      <th>25%</th>\n      <td>398.000000</td>\n      <td>-0.048810</td>\n      <td>-0.051428</td>\n      <td>0.011071</td>\n      <td>2.681867</td>\n      <td>1.507418</td>\n      <td>9.102215</td>\n      <td>-0.099115</td>\n      <td>-0.365829</td>\n      <td>-0.110269</td>\n      <td>123.396898</td>\n      <td>15.873843</td>\n      <td>-10.705518</td>\n      <td>-0.467726</td>\n      <td>0.131752</td>\n      <td>0.083147</td>\n      <td>0.867892</td>\n    </tr>\n    <tr>\n      <th>50%</th>\n      <td>796.000000</td>\n      <td>-0.034185</td>\n      <td>-0.011605</td>\n      <td>0.016130</td>\n      <td>2.990396</td>\n      <td>1.619989</td>\n      <td>9.192211</td>\n      <td>-0.017173</td>\n      <td>-0.083495</td>\n      <td>-0.024464</td>\n      <td>133.548409</td>\n      <td>17.756545</td>\n      <td>-9.970299</td>\n      <td>-0.388346</td>\n      <td>0.137160</td>\n      <td>0.105771</td>\n      <td>0.904967</td>\n    </tr>\n    <tr>\n      <th>75%</th>\n      <td>1194.000000</td>\n      <td>-0.021175</td>\n      <td>0.002660</td>\n      <td>0.021932</td>\n      <td>3.226472</td>\n      <td>1.735620</td>\n      <td>9.268553</td>\n      <td>0.080312</td>\n      <td>0.222423</td>\n      <td>0.055834</td>\n      <td>143.037050</td>\n      <td>19.217235</td>\n      <td>-9.377292</td>\n      <td>-0.311555</td>\n      <td>0.145952</td>\n      <td>0.129134</td>\n      <td>0.929331</td>\n    </tr>\n    <tr>\n      <th>max</th>\n      <td>1592.000000</td>\n      <td>3.879141</td>\n      <td>0.565521</td>\n      <td>0.277115</td>\n      <td>9.506312</td>\n      <td>5.062699</td>\n      <td>9.483361</td>\n      <td>17.807244</td>\n      <td>28.961503</td>\n      <td>30.545030</td>\n      <td>190.241887</td>\n      <td>76.475927</td>\n      <td>105.135835</td>\n      <td>-0.145078</td>\n      <td>0.649047</td>\n      <td>0.611659</td>\n      <td>0.954477</td>\n    </tr>\n  </tbody>\n</table>\n</div>"
     },
     "execution_count": 295,
     "metadata": {},
     "output_type": "execute_result"
    }
   ],
   "source": [
    "imuRightHand_ama.describe()"
   ],
   "metadata": {
    "collapsed": false
   }
  },
  {
   "cell_type": "markdown",
   "source": [
    "### Pokreti glave"
   ],
   "metadata": {
    "collapsed": false
   }
  },
  {
   "cell_type": "code",
   "execution_count": 296,
   "outputs": [
    {
     "data": {
      "text/plain": "              time        rot_x   rot_y        rot_z\ncount  1592.000000  1592.000000  1592.0  1592.000000\nmean    795.500000     0.000091     0.0    -0.035702\nstd     459.715129     0.005486     0.0     0.144387\nmin       0.000000    -0.064739     0.0    -1.335159\n25%     397.750000     0.000000     0.0     0.000000\n50%     795.500000     0.000000     0.0     0.000000\n75%    1193.250000     0.000000     0.0     0.000000\nmax    1591.000000     0.125962     0.0     0.696168",
      "text/html": "<div>\n<style scoped>\n    .dataframe tbody tr th:only-of-type {\n        vertical-align: middle;\n    }\n\n    .dataframe tbody tr th {\n        vertical-align: top;\n    }\n\n    .dataframe thead th {\n        text-align: right;\n    }\n</style>\n<table border=\"1\" class=\"dataframe\">\n  <thead>\n    <tr style=\"text-align: right;\">\n      <th></th>\n      <th>time</th>\n      <th>rot_x</th>\n      <th>rot_y</th>\n      <th>rot_z</th>\n    </tr>\n  </thead>\n  <tbody>\n    <tr>\n      <th>count</th>\n      <td>1592.000000</td>\n      <td>1592.000000</td>\n      <td>1592.0</td>\n      <td>1592.000000</td>\n    </tr>\n    <tr>\n      <th>mean</th>\n      <td>795.500000</td>\n      <td>0.000091</td>\n      <td>0.0</td>\n      <td>-0.035702</td>\n    </tr>\n    <tr>\n      <th>std</th>\n      <td>459.715129</td>\n      <td>0.005486</td>\n      <td>0.0</td>\n      <td>0.144387</td>\n    </tr>\n    <tr>\n      <th>min</th>\n      <td>0.000000</td>\n      <td>-0.064739</td>\n      <td>0.0</td>\n      <td>-1.335159</td>\n    </tr>\n    <tr>\n      <th>25%</th>\n      <td>397.750000</td>\n      <td>0.000000</td>\n      <td>0.0</td>\n      <td>0.000000</td>\n    </tr>\n    <tr>\n      <th>50%</th>\n      <td>795.500000</td>\n      <td>0.000000</td>\n      <td>0.0</td>\n      <td>0.000000</td>\n    </tr>\n    <tr>\n      <th>75%</th>\n      <td>1193.250000</td>\n      <td>0.000000</td>\n      <td>0.0</td>\n      <td>0.000000</td>\n    </tr>\n    <tr>\n      <th>max</th>\n      <td>1591.000000</td>\n      <td>0.125962</td>\n      <td>0.0</td>\n      <td>0.696168</td>\n    </tr>\n  </tbody>\n</table>\n</div>"
     },
     "execution_count": 296,
     "metadata": {},
     "output_type": "execute_result"
    }
   ],
   "source": [
    "imuHead_ama.describe()"
   ],
   "metadata": {
    "collapsed": false
   }
  },
  {
   "cell_type": "markdown",
   "source": [
    "### Tipkovnica"
   ],
   "metadata": {
    "collapsed": false
   }
  },
  {
   "cell_type": "code",
   "execution_count": 297,
   "outputs": [
    {
     "data": {
      "text/plain": "              time  buttons_pressed\ncount  1593.000000       1593.00000\nmean    796.000000          0.31866\nstd     460.003804          0.78579\nmin       0.000000          0.00000\n25%     398.000000          0.00000\n50%     796.000000          0.00000\n75%    1194.000000          0.25000\nmax    1592.000000          8.00000",
      "text/html": "<div>\n<style scoped>\n    .dataframe tbody tr th:only-of-type {\n        vertical-align: middle;\n    }\n\n    .dataframe tbody tr th {\n        vertical-align: top;\n    }\n\n    .dataframe thead th {\n        text-align: right;\n    }\n</style>\n<table border=\"1\" class=\"dataframe\">\n  <thead>\n    <tr style=\"text-align: right;\">\n      <th></th>\n      <th>time</th>\n      <th>buttons_pressed</th>\n    </tr>\n  </thead>\n  <tbody>\n    <tr>\n      <th>count</th>\n      <td>1593.000000</td>\n      <td>1593.00000</td>\n    </tr>\n    <tr>\n      <th>mean</th>\n      <td>796.000000</td>\n      <td>0.31866</td>\n    </tr>\n    <tr>\n      <th>std</th>\n      <td>460.003804</td>\n      <td>0.78579</td>\n    </tr>\n    <tr>\n      <th>min</th>\n      <td>0.000000</td>\n      <td>0.00000</td>\n    </tr>\n    <tr>\n      <th>25%</th>\n      <td>398.000000</td>\n      <td>0.00000</td>\n    </tr>\n    <tr>\n      <th>50%</th>\n      <td>796.000000</td>\n      <td>0.00000</td>\n    </tr>\n    <tr>\n      <th>75%</th>\n      <td>1194.000000</td>\n      <td>0.25000</td>\n    </tr>\n    <tr>\n      <th>max</th>\n      <td>1592.000000</td>\n      <td>8.00000</td>\n    </tr>\n  </tbody>\n</table>\n</div>"
     },
     "execution_count": 297,
     "metadata": {},
     "output_type": "execute_result"
    }
   ],
   "source": [
    "keyboard_ama.describe()"
   ],
   "metadata": {
    "collapsed": false
   }
  },
  {
   "cell_type": "markdown",
   "source": [
    "### Miš"
   ],
   "metadata": {
    "collapsed": false
   }
  },
  {
   "cell_type": "code",
   "execution_count": 298,
   "outputs": [
    {
     "data": {
      "text/plain": "              time  mouse_movement  mouse_clicks\ncount  1592.000000     1592.000000   1592.000000\nmean    795.500000     1109.902018      1.831619\nstd     459.715129     1196.247544      1.979698\nmin       0.000000        0.000000      0.000000\n25%     397.750000        0.000000      0.000000\n50%     795.500000      921.687241      1.250000\n75%    1193.250000     1802.494849      3.265625\nmax    1591.000000     9927.175153      8.062500",
      "text/html": "<div>\n<style scoped>\n    .dataframe tbody tr th:only-of-type {\n        vertical-align: middle;\n    }\n\n    .dataframe tbody tr th {\n        vertical-align: top;\n    }\n\n    .dataframe thead th {\n        text-align: right;\n    }\n</style>\n<table border=\"1\" class=\"dataframe\">\n  <thead>\n    <tr style=\"text-align: right;\">\n      <th></th>\n      <th>time</th>\n      <th>mouse_movement</th>\n      <th>mouse_clicks</th>\n    </tr>\n  </thead>\n  <tbody>\n    <tr>\n      <th>count</th>\n      <td>1592.000000</td>\n      <td>1592.000000</td>\n      <td>1592.000000</td>\n    </tr>\n    <tr>\n      <th>mean</th>\n      <td>795.500000</td>\n      <td>1109.902018</td>\n      <td>1.831619</td>\n    </tr>\n    <tr>\n      <th>std</th>\n      <td>459.715129</td>\n      <td>1196.247544</td>\n      <td>1.979698</td>\n    </tr>\n    <tr>\n      <th>min</th>\n      <td>0.000000</td>\n      <td>0.000000</td>\n      <td>0.000000</td>\n    </tr>\n    <tr>\n      <th>25%</th>\n      <td>397.750000</td>\n      <td>0.000000</td>\n      <td>0.000000</td>\n    </tr>\n    <tr>\n      <th>50%</th>\n      <td>795.500000</td>\n      <td>921.687241</td>\n      <td>1.250000</td>\n    </tr>\n    <tr>\n      <th>75%</th>\n      <td>1193.250000</td>\n      <td>1802.494849</td>\n      <td>3.265625</td>\n    </tr>\n    <tr>\n      <th>max</th>\n      <td>1591.000000</td>\n      <td>9927.175153</td>\n      <td>8.062500</td>\n    </tr>\n  </tbody>\n</table>\n</div>"
     },
     "execution_count": 298,
     "metadata": {},
     "output_type": "execute_result"
    }
   ],
   "source": [
    "mouse_ama.describe()"
   ],
   "metadata": {
    "collapsed": false
   }
  },
  {
   "cell_type": "markdown",
   "source": [
    "### Zasićenost kisikom"
   ],
   "metadata": {
    "collapsed": false
   }
  },
  {
   "cell_type": "code",
   "execution_count": 299,
   "outputs": [
    {
     "data": {
      "text/plain": "              time         spo2\ncount  1585.000000  1585.000000\nmean    797.000000    98.862583\nstd     457.694403     0.764425\nmin       5.000000    96.160809\n25%     401.000000    98.358252\n50%     797.000000    99.018166\n75%    1193.000000    99.513776\nmax    1589.000000    99.855068",
      "text/html": "<div>\n<style scoped>\n    .dataframe tbody tr th:only-of-type {\n        vertical-align: middle;\n    }\n\n    .dataframe tbody tr th {\n        vertical-align: top;\n    }\n\n    .dataframe thead th {\n        text-align: right;\n    }\n</style>\n<table border=\"1\" class=\"dataframe\">\n  <thead>\n    <tr style=\"text-align: right;\">\n      <th></th>\n      <th>time</th>\n      <th>spo2</th>\n    </tr>\n  </thead>\n  <tbody>\n    <tr>\n      <th>count</th>\n      <td>1585.000000</td>\n      <td>1585.000000</td>\n    </tr>\n    <tr>\n      <th>mean</th>\n      <td>797.000000</td>\n      <td>98.862583</td>\n    </tr>\n    <tr>\n      <th>std</th>\n      <td>457.694403</td>\n      <td>0.764425</td>\n    </tr>\n    <tr>\n      <th>min</th>\n      <td>5.000000</td>\n      <td>96.160809</td>\n    </tr>\n    <tr>\n      <th>25%</th>\n      <td>401.000000</td>\n      <td>98.358252</td>\n    </tr>\n    <tr>\n      <th>50%</th>\n      <td>797.000000</td>\n      <td>99.018166</td>\n    </tr>\n    <tr>\n      <th>75%</th>\n      <td>1193.000000</td>\n      <td>99.513776</td>\n    </tr>\n    <tr>\n      <th>max</th>\n      <td>1589.000000</td>\n      <td>99.855068</td>\n    </tr>\n  </tbody>\n</table>\n</div>"
     },
     "execution_count": 299,
     "metadata": {},
     "output_type": "execute_result"
    }
   ],
   "source": [
    "o2Saturation_ama.describe()"
   ],
   "metadata": {
    "collapsed": false
   }
  },
  {
   "cell_type": "markdown",
   "source": [],
   "metadata": {
    "collapsed": false
   }
  }
 ],
 "metadata": {
  "kernelspec": {
   "display_name": "Python 3",
   "language": "python",
   "name": "python3"
  },
  "language_info": {
   "codemirror_mode": {
    "name": "ipython",
    "version": 2
   },
   "file_extension": ".py",
   "mimetype": "text/x-python",
   "name": "python",
   "nbconvert_exporter": "python",
   "pygments_lexer": "ipython2",
   "version": "2.7.6"
  }
 },
 "nbformat": 4,
 "nbformat_minor": 0
}
