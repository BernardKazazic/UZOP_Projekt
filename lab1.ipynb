{
 "cells": [
  {
   "cell_type": "markdown",
   "source": [
    "# UZOP Projekt\n",
    "\n",
    "\n",
    "## Collection and Validation of Psychophysiological\n",
    "## Data from Professional and Amateur Players:\n",
    "## a Multimodal eSports Dataset\n",
    "\n",
    "U radu je mjereno psihofiziološko stanje 10 igrača tijekom 22 meča MOBA igrice League of legends.\n",
    "Od 10 igrača, 5 ih je amatera, a 5 profesionalnih.\n",
    "\n",
    "Svaki tim je odigrao 11 mečeva od kojih su:\n",
    "3 bez komunikacije u timu protiv pravih igrača iste vještine\n",
    "3 sa komunikacijom protiv pravih igrača iste vještine\n",
    "2 bez komunikacije protiv botova\n",
    "3 sa komunikacijom protiv botova\n",
    "\n",
    "Skupljeni podaci senzora:\n",
    "Pokreti ruku - imu_left_hand.csv, imu_right_hand.csv\n",
    "Pokreti stolice - imu_chair_back.csv, imu_chair_seat.csv\n",
    "Pokreti glave - imu_head.csv\n",
    "Pogled - eye_tracker.csv\n",
    "Elektrodermalna aktivnost - gsr.csv\n",
    "Otkucaji srca - heart_rate.csv\n",
    "Aktivnost mišića - emg.csv\n",
    "Aktivnost mozga - eeg_band_power.csv, eeg_metrics.csv\n",
    "Temperatura lica - facial_skin_temperature.csv\n",
    "Aktivnost tipkovnice - keyboard.csv\n",
    "Aktivnost miša - mouse.csv\n",
    "Zasićenost kisikom - spo2.csv\n",
    "Podaci o okolini - environment.csv\n",
    "\n",
    "Ostali podaci:\n",
    "Meta podaci o meču - meta_info.json\n",
    "Zapis događaja tijekom meča - replay.json\n",
    "Povratne informacije igrača nakon meča - player_report.json"
   ],
   "metadata": {
    "collapsed": false
   }
  },
  {
   "cell_type": "markdown",
   "source": [
    "## Dodavanje potrebnih biblioteka"
   ],
   "metadata": {
    "collapsed": false
   }
  },
  {
   "cell_type": "code",
   "execution_count": 318,
   "outputs": [],
   "source": [
    "import pandas as pd\n",
    "import numpy as np"
   ],
   "metadata": {
    "collapsed": false
   }
  },
  {
   "cell_type": "markdown",
   "source": [
    "//Opisati prvi mec pomocu meta podataka?"
   ],
   "metadata": {
    "collapsed": false
   }
  },
  {
   "cell_type": "markdown",
   "source": [
    "## Učitavanje podataka senzora igrača iz meča bez komunikacije protiv pravih igrača"
   ],
   "metadata": {
    "collapsed": false
   }
  },
  {
   "cell_type": "code",
   "execution_count": 319,
   "outputs": [],
   "source": [
    "eegBandPower_ama = pd.read_csv(\"eSports_Sensors_Dataset/matches/match_3/player_1/eeg_band_power.csv\")\n",
    "eegMetrics_ama = pd.read_csv(\"eSports_Sensors_Dataset/matches/match_3/player_1/eeg_metrics.csv\")\n",
    "emg_ama = pd.read_csv(\"eSports_Sensors_Dataset/matches/match_3/player_1/emg.csv\")\n",
    "eyeTracker_ama = pd.read_csv(\"eSports_Sensors_Dataset/matches/match_3/player_1/eye_tracker.csv\")\n",
    "facialSkin_ama = pd.read_csv(\"eSports_Sensors_Dataset/matches/match_3/player_1/facial_skin_temperature.csv\")\n",
    "gsr_ama = pd.read_csv(\"eSports_Sensors_Dataset/matches/match_3/player_1/gsr.csv\")\n",
    "heartRate_ama = pd.read_csv(\"eSports_Sensors_Dataset/matches/match_3/player_1/heart_rate.csv\")\n",
    "imuChairBack_ama = pd.read_csv(\"eSports_Sensors_Dataset/matches/match_3/player_1/imu_chair_back.csv\")\n",
    "imuChairSeat_ama = pd.read_csv(\"eSports_Sensors_Dataset/matches/match_3/player_1/imu_chair_seat.csv\")\n",
    "imuLeftHand_ama = pd.read_csv(\"eSports_Sensors_Dataset/matches/match_3/player_1/imu_left_hand.csv\")\n",
    "imuRightHand_ama = pd.read_csv(\"eSports_Sensors_Dataset/matches/match_3/player_1/imu_right_hand.csv\")\n",
    "imuHead_ama = pd.read_csv(\"eSports_Sensors_Dataset/matches/match_3/player_1/imu_head.csv\")\n",
    "keyboard_ama = pd.read_csv(\"eSports_Sensors_Dataset/matches/match_3/player_1/keyboard.csv\")\n",
    "mouse_ama = pd.read_csv(\"eSports_Sensors_Dataset/matches/match_3/player_1/mouse.csv\")\n",
    "o2Saturation_ama = pd.read_csv(\"eSports_Sensors_Dataset/matches/match_3/player_1/spo2.csv\")"
   ],
   "metadata": {
    "collapsed": false
   }
  },
  {
   "cell_type": "markdown",
   "source": [
    "## Početni pregled podataka"
   ],
   "metadata": {
    "collapsed": false
   }
  },
  {
   "cell_type": "markdown",
   "source": [
    "### Aktivnost mozga"
   ],
   "metadata": {
    "collapsed": false
   }
  },
  {
   "cell_type": "code",
   "execution_count": 320,
   "outputs": [
    {
     "data": {
      "text/plain": "(1592, 26)"
     },
     "execution_count": 320,
     "metadata": {},
     "output_type": "execute_result"
    }
   ],
   "source": [
    "eegBandPower_ama.shape"
   ],
   "metadata": {
    "collapsed": false
   }
  },
  {
   "cell_type": "code",
   "execution_count": 321,
   "outputs": [
    {
     "data": {
      "text/plain": "   time   AF3/theta  AF3/alpha  AF3/betaL  AF3/betaH  AF3/gamma   T7/theta  \\\n0   0.0   60.585125  42.434000  26.244500  11.171875   6.411875   6.171250   \n1   1.0   59.202625  37.368667  15.738833   7.385125  10.349208  10.745083   \n2   2.0   98.036625  29.010500  10.363143   7.097911   8.053875  14.071964   \n3   3.0   84.855225  22.443433   8.173267   6.682225   5.623475  10.553183   \n4   4.0  102.198077  26.761016  11.163516   5.251593   4.740714  10.320960   \n\n   T7/alpha  T7/betaL  T7/betaH  ...   T8/theta  T8/alpha  T8/betaL  T8/betaH  \\\n0  7.971250   6.57825  6.153250  ...   4.648375  4.932700  1.986825  4.858250   \n1  7.189583   5.31125  3.823667  ...  10.972125  6.214400  5.008775  2.835500   \n2  7.795321   4.32925  5.313000  ...  13.638911  4.911336  4.126975  4.574571   \n3  6.868683   3.64373  4.798867  ...   8.858025  4.262063  3.836522  4.866600   \n4  7.773685   6.49916  4.478548  ...   7.928980  4.423837  6.279414  5.423129   \n\n   T8/gamma  AF4/theta  AF4/alpha  AF4/betaL  AF4/betaH  AF4/gamma  \n0  5.513250  25.836588  21.956125  16.224250   8.126000   6.759000  \n1  9.433500  44.876029  29.446542   8.784333   6.979083   7.910083  \n2  9.461357  86.560513  23.468804   7.793429   6.992964   7.405679  \n3  6.582900  57.966772  18.679442   7.407400   5.196917   5.313983  \n4  5.922565  49.771858  23.916633   8.690484   5.534573   4.480766  \n\n[5 rows x 26 columns]",
      "text/html": "<div>\n<style scoped>\n    .dataframe tbody tr th:only-of-type {\n        vertical-align: middle;\n    }\n\n    .dataframe tbody tr th {\n        vertical-align: top;\n    }\n\n    .dataframe thead th {\n        text-align: right;\n    }\n</style>\n<table border=\"1\" class=\"dataframe\">\n  <thead>\n    <tr style=\"text-align: right;\">\n      <th></th>\n      <th>time</th>\n      <th>AF3/theta</th>\n      <th>AF3/alpha</th>\n      <th>AF3/betaL</th>\n      <th>AF3/betaH</th>\n      <th>AF3/gamma</th>\n      <th>T7/theta</th>\n      <th>T7/alpha</th>\n      <th>T7/betaL</th>\n      <th>T7/betaH</th>\n      <th>...</th>\n      <th>T8/theta</th>\n      <th>T8/alpha</th>\n      <th>T8/betaL</th>\n      <th>T8/betaH</th>\n      <th>T8/gamma</th>\n      <th>AF4/theta</th>\n      <th>AF4/alpha</th>\n      <th>AF4/betaL</th>\n      <th>AF4/betaH</th>\n      <th>AF4/gamma</th>\n    </tr>\n  </thead>\n  <tbody>\n    <tr>\n      <th>0</th>\n      <td>0.0</td>\n      <td>60.585125</td>\n      <td>42.434000</td>\n      <td>26.244500</td>\n      <td>11.171875</td>\n      <td>6.411875</td>\n      <td>6.171250</td>\n      <td>7.971250</td>\n      <td>6.57825</td>\n      <td>6.153250</td>\n      <td>...</td>\n      <td>4.648375</td>\n      <td>4.932700</td>\n      <td>1.986825</td>\n      <td>4.858250</td>\n      <td>5.513250</td>\n      <td>25.836588</td>\n      <td>21.956125</td>\n      <td>16.224250</td>\n      <td>8.126000</td>\n      <td>6.759000</td>\n    </tr>\n    <tr>\n      <th>1</th>\n      <td>1.0</td>\n      <td>59.202625</td>\n      <td>37.368667</td>\n      <td>15.738833</td>\n      <td>7.385125</td>\n      <td>10.349208</td>\n      <td>10.745083</td>\n      <td>7.189583</td>\n      <td>5.31125</td>\n      <td>3.823667</td>\n      <td>...</td>\n      <td>10.972125</td>\n      <td>6.214400</td>\n      <td>5.008775</td>\n      <td>2.835500</td>\n      <td>9.433500</td>\n      <td>44.876029</td>\n      <td>29.446542</td>\n      <td>8.784333</td>\n      <td>6.979083</td>\n      <td>7.910083</td>\n    </tr>\n    <tr>\n      <th>2</th>\n      <td>2.0</td>\n      <td>98.036625</td>\n      <td>29.010500</td>\n      <td>10.363143</td>\n      <td>7.097911</td>\n      <td>8.053875</td>\n      <td>14.071964</td>\n      <td>7.795321</td>\n      <td>4.32925</td>\n      <td>5.313000</td>\n      <td>...</td>\n      <td>13.638911</td>\n      <td>4.911336</td>\n      <td>4.126975</td>\n      <td>4.574571</td>\n      <td>9.461357</td>\n      <td>86.560513</td>\n      <td>23.468804</td>\n      <td>7.793429</td>\n      <td>6.992964</td>\n      <td>7.405679</td>\n    </tr>\n    <tr>\n      <th>3</th>\n      <td>3.0</td>\n      <td>84.855225</td>\n      <td>22.443433</td>\n      <td>8.173267</td>\n      <td>6.682225</td>\n      <td>5.623475</td>\n      <td>10.553183</td>\n      <td>6.868683</td>\n      <td>3.64373</td>\n      <td>4.798867</td>\n      <td>...</td>\n      <td>8.858025</td>\n      <td>4.262063</td>\n      <td>3.836522</td>\n      <td>4.866600</td>\n      <td>6.582900</td>\n      <td>57.966772</td>\n      <td>18.679442</td>\n      <td>7.407400</td>\n      <td>5.196917</td>\n      <td>5.313983</td>\n    </tr>\n    <tr>\n      <th>4</th>\n      <td>4.0</td>\n      <td>102.198077</td>\n      <td>26.761016</td>\n      <td>11.163516</td>\n      <td>5.251593</td>\n      <td>4.740714</td>\n      <td>10.320960</td>\n      <td>7.773685</td>\n      <td>6.49916</td>\n      <td>4.478548</td>\n      <td>...</td>\n      <td>7.928980</td>\n      <td>4.423837</td>\n      <td>6.279414</td>\n      <td>5.423129</td>\n      <td>5.922565</td>\n      <td>49.771858</td>\n      <td>23.916633</td>\n      <td>8.690484</td>\n      <td>5.534573</td>\n      <td>4.480766</td>\n    </tr>\n  </tbody>\n</table>\n<p>5 rows × 26 columns</p>\n</div>"
     },
     "execution_count": 321,
     "metadata": {},
     "output_type": "execute_result"
    }
   ],
   "source": [
    "eegBandPower_ama.head()"
   ],
   "metadata": {
    "collapsed": false
   }
  },
  {
   "cell_type": "code",
   "execution_count": 322,
   "outputs": [
    {
     "data": {
      "text/plain": "array(['time', 'AF3/theta', 'AF3/alpha', 'AF3/betaL', 'AF3/betaH',\n       'AF3/gamma', 'T7/theta', 'T7/alpha', 'T7/betaL', 'T7/betaH',\n       'T7/gamma', 'Pz/theta', 'Pz/alpha', 'Pz/betaL', 'Pz/betaH',\n       'Pz/gamma', 'T8/theta', 'T8/alpha', 'T8/betaL', 'T8/betaH',\n       'T8/gamma', 'AF4/theta', 'AF4/alpha', 'AF4/betaL', 'AF4/betaH',\n       'AF4/gamma'], dtype=object)"
     },
     "execution_count": 322,
     "metadata": {},
     "output_type": "execute_result"
    }
   ],
   "source": [
    "eegBandPower_ama.columns.values"
   ],
   "metadata": {
    "collapsed": false
   }
  },
  {
   "cell_type": "markdown",
   "source": [
    "Značajke eegBandPower_ama:\n"
   ],
   "metadata": {
    "collapsed": false
   }
  },
  {
   "cell_type": "code",
   "execution_count": 323,
   "outputs": [
    {
     "data": {
      "text/plain": "(1588, 7)"
     },
     "execution_count": 323,
     "metadata": {},
     "output_type": "execute_result"
    }
   ],
   "source": [
    "eegMetrics_ama.shape"
   ],
   "metadata": {
    "collapsed": false
   }
  },
  {
   "cell_type": "code",
   "execution_count": 324,
   "outputs": [
    {
     "data": {
      "text/plain": "   time  Engagement  Excitement    Stress  Relaxation  Interest     Focus\n0   0.0    0.556424    0.343362  0.372889    0.374140  0.526667  0.471662\n1   1.0    0.563887    0.340924  0.370238    0.369393  0.524623  0.478231\n2   2.0    0.572415    0.338138  0.367209    0.363969  0.522288  0.485738\n3   3.0    0.581797    0.335074  0.363876    0.358002  0.519718  0.493996\n4   4.0    0.591811    0.331802  0.360319    0.351632  0.516976  0.502811",
      "text/html": "<div>\n<style scoped>\n    .dataframe tbody tr th:only-of-type {\n        vertical-align: middle;\n    }\n\n    .dataframe tbody tr th {\n        vertical-align: top;\n    }\n\n    .dataframe thead th {\n        text-align: right;\n    }\n</style>\n<table border=\"1\" class=\"dataframe\">\n  <thead>\n    <tr style=\"text-align: right;\">\n      <th></th>\n      <th>time</th>\n      <th>Engagement</th>\n      <th>Excitement</th>\n      <th>Stress</th>\n      <th>Relaxation</th>\n      <th>Interest</th>\n      <th>Focus</th>\n    </tr>\n  </thead>\n  <tbody>\n    <tr>\n      <th>0</th>\n      <td>0.0</td>\n      <td>0.556424</td>\n      <td>0.343362</td>\n      <td>0.372889</td>\n      <td>0.374140</td>\n      <td>0.526667</td>\n      <td>0.471662</td>\n    </tr>\n    <tr>\n      <th>1</th>\n      <td>1.0</td>\n      <td>0.563887</td>\n      <td>0.340924</td>\n      <td>0.370238</td>\n      <td>0.369393</td>\n      <td>0.524623</td>\n      <td>0.478231</td>\n    </tr>\n    <tr>\n      <th>2</th>\n      <td>2.0</td>\n      <td>0.572415</td>\n      <td>0.338138</td>\n      <td>0.367209</td>\n      <td>0.363969</td>\n      <td>0.522288</td>\n      <td>0.485738</td>\n    </tr>\n    <tr>\n      <th>3</th>\n      <td>3.0</td>\n      <td>0.581797</td>\n      <td>0.335074</td>\n      <td>0.363876</td>\n      <td>0.358002</td>\n      <td>0.519718</td>\n      <td>0.493996</td>\n    </tr>\n    <tr>\n      <th>4</th>\n      <td>4.0</td>\n      <td>0.591811</td>\n      <td>0.331802</td>\n      <td>0.360319</td>\n      <td>0.351632</td>\n      <td>0.516976</td>\n      <td>0.502811</td>\n    </tr>\n  </tbody>\n</table>\n</div>"
     },
     "execution_count": 324,
     "metadata": {},
     "output_type": "execute_result"
    }
   ],
   "source": [
    "eegMetrics_ama.head()"
   ],
   "metadata": {
    "collapsed": false
   }
  },
  {
   "cell_type": "code",
   "execution_count": 325,
   "outputs": [
    {
     "data": {
      "text/plain": "array(['time', 'Engagement', 'Excitement', 'Stress', 'Relaxation',\n       'Interest', 'Focus'], dtype=object)"
     },
     "execution_count": 325,
     "metadata": {},
     "output_type": "execute_result"
    }
   ],
   "source": [
    "eegMetrics_ama.columns.values"
   ],
   "metadata": {
    "collapsed": false
   }
  },
  {
   "cell_type": "markdown",
   "source": [
    "Značajke eegMetrics_ama:\n",
    "time - vrijeme u minutama\n",
    "engagement - aktivnost mozga\n",
    "excitement - uzbuđenje\n",
    "stress - stres\n",
    "relaxation - opuštenost\n",
    "interest - interes\n",
    "focus - fokus"
   ],
   "metadata": {
    "collapsed": false
   }
  },
  {
   "cell_type": "markdown",
   "source": [
    "### Aktivnost mišića"
   ],
   "metadata": {
    "collapsed": false
   }
  },
  {
   "cell_type": "code",
   "execution_count": 326,
   "outputs": [
    {
     "data": {
      "text/plain": "(1593, 3)"
     },
     "execution_count": 326,
     "metadata": {},
     "output_type": "execute_result"
    }
   ],
   "source": [
    "emg_ama.shape"
   ],
   "metadata": {
    "collapsed": false
   }
  },
  {
   "cell_type": "code",
   "execution_count": 327,
   "outputs": [
    {
     "data": {
      "text/plain": "   time  emg_right_hand  emg_left_hand\n0   0.0        5.928571       7.071429\n1   1.0        7.150794       6.801587\n2   2.0        5.949643       6.845280\n3   3.0        5.378126       5.991212\n4   4.0        6.137803       6.666715",
      "text/html": "<div>\n<style scoped>\n    .dataframe tbody tr th:only-of-type {\n        vertical-align: middle;\n    }\n\n    .dataframe tbody tr th {\n        vertical-align: top;\n    }\n\n    .dataframe thead th {\n        text-align: right;\n    }\n</style>\n<table border=\"1\" class=\"dataframe\">\n  <thead>\n    <tr style=\"text-align: right;\">\n      <th></th>\n      <th>time</th>\n      <th>emg_right_hand</th>\n      <th>emg_left_hand</th>\n    </tr>\n  </thead>\n  <tbody>\n    <tr>\n      <th>0</th>\n      <td>0.0</td>\n      <td>5.928571</td>\n      <td>7.071429</td>\n    </tr>\n    <tr>\n      <th>1</th>\n      <td>1.0</td>\n      <td>7.150794</td>\n      <td>6.801587</td>\n    </tr>\n    <tr>\n      <th>2</th>\n      <td>2.0</td>\n      <td>5.949643</td>\n      <td>6.845280</td>\n    </tr>\n    <tr>\n      <th>3</th>\n      <td>3.0</td>\n      <td>5.378126</td>\n      <td>5.991212</td>\n    </tr>\n    <tr>\n      <th>4</th>\n      <td>4.0</td>\n      <td>6.137803</td>\n      <td>6.666715</td>\n    </tr>\n  </tbody>\n</table>\n</div>"
     },
     "execution_count": 327,
     "metadata": {},
     "output_type": "execute_result"
    }
   ],
   "source": [
    "emg_ama.head()"
   ],
   "metadata": {
    "collapsed": false
   }
  },
  {
   "cell_type": "code",
   "execution_count": 328,
   "outputs": [
    {
     "data": {
      "text/plain": "array(['time', 'emg_right_hand', 'emg_left_hand'], dtype=object)"
     },
     "execution_count": 328,
     "metadata": {},
     "output_type": "execute_result"
    }
   ],
   "source": [
    "emg_ama.columns.values"
   ],
   "metadata": {
    "collapsed": false
   }
  },
  {
   "cell_type": "markdown",
   "source": [
    "Značajke emg_ama:\n",
    "time - vrijeme u minutama\n",
    "emg_right_hand - kontrakcija mišića desne ruke\n",
    "emg_left_hand - kontrakcija mišića lijeve ruke\n",
    "\n"
   ],
   "metadata": {
    "collapsed": false
   }
  },
  {
   "cell_type": "markdown",
   "source": [
    "### Praćenje pogleda"
   ],
   "metadata": {
    "collapsed": false
   }
  },
  {
   "cell_type": "code",
   "execution_count": 329,
   "outputs": [
    {
     "data": {
      "text/plain": "(1592, 3)"
     },
     "execution_count": 329,
     "metadata": {},
     "output_type": "execute_result"
    }
   ],
   "source": [
    "eyeTracker_ama.shape"
   ],
   "metadata": {
    "collapsed": false
   }
  },
  {
   "cell_type": "code",
   "execution_count": 330,
   "outputs": [
    {
     "data": {
      "text/plain": "   time  gaze_movement  pupil_diameter\n0   0.0    2747.526039        4.621058\n1   1.0    2475.337210        4.522496\n2   2.0    2856.365637        4.512538\n3   3.0    1601.237059        4.487380\n4   4.0    2672.972754        4.553411",
      "text/html": "<div>\n<style scoped>\n    .dataframe tbody tr th:only-of-type {\n        vertical-align: middle;\n    }\n\n    .dataframe tbody tr th {\n        vertical-align: top;\n    }\n\n    .dataframe thead th {\n        text-align: right;\n    }\n</style>\n<table border=\"1\" class=\"dataframe\">\n  <thead>\n    <tr style=\"text-align: right;\">\n      <th></th>\n      <th>time</th>\n      <th>gaze_movement</th>\n      <th>pupil_diameter</th>\n    </tr>\n  </thead>\n  <tbody>\n    <tr>\n      <th>0</th>\n      <td>0.0</td>\n      <td>2747.526039</td>\n      <td>4.621058</td>\n    </tr>\n    <tr>\n      <th>1</th>\n      <td>1.0</td>\n      <td>2475.337210</td>\n      <td>4.522496</td>\n    </tr>\n    <tr>\n      <th>2</th>\n      <td>2.0</td>\n      <td>2856.365637</td>\n      <td>4.512538</td>\n    </tr>\n    <tr>\n      <th>3</th>\n      <td>3.0</td>\n      <td>1601.237059</td>\n      <td>4.487380</td>\n    </tr>\n    <tr>\n      <th>4</th>\n      <td>4.0</td>\n      <td>2672.972754</td>\n      <td>4.553411</td>\n    </tr>\n  </tbody>\n</table>\n</div>"
     },
     "execution_count": 330,
     "metadata": {},
     "output_type": "execute_result"
    }
   ],
   "source": [
    "eyeTracker_ama.head()"
   ],
   "metadata": {
    "collapsed": false
   }
  },
  {
   "cell_type": "code",
   "execution_count": 331,
   "outputs": [
    {
     "data": {
      "text/plain": "array(['time', 'gaze_movement', 'pupil_diameter'], dtype=object)"
     },
     "execution_count": 331,
     "metadata": {},
     "output_type": "execute_result"
    }
   ],
   "source": [
    "eyeTracker_ama.columns.values"
   ],
   "metadata": {
    "collapsed": false
   }
  },
  {
   "cell_type": "markdown",
   "source": [
    "Značajke eyeTracker_ama:\n",
    "time - vrijeme u minutama\n",
    "gaze_movement - kretanje pogleda\n",
    "pupil_diameter - promjer zjenice"
   ],
   "metadata": {
    "collapsed": false
   }
  },
  {
   "cell_type": "markdown",
   "source": [
    "### Temperatura lica"
   ],
   "metadata": {
    "collapsed": false
   }
  },
  {
   "cell_type": "code",
   "execution_count": 332,
   "outputs": [
    {
     "data": {
      "text/plain": "(73, 2)"
     },
     "execution_count": 332,
     "metadata": {},
     "output_type": "execute_result"
    }
   ],
   "source": [
    "facialSkin_ama.shape"
   ],
   "metadata": {
    "collapsed": false
   }
  },
  {
   "cell_type": "code",
   "execution_count": 333,
   "outputs": [
    {
     "data": {
      "text/plain": "   time  facial_skin_temperature\n0   1.0                35.224500\n1   2.0                35.218567\n2   3.0                35.211786\n3   4.0                35.204327\n4   5.0                35.196365",
      "text/html": "<div>\n<style scoped>\n    .dataframe tbody tr th:only-of-type {\n        vertical-align: middle;\n    }\n\n    .dataframe tbody tr th {\n        vertical-align: top;\n    }\n\n    .dataframe thead th {\n        text-align: right;\n    }\n</style>\n<table border=\"1\" class=\"dataframe\">\n  <thead>\n    <tr style=\"text-align: right;\">\n      <th></th>\n      <th>time</th>\n      <th>facial_skin_temperature</th>\n    </tr>\n  </thead>\n  <tbody>\n    <tr>\n      <th>0</th>\n      <td>1.0</td>\n      <td>35.224500</td>\n    </tr>\n    <tr>\n      <th>1</th>\n      <td>2.0</td>\n      <td>35.218567</td>\n    </tr>\n    <tr>\n      <th>2</th>\n      <td>3.0</td>\n      <td>35.211786</td>\n    </tr>\n    <tr>\n      <th>3</th>\n      <td>4.0</td>\n      <td>35.204327</td>\n    </tr>\n    <tr>\n      <th>4</th>\n      <td>5.0</td>\n      <td>35.196365</td>\n    </tr>\n  </tbody>\n</table>\n</div>"
     },
     "execution_count": 333,
     "metadata": {},
     "output_type": "execute_result"
    }
   ],
   "source": [
    "facialSkin_ama.head()"
   ],
   "metadata": {
    "collapsed": false
   }
  },
  {
   "cell_type": "code",
   "execution_count": 334,
   "outputs": [
    {
     "data": {
      "text/plain": "array(['time', 'facial_skin_temperature'], dtype=object)"
     },
     "execution_count": 334,
     "metadata": {},
     "output_type": "execute_result"
    }
   ],
   "source": [
    "facialSkin_ama.columns.values"
   ],
   "metadata": {
    "collapsed": false
   }
  },
  {
   "cell_type": "markdown",
   "source": [
    "Značajke facialSkin_ama:\n",
    "time - vrijeme u minutama\n",
    "facial_skin_temperature - temperatura kože lica u stupnjevima celzijusa\n",
    "\n"
   ],
   "metadata": {
    "collapsed": false
   }
  },
  {
   "cell_type": "markdown",
   "source": [
    "### Elektrodermalna aktivnost"
   ],
   "metadata": {
    "collapsed": false
   }
  },
  {
   "cell_type": "code",
   "execution_count": 335,
   "outputs": [
    {
     "data": {
      "text/plain": "(1593, 2)"
     },
     "execution_count": 335,
     "metadata": {},
     "output_type": "execute_result"
    }
   ],
   "source": [
    "gsr_ama.shape"
   ],
   "metadata": {
    "collapsed": false
   }
  },
  {
   "cell_type": "code",
   "execution_count": 336,
   "outputs": [
    {
     "data": {
      "text/plain": "   time           gsr\n0   0.0  27458.488272\n1   1.0  27547.022201\n2   2.0  27654.406824\n3   3.0  27836.016424\n4   4.0  27882.153697",
      "text/html": "<div>\n<style scoped>\n    .dataframe tbody tr th:only-of-type {\n        vertical-align: middle;\n    }\n\n    .dataframe tbody tr th {\n        vertical-align: top;\n    }\n\n    .dataframe thead th {\n        text-align: right;\n    }\n</style>\n<table border=\"1\" class=\"dataframe\">\n  <thead>\n    <tr style=\"text-align: right;\">\n      <th></th>\n      <th>time</th>\n      <th>gsr</th>\n    </tr>\n  </thead>\n  <tbody>\n    <tr>\n      <th>0</th>\n      <td>0.0</td>\n      <td>27458.488272</td>\n    </tr>\n    <tr>\n      <th>1</th>\n      <td>1.0</td>\n      <td>27547.022201</td>\n    </tr>\n    <tr>\n      <th>2</th>\n      <td>2.0</td>\n      <td>27654.406824</td>\n    </tr>\n    <tr>\n      <th>3</th>\n      <td>3.0</td>\n      <td>27836.016424</td>\n    </tr>\n    <tr>\n      <th>4</th>\n      <td>4.0</td>\n      <td>27882.153697</td>\n    </tr>\n  </tbody>\n</table>\n</div>"
     },
     "execution_count": 336,
     "metadata": {},
     "output_type": "execute_result"
    }
   ],
   "source": [
    "gsr_ama.head()"
   ],
   "metadata": {
    "collapsed": false
   }
  },
  {
   "cell_type": "code",
   "execution_count": 337,
   "outputs": [
    {
     "data": {
      "text/plain": "array(['time', 'gsr'], dtype=object)"
     },
     "execution_count": 337,
     "metadata": {},
     "output_type": "execute_result"
    }
   ],
   "source": [
    "gsr_ama.columns.values"
   ],
   "metadata": {
    "collapsed": false
   }
  },
  {
   "cell_type": "markdown",
   "source": [
    "Značajke gsr_ama:\n",
    "time - vrijeme u minutama\n",
    "gsr - provodljivost kože\n",
    "\n"
   ],
   "metadata": {
    "collapsed": false
   }
  },
  {
   "cell_type": "markdown",
   "source": [
    "### Otkucaji srca"
   ],
   "metadata": {
    "collapsed": false
   }
  },
  {
   "cell_type": "code",
   "execution_count": 338,
   "outputs": [
    {
     "data": {
      "text/plain": "(24, 2)"
     },
     "execution_count": 338,
     "metadata": {},
     "output_type": "execute_result"
    }
   ],
   "source": [
    "heartRate_ama.shape"
   ],
   "metadata": {
    "collapsed": false
   }
  },
  {
   "cell_type": "code",
   "execution_count": 339,
   "outputs": [
    {
     "data": {
      "text/plain": "   time  heart_rate\n0   0.0   66.000000\n1   1.0   65.333333\n2   2.0   65.142857\n3   3.0   65.066667\n4   4.0   65.032258",
      "text/html": "<div>\n<style scoped>\n    .dataframe tbody tr th:only-of-type {\n        vertical-align: middle;\n    }\n\n    .dataframe tbody tr th {\n        vertical-align: top;\n    }\n\n    .dataframe thead th {\n        text-align: right;\n    }\n</style>\n<table border=\"1\" class=\"dataframe\">\n  <thead>\n    <tr style=\"text-align: right;\">\n      <th></th>\n      <th>time</th>\n      <th>heart_rate</th>\n    </tr>\n  </thead>\n  <tbody>\n    <tr>\n      <th>0</th>\n      <td>0.0</td>\n      <td>66.000000</td>\n    </tr>\n    <tr>\n      <th>1</th>\n      <td>1.0</td>\n      <td>65.333333</td>\n    </tr>\n    <tr>\n      <th>2</th>\n      <td>2.0</td>\n      <td>65.142857</td>\n    </tr>\n    <tr>\n      <th>3</th>\n      <td>3.0</td>\n      <td>65.066667</td>\n    </tr>\n    <tr>\n      <th>4</th>\n      <td>4.0</td>\n      <td>65.032258</td>\n    </tr>\n  </tbody>\n</table>\n</div>"
     },
     "execution_count": 339,
     "metadata": {},
     "output_type": "execute_result"
    }
   ],
   "source": [
    "heartRate_ama.head()"
   ],
   "metadata": {
    "collapsed": false
   }
  },
  {
   "cell_type": "code",
   "execution_count": 340,
   "outputs": [
    {
     "data": {
      "text/plain": "array(['time', 'heart_rate'], dtype=object)"
     },
     "execution_count": 340,
     "metadata": {},
     "output_type": "execute_result"
    }
   ],
   "source": [
    "heartRate_ama.columns.values"
   ],
   "metadata": {
    "collapsed": false
   }
  },
  {
   "cell_type": "markdown",
   "source": [
    "Značajke heartRate_ama:\n",
    "time - vrijeme u minutama\n",
    "heart_rate - broj otkucaja srca po minuti\n",
    "\n"
   ],
   "metadata": {
    "collapsed": false
   }
  },
  {
   "cell_type": "markdown",
   "source": [
    "### Pokreti stolice, ruku i glave"
   ],
   "metadata": {
    "collapsed": false
   }
  },
  {
   "cell_type": "code",
   "execution_count": 341,
   "outputs": [
    {
     "data": {
      "text/plain": "(1593, 17)"
     },
     "execution_count": 341,
     "metadata": {},
     "output_type": "execute_result"
    }
   ],
   "source": [
    "imuChairBack_ama.shape"
   ],
   "metadata": {
    "collapsed": false
   }
  },
  {
   "cell_type": "code",
   "execution_count": 342,
   "outputs": [
    {
     "data": {
      "text/plain": "   time  linaccel_x  linaccel_y  linaccel_z  gravity_x  gravity_y  gravity_z  \\\n0   0.0    0.006000   -0.280462    0.074000       0.03      -9.74      -1.12   \n1   1.0    0.003111   -0.278639    0.074061       0.03      -9.74      -1.12   \n2   2.0    0.002405   -0.279595    0.074597       0.03      -9.74      -1.12   \n3   3.0    0.002517   -0.279893    0.076740       0.03      -9.74      -1.12   \n4   4.0    0.002409   -0.280901    0.077946       0.03      -9.74      -1.12   \n\n     gyro_x    gyro_y    gyro_z  euler_x  euler_y  euler_z  quaternion_w  \\\n0 -0.050000 -0.009615  0.004808  345.125    0.125     96.5      0.659912   \n1  0.002904  0.003108  0.007916  345.125    0.125     96.5      0.659912   \n2  0.017986  0.003006  0.019017  345.125    0.125     96.5      0.659912   \n3 -0.000325  0.004993 -0.000356  345.125    0.125     96.5      0.659912   \n4  0.028627 -0.007510 -0.020520  345.125    0.125     96.5      0.659912   \n\n   quaternion_y  quaternion_x  quaternion_z  \n0     -0.098877     -0.739807      0.086121  \n1     -0.098877     -0.739807      0.086121  \n2     -0.098877     -0.739807      0.086121  \n3     -0.098877     -0.739807      0.086121  \n4     -0.098877     -0.739807      0.086121  ",
      "text/html": "<div>\n<style scoped>\n    .dataframe tbody tr th:only-of-type {\n        vertical-align: middle;\n    }\n\n    .dataframe tbody tr th {\n        vertical-align: top;\n    }\n\n    .dataframe thead th {\n        text-align: right;\n    }\n</style>\n<table border=\"1\" class=\"dataframe\">\n  <thead>\n    <tr style=\"text-align: right;\">\n      <th></th>\n      <th>time</th>\n      <th>linaccel_x</th>\n      <th>linaccel_y</th>\n      <th>linaccel_z</th>\n      <th>gravity_x</th>\n      <th>gravity_y</th>\n      <th>gravity_z</th>\n      <th>gyro_x</th>\n      <th>gyro_y</th>\n      <th>gyro_z</th>\n      <th>euler_x</th>\n      <th>euler_y</th>\n      <th>euler_z</th>\n      <th>quaternion_w</th>\n      <th>quaternion_y</th>\n      <th>quaternion_x</th>\n      <th>quaternion_z</th>\n    </tr>\n  </thead>\n  <tbody>\n    <tr>\n      <th>0</th>\n      <td>0.0</td>\n      <td>0.006000</td>\n      <td>-0.280462</td>\n      <td>0.074000</td>\n      <td>0.03</td>\n      <td>-9.74</td>\n      <td>-1.12</td>\n      <td>-0.050000</td>\n      <td>-0.009615</td>\n      <td>0.004808</td>\n      <td>345.125</td>\n      <td>0.125</td>\n      <td>96.5</td>\n      <td>0.659912</td>\n      <td>-0.098877</td>\n      <td>-0.739807</td>\n      <td>0.086121</td>\n    </tr>\n    <tr>\n      <th>1</th>\n      <td>1.0</td>\n      <td>0.003111</td>\n      <td>-0.278639</td>\n      <td>0.074061</td>\n      <td>0.03</td>\n      <td>-9.74</td>\n      <td>-1.12</td>\n      <td>0.002904</td>\n      <td>0.003108</td>\n      <td>0.007916</td>\n      <td>345.125</td>\n      <td>0.125</td>\n      <td>96.5</td>\n      <td>0.659912</td>\n      <td>-0.098877</td>\n      <td>-0.739807</td>\n      <td>0.086121</td>\n    </tr>\n    <tr>\n      <th>2</th>\n      <td>2.0</td>\n      <td>0.002405</td>\n      <td>-0.279595</td>\n      <td>0.074597</td>\n      <td>0.03</td>\n      <td>-9.74</td>\n      <td>-1.12</td>\n      <td>0.017986</td>\n      <td>0.003006</td>\n      <td>0.019017</td>\n      <td>345.125</td>\n      <td>0.125</td>\n      <td>96.5</td>\n      <td>0.659912</td>\n      <td>-0.098877</td>\n      <td>-0.739807</td>\n      <td>0.086121</td>\n    </tr>\n    <tr>\n      <th>3</th>\n      <td>3.0</td>\n      <td>0.002517</td>\n      <td>-0.279893</td>\n      <td>0.076740</td>\n      <td>0.03</td>\n      <td>-9.74</td>\n      <td>-1.12</td>\n      <td>-0.000325</td>\n      <td>0.004993</td>\n      <td>-0.000356</td>\n      <td>345.125</td>\n      <td>0.125</td>\n      <td>96.5</td>\n      <td>0.659912</td>\n      <td>-0.098877</td>\n      <td>-0.739807</td>\n      <td>0.086121</td>\n    </tr>\n    <tr>\n      <th>4</th>\n      <td>4.0</td>\n      <td>0.002409</td>\n      <td>-0.280901</td>\n      <td>0.077946</td>\n      <td>0.03</td>\n      <td>-9.74</td>\n      <td>-1.12</td>\n      <td>0.028627</td>\n      <td>-0.007510</td>\n      <td>-0.020520</td>\n      <td>345.125</td>\n      <td>0.125</td>\n      <td>96.5</td>\n      <td>0.659912</td>\n      <td>-0.098877</td>\n      <td>-0.739807</td>\n      <td>0.086121</td>\n    </tr>\n  </tbody>\n</table>\n</div>"
     },
     "execution_count": 342,
     "metadata": {},
     "output_type": "execute_result"
    }
   ],
   "source": [
    "imuChairBack_ama.head()"
   ],
   "metadata": {
    "collapsed": false
   }
  },
  {
   "cell_type": "code",
   "execution_count": 343,
   "outputs": [
    {
     "data": {
      "text/plain": "array(['time', 'linaccel_x', 'linaccel_y', 'linaccel_z', 'gravity_x',\n       'gravity_y', 'gravity_z', 'gyro_x', 'gyro_y', 'gyro_z', 'euler_x',\n       'euler_y', 'euler_z', 'quaternion_w', 'quaternion_y',\n       'quaternion_x', 'quaternion_z'], dtype=object)"
     },
     "execution_count": 343,
     "metadata": {},
     "output_type": "execute_result"
    }
   ],
   "source": [
    "imuChairBack_ama.columns.values"
   ],
   "metadata": {
    "collapsed": false
   }
  },
  {
   "cell_type": "code",
   "execution_count": 344,
   "outputs": [
    {
     "data": {
      "text/plain": "(1593, 17)"
     },
     "execution_count": 344,
     "metadata": {},
     "output_type": "execute_result"
    }
   ],
   "source": [
    "imuChairSeat_ama.shape"
   ],
   "metadata": {
    "collapsed": false
   }
  },
  {
   "cell_type": "code",
   "execution_count": 345,
   "outputs": [
    {
     "data": {
      "text/plain": "   time  linaccel_x  linaccel_y  linaccel_z  gravity_x  gravity_y  gravity_z  \\\n0   0.0    0.127077   -0.051538    0.068769      -0.07      -1.26      -9.72   \n1   1.0    0.129026   -0.052533    0.069489      -0.07      -1.26      -9.72   \n2   2.0    0.129493   -0.052425    0.067370      -0.07      -1.26      -9.72   \n3   3.0    0.130748   -0.051624    0.067296      -0.07      -1.26      -9.72   \n4   4.0    0.131553   -0.051739    0.067103      -0.07      -1.26      -9.72   \n\n     gyro_x    gyro_y    gyro_z   euler_x  euler_y   euler_z  quaternion_w  \\\n0  0.009615  0.040385 -0.016346  160.9375  -0.4375  172.5625      0.063293   \n1 -0.023310  0.031138 -0.004186  160.9375  -0.4375  172.5625      0.063293   \n2 -0.020593  0.016135  0.001554  160.9375  -0.4375  172.5625      0.063293   \n3 -0.010636  0.012658 -0.010557  160.9375  -0.4375  172.5625      0.063293   \n4 -0.005146  0.000666 -0.001138  160.9375  -0.4375  172.5625      0.063293   \n\n   quaternion_y  quaternion_x  quaternion_z  \n0     -0.165039     -0.984131      0.014709  \n1     -0.165039     -0.984131      0.014709  \n2     -0.165039     -0.984131      0.014709  \n3     -0.165039     -0.984131      0.014709  \n4     -0.165039     -0.984131      0.014709  ",
      "text/html": "<div>\n<style scoped>\n    .dataframe tbody tr th:only-of-type {\n        vertical-align: middle;\n    }\n\n    .dataframe tbody tr th {\n        vertical-align: top;\n    }\n\n    .dataframe thead th {\n        text-align: right;\n    }\n</style>\n<table border=\"1\" class=\"dataframe\">\n  <thead>\n    <tr style=\"text-align: right;\">\n      <th></th>\n      <th>time</th>\n      <th>linaccel_x</th>\n      <th>linaccel_y</th>\n      <th>linaccel_z</th>\n      <th>gravity_x</th>\n      <th>gravity_y</th>\n      <th>gravity_z</th>\n      <th>gyro_x</th>\n      <th>gyro_y</th>\n      <th>gyro_z</th>\n      <th>euler_x</th>\n      <th>euler_y</th>\n      <th>euler_z</th>\n      <th>quaternion_w</th>\n      <th>quaternion_y</th>\n      <th>quaternion_x</th>\n      <th>quaternion_z</th>\n    </tr>\n  </thead>\n  <tbody>\n    <tr>\n      <th>0</th>\n      <td>0.0</td>\n      <td>0.127077</td>\n      <td>-0.051538</td>\n      <td>0.068769</td>\n      <td>-0.07</td>\n      <td>-1.26</td>\n      <td>-9.72</td>\n      <td>0.009615</td>\n      <td>0.040385</td>\n      <td>-0.016346</td>\n      <td>160.9375</td>\n      <td>-0.4375</td>\n      <td>172.5625</td>\n      <td>0.063293</td>\n      <td>-0.165039</td>\n      <td>-0.984131</td>\n      <td>0.014709</td>\n    </tr>\n    <tr>\n      <th>1</th>\n      <td>1.0</td>\n      <td>0.129026</td>\n      <td>-0.052533</td>\n      <td>0.069489</td>\n      <td>-0.07</td>\n      <td>-1.26</td>\n      <td>-9.72</td>\n      <td>-0.023310</td>\n      <td>0.031138</td>\n      <td>-0.004186</td>\n      <td>160.9375</td>\n      <td>-0.4375</td>\n      <td>172.5625</td>\n      <td>0.063293</td>\n      <td>-0.165039</td>\n      <td>-0.984131</td>\n      <td>0.014709</td>\n    </tr>\n    <tr>\n      <th>2</th>\n      <td>2.0</td>\n      <td>0.129493</td>\n      <td>-0.052425</td>\n      <td>0.067370</td>\n      <td>-0.07</td>\n      <td>-1.26</td>\n      <td>-9.72</td>\n      <td>-0.020593</td>\n      <td>0.016135</td>\n      <td>0.001554</td>\n      <td>160.9375</td>\n      <td>-0.4375</td>\n      <td>172.5625</td>\n      <td>0.063293</td>\n      <td>-0.165039</td>\n      <td>-0.984131</td>\n      <td>0.014709</td>\n    </tr>\n    <tr>\n      <th>3</th>\n      <td>3.0</td>\n      <td>0.130748</td>\n      <td>-0.051624</td>\n      <td>0.067296</td>\n      <td>-0.07</td>\n      <td>-1.26</td>\n      <td>-9.72</td>\n      <td>-0.010636</td>\n      <td>0.012658</td>\n      <td>-0.010557</td>\n      <td>160.9375</td>\n      <td>-0.4375</td>\n      <td>172.5625</td>\n      <td>0.063293</td>\n      <td>-0.165039</td>\n      <td>-0.984131</td>\n      <td>0.014709</td>\n    </tr>\n    <tr>\n      <th>4</th>\n      <td>4.0</td>\n      <td>0.131553</td>\n      <td>-0.051739</td>\n      <td>0.067103</td>\n      <td>-0.07</td>\n      <td>-1.26</td>\n      <td>-9.72</td>\n      <td>-0.005146</td>\n      <td>0.000666</td>\n      <td>-0.001138</td>\n      <td>160.9375</td>\n      <td>-0.4375</td>\n      <td>172.5625</td>\n      <td>0.063293</td>\n      <td>-0.165039</td>\n      <td>-0.984131</td>\n      <td>0.014709</td>\n    </tr>\n  </tbody>\n</table>\n</div>"
     },
     "execution_count": 345,
     "metadata": {},
     "output_type": "execute_result"
    }
   ],
   "source": [
    "imuChairSeat_ama.head()"
   ],
   "metadata": {
    "collapsed": false
   }
  },
  {
   "cell_type": "code",
   "execution_count": 346,
   "outputs": [
    {
     "data": {
      "text/plain": "array(['time', 'linaccel_x', 'linaccel_y', 'linaccel_z', 'gravity_x',\n       'gravity_y', 'gravity_z', 'gyro_x', 'gyro_y', 'gyro_z', 'euler_x',\n       'euler_y', 'euler_z', 'quaternion_w', 'quaternion_y',\n       'quaternion_x', 'quaternion_z'], dtype=object)"
     },
     "execution_count": 346,
     "metadata": {},
     "output_type": "execute_result"
    }
   ],
   "source": [
    "imuChairSeat_ama.columns.values"
   ],
   "metadata": {
    "collapsed": false
   }
  },
  {
   "cell_type": "code",
   "execution_count": 347,
   "outputs": [
    {
     "data": {
      "text/plain": "(1593, 17)"
     },
     "execution_count": 347,
     "metadata": {},
     "output_type": "execute_result"
    }
   ],
   "source": [
    "imuLeftHand_ama.shape"
   ],
   "metadata": {
    "collapsed": false
   }
  },
  {
   "cell_type": "code",
   "execution_count": 348,
   "outputs": [
    {
     "data": {
      "text/plain": "   time  linaccel_x  linaccel_y  linaccel_z  gravity_x  gravity_y  gravity_z  \\\n0   0.0   -0.135714    0.012143   -0.014762  -1.258095   1.688810   9.570000   \n1   1.0   -0.127619    0.010873   -0.011111  -1.296825   1.677222   9.568413   \n2   2.0   -0.131070    0.011907   -0.010476  -1.300033   1.670447   9.569320   \n3   3.0   -0.136353    0.006727   -0.008791  -1.278162   1.662144   9.572674   \n4   4.0   -0.132945    0.000675   -0.005931  -1.272401   1.654457   9.576455   \n\n     gyro_x    gyro_y    gyro_z    euler_x   euler_y   euler_z  quaternion_w  \\\n0 -0.346726  0.038690 -0.090774  86.937500 -7.364583 -9.992560      0.721341   \n1 -0.175099  0.029762 -0.222718  86.937500 -7.598710 -9.955853      0.721247   \n2 -0.217029 -0.200660 -0.152071  86.947082 -7.618959 -9.922718      0.721158   \n3 -0.263069 -0.223722 -0.160397  86.975305 -7.485596 -9.874504      0.721145   \n4 -0.172453 -0.285672 -0.209870  86.996922 -7.452708 -9.810244      0.721017   \n\n   quaternion_y  quaternion_x  quaternion_z  \n0     -0.012710      0.107522     -0.684072  \n1     -0.010981      0.108592     -0.684030  \n2     -0.010683      0.108484     -0.684138  \n3     -0.011245      0.107408     -0.684307  \n4     -0.011122      0.106833     -0.684537  ",
      "text/html": "<div>\n<style scoped>\n    .dataframe tbody tr th:only-of-type {\n        vertical-align: middle;\n    }\n\n    .dataframe tbody tr th {\n        vertical-align: top;\n    }\n\n    .dataframe thead th {\n        text-align: right;\n    }\n</style>\n<table border=\"1\" class=\"dataframe\">\n  <thead>\n    <tr style=\"text-align: right;\">\n      <th></th>\n      <th>time</th>\n      <th>linaccel_x</th>\n      <th>linaccel_y</th>\n      <th>linaccel_z</th>\n      <th>gravity_x</th>\n      <th>gravity_y</th>\n      <th>gravity_z</th>\n      <th>gyro_x</th>\n      <th>gyro_y</th>\n      <th>gyro_z</th>\n      <th>euler_x</th>\n      <th>euler_y</th>\n      <th>euler_z</th>\n      <th>quaternion_w</th>\n      <th>quaternion_y</th>\n      <th>quaternion_x</th>\n      <th>quaternion_z</th>\n    </tr>\n  </thead>\n  <tbody>\n    <tr>\n      <th>0</th>\n      <td>0.0</td>\n      <td>-0.135714</td>\n      <td>0.012143</td>\n      <td>-0.014762</td>\n      <td>-1.258095</td>\n      <td>1.688810</td>\n      <td>9.570000</td>\n      <td>-0.346726</td>\n      <td>0.038690</td>\n      <td>-0.090774</td>\n      <td>86.937500</td>\n      <td>-7.364583</td>\n      <td>-9.992560</td>\n      <td>0.721341</td>\n      <td>-0.012710</td>\n      <td>0.107522</td>\n      <td>-0.684072</td>\n    </tr>\n    <tr>\n      <th>1</th>\n      <td>1.0</td>\n      <td>-0.127619</td>\n      <td>0.010873</td>\n      <td>-0.011111</td>\n      <td>-1.296825</td>\n      <td>1.677222</td>\n      <td>9.568413</td>\n      <td>-0.175099</td>\n      <td>0.029762</td>\n      <td>-0.222718</td>\n      <td>86.937500</td>\n      <td>-7.598710</td>\n      <td>-9.955853</td>\n      <td>0.721247</td>\n      <td>-0.010981</td>\n      <td>0.108592</td>\n      <td>-0.684030</td>\n    </tr>\n    <tr>\n      <th>2</th>\n      <td>2.0</td>\n      <td>-0.131070</td>\n      <td>0.011907</td>\n      <td>-0.010476</td>\n      <td>-1.300033</td>\n      <td>1.670447</td>\n      <td>9.569320</td>\n      <td>-0.217029</td>\n      <td>-0.200660</td>\n      <td>-0.152071</td>\n      <td>86.947082</td>\n      <td>-7.618959</td>\n      <td>-9.922718</td>\n      <td>0.721158</td>\n      <td>-0.010683</td>\n      <td>0.108484</td>\n      <td>-0.684138</td>\n    </tr>\n    <tr>\n      <th>3</th>\n      <td>3.0</td>\n      <td>-0.136353</td>\n      <td>0.006727</td>\n      <td>-0.008791</td>\n      <td>-1.278162</td>\n      <td>1.662144</td>\n      <td>9.572674</td>\n      <td>-0.263069</td>\n      <td>-0.223722</td>\n      <td>-0.160397</td>\n      <td>86.975305</td>\n      <td>-7.485596</td>\n      <td>-9.874504</td>\n      <td>0.721145</td>\n      <td>-0.011245</td>\n      <td>0.107408</td>\n      <td>-0.684307</td>\n    </tr>\n    <tr>\n      <th>4</th>\n      <td>4.0</td>\n      <td>-0.132945</td>\n      <td>0.000675</td>\n      <td>-0.005931</td>\n      <td>-1.272401</td>\n      <td>1.654457</td>\n      <td>9.576455</td>\n      <td>-0.172453</td>\n      <td>-0.285672</td>\n      <td>-0.209870</td>\n      <td>86.996922</td>\n      <td>-7.452708</td>\n      <td>-9.810244</td>\n      <td>0.721017</td>\n      <td>-0.011122</td>\n      <td>0.106833</td>\n      <td>-0.684537</td>\n    </tr>\n  </tbody>\n</table>\n</div>"
     },
     "execution_count": 348,
     "metadata": {},
     "output_type": "execute_result"
    }
   ],
   "source": [
    "imuLeftHand_ama.head()"
   ],
   "metadata": {
    "collapsed": false
   }
  },
  {
   "cell_type": "code",
   "execution_count": 349,
   "outputs": [
    {
     "data": {
      "text/plain": "array(['time', 'linaccel_x', 'linaccel_y', 'linaccel_z', 'gravity_x',\n       'gravity_y', 'gravity_z', 'gyro_x', 'gyro_y', 'gyro_z', 'euler_x',\n       'euler_y', 'euler_z', 'quaternion_w', 'quaternion_y',\n       'quaternion_x', 'quaternion_z'], dtype=object)"
     },
     "execution_count": 349,
     "metadata": {},
     "output_type": "execute_result"
    }
   ],
   "source": [
    "imuLeftHand_ama.columns.values"
   ],
   "metadata": {
    "collapsed": false
   }
  },
  {
   "cell_type": "code",
   "execution_count": 350,
   "outputs": [
    {
     "data": {
      "text/plain": "(1593, 17)"
     },
     "execution_count": 350,
     "metadata": {},
     "output_type": "execute_result"
    }
   ],
   "source": [
    "imuRightHand_ama.shape"
   ],
   "metadata": {
    "collapsed": false
   }
  },
  {
   "cell_type": "code",
   "execution_count": 351,
   "outputs": [
    {
     "data": {
      "text/plain": "   time  linaccel_x  linaccel_y  linaccel_z  gravity_x  gravity_y  gravity_z  \\\n0   0.0   -0.063095   -0.022619    0.022857   2.389048   1.730238   9.346429   \n1   1.0   -0.048810   -0.021984    0.021429   2.442698   1.717381   9.333889   \n2   2.0   -0.027190   -0.022244    0.016292   2.528264   1.691700   9.314942   \n3   3.0   -0.039225   -0.016234    0.016969   2.652897   1.670110   9.283168   \n4   4.0   -0.014722   -0.009662    0.014146   2.715918   1.638440   9.267468   \n\n     gyro_x    gyro_y    gyro_z     euler_x    euler_y    euler_z  \\\n0 -0.319940 -0.552083  0.095238  122.248512  14.105655 -10.471726   \n1  0.050099 -0.098710  0.021825  122.284226  14.426091 -10.414187   \n2 -0.370515 -1.571050 -0.150925  122.360487  14.940450 -10.284651   \n3 -0.102988  0.246518 -0.070432  122.524325  15.694161 -10.179992   \n4 -0.391769 -3.071846 -0.276015  122.580319  16.088304 -10.015319   \n\n   quaternion_w  quaternion_y  quaternion_x  quaternion_z  \n0     -0.477023      0.137977      0.065047      0.865548  \n1     -0.476597      0.138766      0.067797      0.865428  \n2     -0.475785      0.139776      0.072438      0.865316  \n3     -0.474190      0.141821      0.078857      0.865284  \n4     -0.473561      0.142033      0.082692      0.865157  ",
      "text/html": "<div>\n<style scoped>\n    .dataframe tbody tr th:only-of-type {\n        vertical-align: middle;\n    }\n\n    .dataframe tbody tr th {\n        vertical-align: top;\n    }\n\n    .dataframe thead th {\n        text-align: right;\n    }\n</style>\n<table border=\"1\" class=\"dataframe\">\n  <thead>\n    <tr style=\"text-align: right;\">\n      <th></th>\n      <th>time</th>\n      <th>linaccel_x</th>\n      <th>linaccel_y</th>\n      <th>linaccel_z</th>\n      <th>gravity_x</th>\n      <th>gravity_y</th>\n      <th>gravity_z</th>\n      <th>gyro_x</th>\n      <th>gyro_y</th>\n      <th>gyro_z</th>\n      <th>euler_x</th>\n      <th>euler_y</th>\n      <th>euler_z</th>\n      <th>quaternion_w</th>\n      <th>quaternion_y</th>\n      <th>quaternion_x</th>\n      <th>quaternion_z</th>\n    </tr>\n  </thead>\n  <tbody>\n    <tr>\n      <th>0</th>\n      <td>0.0</td>\n      <td>-0.063095</td>\n      <td>-0.022619</td>\n      <td>0.022857</td>\n      <td>2.389048</td>\n      <td>1.730238</td>\n      <td>9.346429</td>\n      <td>-0.319940</td>\n      <td>-0.552083</td>\n      <td>0.095238</td>\n      <td>122.248512</td>\n      <td>14.105655</td>\n      <td>-10.471726</td>\n      <td>-0.477023</td>\n      <td>0.137977</td>\n      <td>0.065047</td>\n      <td>0.865548</td>\n    </tr>\n    <tr>\n      <th>1</th>\n      <td>1.0</td>\n      <td>-0.048810</td>\n      <td>-0.021984</td>\n      <td>0.021429</td>\n      <td>2.442698</td>\n      <td>1.717381</td>\n      <td>9.333889</td>\n      <td>0.050099</td>\n      <td>-0.098710</td>\n      <td>0.021825</td>\n      <td>122.284226</td>\n      <td>14.426091</td>\n      <td>-10.414187</td>\n      <td>-0.476597</td>\n      <td>0.138766</td>\n      <td>0.067797</td>\n      <td>0.865428</td>\n    </tr>\n    <tr>\n      <th>2</th>\n      <td>2.0</td>\n      <td>-0.027190</td>\n      <td>-0.022244</td>\n      <td>0.016292</td>\n      <td>2.528264</td>\n      <td>1.691700</td>\n      <td>9.314942</td>\n      <td>-0.370515</td>\n      <td>-1.571050</td>\n      <td>-0.150925</td>\n      <td>122.360487</td>\n      <td>14.940450</td>\n      <td>-10.284651</td>\n      <td>-0.475785</td>\n      <td>0.139776</td>\n      <td>0.072438</td>\n      <td>0.865316</td>\n    </tr>\n    <tr>\n      <th>3</th>\n      <td>3.0</td>\n      <td>-0.039225</td>\n      <td>-0.016234</td>\n      <td>0.016969</td>\n      <td>2.652897</td>\n      <td>1.670110</td>\n      <td>9.283168</td>\n      <td>-0.102988</td>\n      <td>0.246518</td>\n      <td>-0.070432</td>\n      <td>122.524325</td>\n      <td>15.694161</td>\n      <td>-10.179992</td>\n      <td>-0.474190</td>\n      <td>0.141821</td>\n      <td>0.078857</td>\n      <td>0.865284</td>\n    </tr>\n    <tr>\n      <th>4</th>\n      <td>4.0</td>\n      <td>-0.014722</td>\n      <td>-0.009662</td>\n      <td>0.014146</td>\n      <td>2.715918</td>\n      <td>1.638440</td>\n      <td>9.267468</td>\n      <td>-0.391769</td>\n      <td>-3.071846</td>\n      <td>-0.276015</td>\n      <td>122.580319</td>\n      <td>16.088304</td>\n      <td>-10.015319</td>\n      <td>-0.473561</td>\n      <td>0.142033</td>\n      <td>0.082692</td>\n      <td>0.865157</td>\n    </tr>\n  </tbody>\n</table>\n</div>"
     },
     "execution_count": 351,
     "metadata": {},
     "output_type": "execute_result"
    }
   ],
   "source": [
    "imuRightHand_ama.head()"
   ],
   "metadata": {
    "collapsed": false
   }
  },
  {
   "cell_type": "code",
   "execution_count": 352,
   "outputs": [
    {
     "data": {
      "text/plain": "array(['time', 'linaccel_x', 'linaccel_y', 'linaccel_z', 'gravity_x',\n       'gravity_y', 'gravity_z', 'gyro_x', 'gyro_y', 'gyro_z', 'euler_x',\n       'euler_y', 'euler_z', 'quaternion_w', 'quaternion_y',\n       'quaternion_x', 'quaternion_z'], dtype=object)"
     },
     "execution_count": 352,
     "metadata": {},
     "output_type": "execute_result"
    }
   ],
   "source": [
    "imuRightHand_ama.columns.values"
   ],
   "metadata": {
    "collapsed": false
   }
  },
  {
   "cell_type": "markdown",
   "source": [
    "Značajke imuChairBack_0, imuChairSeat_0, imuLeftHand_0, imuRightHand_0:\n",
    "time - vrijeme u minutama\n",
    "linaccel_x - linearno ubrzanje na x osi\n",
    "linaccel_y - linearno ubrzanje na y osi\n",
    "linaccel_z - linearno ubrzanje na z osi\n",
    "gravity_x - ubrzanje gravitacije na x osi\n",
    "gravity_y - ubrzanje gravitacije na y osi\n",
    "gravity_z - ubrzanje gravitacije na z osi\n",
    "gyro_x - rotacijska brzina oko x osi\n",
    "gyro_y - rotacijska brzina oko y osi\n",
    "gyro_z - rotacijska brzina oko z osi\n",
    "euler_x - eulerov kut x osi\n",
    "euler_y - eulerov kut y osi\n",
    "euler_z - eulerov kut z osi\n",
    "quaternion_w - vrijednost w kvaterniona\n",
    "quaternion_y - vrijednost y kvaterniona\n",
    "quaternion_x - vrijednost x kvaterniona\n",
    "quaternion_z - vrijednost z kvaterniona"
   ],
   "metadata": {
    "collapsed": false
   }
  },
  {
   "cell_type": "code",
   "execution_count": 353,
   "outputs": [
    {
     "data": {
      "text/plain": "(1592, 4)"
     },
     "execution_count": 353,
     "metadata": {},
     "output_type": "execute_result"
    }
   ],
   "source": [
    "imuHead_ama.shape"
   ],
   "metadata": {
    "collapsed": false
   }
  },
  {
   "cell_type": "code",
   "execution_count": 354,
   "outputs": [
    {
     "data": {
      "text/plain": "   time  rot_x  rot_y  rot_z\n0   0.0    0.0    0.0    0.0\n1   1.0    0.0    0.0    0.0\n2   2.0    0.0    0.0    0.0\n3   3.0    0.0    0.0    0.0\n4   4.0    0.0    0.0    0.0",
      "text/html": "<div>\n<style scoped>\n    .dataframe tbody tr th:only-of-type {\n        vertical-align: middle;\n    }\n\n    .dataframe tbody tr th {\n        vertical-align: top;\n    }\n\n    .dataframe thead th {\n        text-align: right;\n    }\n</style>\n<table border=\"1\" class=\"dataframe\">\n  <thead>\n    <tr style=\"text-align: right;\">\n      <th></th>\n      <th>time</th>\n      <th>rot_x</th>\n      <th>rot_y</th>\n      <th>rot_z</th>\n    </tr>\n  </thead>\n  <tbody>\n    <tr>\n      <th>0</th>\n      <td>0.0</td>\n      <td>0.0</td>\n      <td>0.0</td>\n      <td>0.0</td>\n    </tr>\n    <tr>\n      <th>1</th>\n      <td>1.0</td>\n      <td>0.0</td>\n      <td>0.0</td>\n      <td>0.0</td>\n    </tr>\n    <tr>\n      <th>2</th>\n      <td>2.0</td>\n      <td>0.0</td>\n      <td>0.0</td>\n      <td>0.0</td>\n    </tr>\n    <tr>\n      <th>3</th>\n      <td>3.0</td>\n      <td>0.0</td>\n      <td>0.0</td>\n      <td>0.0</td>\n    </tr>\n    <tr>\n      <th>4</th>\n      <td>4.0</td>\n      <td>0.0</td>\n      <td>0.0</td>\n      <td>0.0</td>\n    </tr>\n  </tbody>\n</table>\n</div>"
     },
     "execution_count": 354,
     "metadata": {},
     "output_type": "execute_result"
    }
   ],
   "source": [
    "imuHead_ama.head()"
   ],
   "metadata": {
    "collapsed": false
   }
  },
  {
   "cell_type": "code",
   "execution_count": 355,
   "outputs": [
    {
     "data": {
      "text/plain": "array(['time', 'rot_x', 'rot_y', 'rot_z'], dtype=object)"
     },
     "execution_count": 355,
     "metadata": {},
     "output_type": "execute_result"
    }
   ],
   "source": [
    "imuHead_ama.columns.values"
   ],
   "metadata": {
    "collapsed": false
   }
  },
  {
   "cell_type": "markdown",
   "source": [
    "Značajke imuHead_ama:\n",
    "time - vrijeme u minutama\n",
    "rot_x - rotacija glave oko x osi\n",
    "rot_y - rotacija glave oko y osi\n",
    "rot_z - rotacija glave oko z osi"
   ],
   "metadata": {
    "collapsed": false
   }
  },
  {
   "cell_type": "markdown",
   "source": [
    "### Tipkovnica"
   ],
   "metadata": {
    "collapsed": false
   }
  },
  {
   "cell_type": "code",
   "execution_count": 356,
   "outputs": [
    {
     "data": {
      "text/plain": "(1593, 2)"
     },
     "execution_count": 356,
     "metadata": {},
     "output_type": "execute_result"
    }
   ],
   "source": [
    "keyboard_ama.shape"
   ],
   "metadata": {
    "collapsed": false
   }
  },
  {
   "cell_type": "code",
   "execution_count": 357,
   "outputs": [
    {
     "data": {
      "text/plain": "   time  buttons_pressed\n0   0.0              0.0\n1   1.0              0.0\n2   2.0              0.0\n3   3.0              0.0\n4   4.0              0.0",
      "text/html": "<div>\n<style scoped>\n    .dataframe tbody tr th:only-of-type {\n        vertical-align: middle;\n    }\n\n    .dataframe tbody tr th {\n        vertical-align: top;\n    }\n\n    .dataframe thead th {\n        text-align: right;\n    }\n</style>\n<table border=\"1\" class=\"dataframe\">\n  <thead>\n    <tr style=\"text-align: right;\">\n      <th></th>\n      <th>time</th>\n      <th>buttons_pressed</th>\n    </tr>\n  </thead>\n  <tbody>\n    <tr>\n      <th>0</th>\n      <td>0.0</td>\n      <td>0.0</td>\n    </tr>\n    <tr>\n      <th>1</th>\n      <td>1.0</td>\n      <td>0.0</td>\n    </tr>\n    <tr>\n      <th>2</th>\n      <td>2.0</td>\n      <td>0.0</td>\n    </tr>\n    <tr>\n      <th>3</th>\n      <td>3.0</td>\n      <td>0.0</td>\n    </tr>\n    <tr>\n      <th>4</th>\n      <td>4.0</td>\n      <td>0.0</td>\n    </tr>\n  </tbody>\n</table>\n</div>"
     },
     "execution_count": 357,
     "metadata": {},
     "output_type": "execute_result"
    }
   ],
   "source": [
    "keyboard_ama.head()"
   ],
   "metadata": {
    "collapsed": false
   }
  },
  {
   "cell_type": "code",
   "execution_count": 358,
   "outputs": [
    {
     "data": {
      "text/plain": "array(['time', 'buttons_pressed'], dtype=object)"
     },
     "execution_count": 358,
     "metadata": {},
     "output_type": "execute_result"
    }
   ],
   "source": [
    "keyboard_ama.columns.values"
   ],
   "metadata": {
    "collapsed": false
   }
  },
  {
   "cell_type": "markdown",
   "source": [
    "Značajke keyboard_ama:\n",
    "time - vrijeme u minutama\n",
    "buttons_pressed - broj pritisnutih tipki"
   ],
   "metadata": {
    "collapsed": false
   }
  },
  {
   "cell_type": "markdown",
   "source": [
    "### Miš"
   ],
   "metadata": {
    "collapsed": false
   }
  },
  {
   "cell_type": "code",
   "execution_count": 359,
   "outputs": [
    {
     "data": {
      "text/plain": "(1592, 3)"
     },
     "execution_count": 359,
     "metadata": {},
     "output_type": "execute_result"
    }
   ],
   "source": [
    "mouse_ama.shape"
   ],
   "metadata": {
    "collapsed": false
   }
  },
  {
   "cell_type": "code",
   "execution_count": 360,
   "outputs": [
    {
     "data": {
      "text/plain": "   time  mouse_movement  mouse_clicks\n0   0.0     1512.203046        1.0000\n1   1.0     2625.344249        1.5000\n2   2.0     2505.449371        3.7500\n3   3.0     1986.794607        1.8750\n4   4.0     4464.766116        0.9375",
      "text/html": "<div>\n<style scoped>\n    .dataframe tbody tr th:only-of-type {\n        vertical-align: middle;\n    }\n\n    .dataframe tbody tr th {\n        vertical-align: top;\n    }\n\n    .dataframe thead th {\n        text-align: right;\n    }\n</style>\n<table border=\"1\" class=\"dataframe\">\n  <thead>\n    <tr style=\"text-align: right;\">\n      <th></th>\n      <th>time</th>\n      <th>mouse_movement</th>\n      <th>mouse_clicks</th>\n    </tr>\n  </thead>\n  <tbody>\n    <tr>\n      <th>0</th>\n      <td>0.0</td>\n      <td>1512.203046</td>\n      <td>1.0000</td>\n    </tr>\n    <tr>\n      <th>1</th>\n      <td>1.0</td>\n      <td>2625.344249</td>\n      <td>1.5000</td>\n    </tr>\n    <tr>\n      <th>2</th>\n      <td>2.0</td>\n      <td>2505.449371</td>\n      <td>3.7500</td>\n    </tr>\n    <tr>\n      <th>3</th>\n      <td>3.0</td>\n      <td>1986.794607</td>\n      <td>1.8750</td>\n    </tr>\n    <tr>\n      <th>4</th>\n      <td>4.0</td>\n      <td>4464.766116</td>\n      <td>0.9375</td>\n    </tr>\n  </tbody>\n</table>\n</div>"
     },
     "execution_count": 360,
     "metadata": {},
     "output_type": "execute_result"
    }
   ],
   "source": [
    "mouse_ama.head()"
   ],
   "metadata": {
    "collapsed": false
   }
  },
  {
   "cell_type": "code",
   "execution_count": 361,
   "outputs": [
    {
     "data": {
      "text/plain": "array(['time', 'mouse_movement', 'mouse_clicks'], dtype=object)"
     },
     "execution_count": 361,
     "metadata": {},
     "output_type": "execute_result"
    }
   ],
   "source": [
    "mouse_ama.columns.values"
   ],
   "metadata": {
    "collapsed": false
   }
  },
  {
   "cell_type": "markdown",
   "source": [
    "Značajke mouse_ama:\n",
    "time - vrijeme u minutama\n",
    "mouse_movement - kretanje miša\n",
    "mouse_clicks - klikovi mišem"
   ],
   "metadata": {
    "collapsed": false
   }
  },
  {
   "cell_type": "markdown",
   "source": [
    "### Zasićenost kisikom"
   ],
   "metadata": {
    "collapsed": false
   }
  },
  {
   "cell_type": "code",
   "execution_count": 362,
   "outputs": [
    {
     "data": {
      "text/plain": "(1585, 2)"
     },
     "execution_count": 362,
     "metadata": {},
     "output_type": "execute_result"
    }
   ],
   "source": [
    "o2Saturation_ama.shape"
   ],
   "metadata": {
    "collapsed": false
   }
  },
  {
   "cell_type": "code",
   "execution_count": 363,
   "outputs": [
    {
     "data": {
      "text/plain": "   time       spo2\n0   5.0  99.854424\n1   6.0  99.736685\n2   7.0  99.602127\n3   8.0  99.454113\n4   9.0  99.296115",
      "text/html": "<div>\n<style scoped>\n    .dataframe tbody tr th:only-of-type {\n        vertical-align: middle;\n    }\n\n    .dataframe tbody tr th {\n        vertical-align: top;\n    }\n\n    .dataframe thead th {\n        text-align: right;\n    }\n</style>\n<table border=\"1\" class=\"dataframe\">\n  <thead>\n    <tr style=\"text-align: right;\">\n      <th></th>\n      <th>time</th>\n      <th>spo2</th>\n    </tr>\n  </thead>\n  <tbody>\n    <tr>\n      <th>0</th>\n      <td>5.0</td>\n      <td>99.854424</td>\n    </tr>\n    <tr>\n      <th>1</th>\n      <td>6.0</td>\n      <td>99.736685</td>\n    </tr>\n    <tr>\n      <th>2</th>\n      <td>7.0</td>\n      <td>99.602127</td>\n    </tr>\n    <tr>\n      <th>3</th>\n      <td>8.0</td>\n      <td>99.454113</td>\n    </tr>\n    <tr>\n      <th>4</th>\n      <td>9.0</td>\n      <td>99.296115</td>\n    </tr>\n  </tbody>\n</table>\n</div>"
     },
     "execution_count": 363,
     "metadata": {},
     "output_type": "execute_result"
    }
   ],
   "source": [
    "o2Saturation_ama.head()"
   ],
   "metadata": {
    "collapsed": false
   }
  },
  {
   "cell_type": "code",
   "execution_count": 364,
   "outputs": [
    {
     "data": {
      "text/plain": "array(['time', 'spo2'], dtype=object)"
     },
     "execution_count": 364,
     "metadata": {},
     "output_type": "execute_result"
    }
   ],
   "source": [
    "o2Saturation_ama.columns.values"
   ],
   "metadata": {
    "collapsed": false
   }
  },
  {
   "cell_type": "markdown",
   "source": [
    "Značajke o2Saturation_0:\n",
    "time - vrijeme u minutama\n",
    "spo2 - postotak zasićenosti kisikom"
   ],
   "metadata": {
    "collapsed": false
   }
  },
  {
   "cell_type": "markdown",
   "source": [
    "## Deskriptivna analiza"
   ],
   "metadata": {
    "collapsed": false
   }
  },
  {
   "cell_type": "code",
   "execution_count": 364,
   "outputs": [],
   "source": [],
   "metadata": {
    "collapsed": false
   }
  }
 ],
 "metadata": {
  "kernelspec": {
   "display_name": "Python 3",
   "language": "python",
   "name": "python3"
  },
  "language_info": {
   "codemirror_mode": {
    "name": "ipython",
    "version": 2
   },
   "file_extension": ".py",
   "mimetype": "text/x-python",
   "name": "python",
   "nbconvert_exporter": "python",
   "pygments_lexer": "ipython2",
   "version": "2.7.6"
  }
 },
 "nbformat": 4,
 "nbformat_minor": 0
}
